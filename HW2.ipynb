{
 "cells": [
  {
   "cell_type": "markdown",
   "metadata": {},
   "source": [
    "# Homework 2: More Exploratory Data Analysis\n",
    "## Gene Expression Data and Election Polls \n",
    "\n",
    "Due: Thursday, October 2, 2014 11:59 PM\n",
    "\n",
    "<a href=https://raw.githubusercontent.com/cs109/2014/master/homework/HW2.ipynb download=HW2.ipynb> Download this assignment</a>\n",
    "\n",
    "#### Submission Instructions\n",
    "To submit your homework, create a folder named lastname_firstinitial_hw# and place your IPython notebooks, data files, and any other files in this folder. Your IPython Notebooks should be completely executed with the results visible in the notebook. We should not have to run any code. Compress the folder (please use .zip compression) and submit to the CS109 dropbox in the appropriate folder. If we cannot access your work because these directions are not followed correctly, we will not grade your work.\n",
    "\n",
    "\n",
    "---"
   ]
  },
  {
   "cell_type": "markdown",
   "metadata": {},
   "source": [
    "## Introduction\n",
    "\n",
    "John Tukey wrote in [Exploratory Data Analysis, 1977](http://www.amazon.com/Exploratory-Data-Analysis-Wilder-Tukey/dp/0201076160/ref=pd_bbs_sr_2/103-4466654-5303007?ie=UTF8&s=books&qid=1189739816&sr=8-2): \"The greatest value of a picture is when it forces us to notice what we never expected to see.\" In this assignment we will continue using our exploratory data analysis tools, but apply it to new sets of data: [gene expression](http://en.wikipedia.org/wiki/Gene_expression) and polls from the [2012 Presidental Election](http://en.wikipedia.org/wiki/United_States_presidential_election,_2012) and from the [2014 Senate Midterm Elections](http://en.wikipedia.org/wiki/United_States_Senate_elections,_2014).   \n",
    "\n",
    "**First**: You will use exploratory data analysis and apply the [singular value decomposition](http://en.wikipedia.org/wiki/Singular_value_decomposition) (SVD) to a gene expression data matrix to determine if the the date that the gene expression samples are processed has large effect on the variability seen in the data.  \n",
    "\n",
    "**Second**: You will use the polls from the 2012 Presidential Elections to determine (1) Is there a pollster bias in presidential election polls? and (2) Is the average of polls better than just one poll?\n",
    "\n",
    "**Finally**: You will use the [HuffPost Pollster API](http://elections.huffingtonpost.com/pollster/api) to extract the polls for the current 2014 Senate Midterm Elections and provide a preliminary prediction of the result of each state.\n",
    "\n",
    "#### Data\n",
    "\n",
    "We will use the following data sets: \n",
    "\n",
    "1. A gene expression data set called `exprs_GSE5859.csv` and sample annotation table called `sampleinfo_GSE5859.csv` which are both available on Github in the 2014_data repository: [expression data set](https://github.com/cs109/2014_data/blob/master/exprs_GSE5859.csv) and [sample annotation table](https://github.com/cs109/2014_data/blob/master/sampleinfo_GSE5859.csv).  \n",
    "\n",
    "2. Polls from the [2012 Presidential Election: Barack Obama vs Mitt Romney](http://elections.huffingtonpost.com/pollster/2012-general-election-romney-vs-obama). The polls we will use are from the [Huffington Post Pollster](http://elections.huffingtonpost.com/pollster).  \n",
    "\n",
    "3. Polls from the [2014 Senate Midterm Elections](http://elections.huffingtonpost.com/pollster) from the [HuffPost Pollster API](http://elections.huffingtonpost.com/pollster/api). \n",
    "\n",
    "---"
   ]
  },
  {
   "cell_type": "markdown",
   "metadata": {},
   "source": [
    "## Load Python modules"
   ]
  },
  {
   "cell_type": "code",
   "execution_count": 55,
   "metadata": {
    "collapsed": true
   },
   "outputs": [],
   "source": [
    "# special IPython command to prepare the notebook for matplotlib\n",
    "%matplotlib inline \n",
    "\n",
    "import requests \n",
    "from StringIO import StringIO\n",
    "import numpy as np\n",
    "import pandas as pd # pandas\n",
    "import matplotlib.pyplot as plt # module for plotting \n",
    "import datetime as dt # module for manipulating dates and times\n",
    "import numpy.linalg as lin # module for performing linear algebra operations"
   ]
  },
  {
   "cell_type": "markdown",
   "metadata": {},
   "source": [
    "## Problem 1\n",
    "\n",
    "In this problem we will be using a [gene expression](http://en.wikipedia.org/wiki/Gene_expression) data set obtained from a [microarray](http://en.wikipedia.org/wiki/DNA_microarray) experiement [Read more about the specific experiment here](http://www.ncbi.nlm.nih.gov/geo/query/acc.cgi?acc=GSE5859).  There are two data sets we will use:  \n",
    "\n",
    "1. The gene expression intensities where the rows represent the features on the microarray (e.g. genes) and the columsns represent the different microarray samples.  \n",
    "\n",
    "2. A table that contains the information about each of the samples (columns in the gene expression data set) such as the sex, the age, the treatment status, the date the samples were processed.  Each row represents one sample. "
   ]
  },
  {
   "cell_type": "markdown",
   "metadata": {},
   "source": [
    "#### Problem 1(a) \n",
    "Read in the two files from Github: [exprs_GSE5859.csv](https://github.com/cs109/2014_data/blob/master/exprs_GSE5859.csv) and [sampleinfo_GSE5859.csv](https://github.com/cs109/2014_data/blob/master/sampleinfo_GSE5859.csv) as pandas DataFrames called `exprs` and `sampleinfo`. Use the gene names as the index of the `exprs` DataFrame."
   ]
  },
  {
   "cell_type": "code",
   "execution_count": 56,
   "metadata": {
    "collapsed": true
   },
   "outputs": [],
   "source": [
    "url1 = \"https://raw.githubusercontent.com/cs109/2014_data/master/exprs_GSE5859.csv\"\n",
    "url2 = \"https://raw.githubusercontent.com/cs109/2014_data/master/sampleinfo_GSE5859.csv\"\n",
    "#resp = requests.get(url)\n",
    "\n",
    "def urltoDF(url):\n",
    "    resp = requests.get(url)\n",
    "    resp_string = StringIO(resp.content)\n",
    "    df = pd.read_csv(resp_string)\n",
    "    return df\n",
    "\n",
    "exprs = urltoDF(url1)\n",
    "sampleinfo = urltoDF(url2)\n",
    "#exprs.head()"
   ]
  },
  {
   "cell_type": "code",
   "execution_count": 57,
   "metadata": {},
   "outputs": [
    {
     "data": {
      "text/html": [
       "<div>\n",
       "<style>\n",
       "    .dataframe thead tr:only-child th {\n",
       "        text-align: right;\n",
       "    }\n",
       "\n",
       "    .dataframe thead th {\n",
       "        text-align: left;\n",
       "    }\n",
       "\n",
       "    .dataframe tbody tr th {\n",
       "        vertical-align: top;\n",
       "    }\n",
       "</style>\n",
       "<table border=\"1\" class=\"dataframe\">\n",
       "  <thead>\n",
       "    <tr style=\"text-align: right;\">\n",
       "      <th></th>\n",
       "      <th>ethnicity</th>\n",
       "      <th>date</th>\n",
       "      <th>filename</th>\n",
       "      <th>sex</th>\n",
       "    </tr>\n",
       "  </thead>\n",
       "  <tbody>\n",
       "    <tr>\n",
       "      <th>0</th>\n",
       "      <td>CEU</td>\n",
       "      <td>2003-02-04</td>\n",
       "      <td>GSM25349.CEL.gz</td>\n",
       "      <td>M</td>\n",
       "    </tr>\n",
       "    <tr>\n",
       "      <th>1</th>\n",
       "      <td>CEU</td>\n",
       "      <td>2003-02-04</td>\n",
       "      <td>GSM25350.CEL.gz</td>\n",
       "      <td>M</td>\n",
       "    </tr>\n",
       "    <tr>\n",
       "      <th>2</th>\n",
       "      <td>CEU</td>\n",
       "      <td>2002-12-17</td>\n",
       "      <td>GSM25356.CEL.gz</td>\n",
       "      <td>M</td>\n",
       "    </tr>\n",
       "    <tr>\n",
       "      <th>3</th>\n",
       "      <td>CEU</td>\n",
       "      <td>2003-01-30</td>\n",
       "      <td>GSM25357.CEL.gz</td>\n",
       "      <td>M</td>\n",
       "    </tr>\n",
       "    <tr>\n",
       "      <th>4</th>\n",
       "      <td>CEU</td>\n",
       "      <td>2003-01-03</td>\n",
       "      <td>GSM25358.CEL.gz</td>\n",
       "      <td>M</td>\n",
       "    </tr>\n",
       "  </tbody>\n",
       "</table>\n",
       "</div>"
      ],
      "text/plain": [
       "  ethnicity        date         filename sex\n",
       "0       CEU  2003-02-04  GSM25349.CEL.gz   M\n",
       "1       CEU  2003-02-04  GSM25350.CEL.gz   M\n",
       "2       CEU  2002-12-17  GSM25356.CEL.gz   M\n",
       "3       CEU  2003-01-30  GSM25357.CEL.gz   M\n",
       "4       CEU  2003-01-03  GSM25358.CEL.gz   M"
      ]
     },
     "execution_count": 57,
     "metadata": {},
     "output_type": "execute_result"
    }
   ],
   "source": [
    "sampleinfo.head()"
   ]
  },
  {
   "cell_type": "code",
   "execution_count": 58,
   "metadata": {},
   "outputs": [
    {
     "data": {
      "text/html": [
       "<div>\n",
       "<style>\n",
       "    .dataframe thead tr:only-child th {\n",
       "        text-align: right;\n",
       "    }\n",
       "\n",
       "    .dataframe thead th {\n",
       "        text-align: left;\n",
       "    }\n",
       "\n",
       "    .dataframe tbody tr th {\n",
       "        vertical-align: top;\n",
       "    }\n",
       "</style>\n",
       "<table border=\"1\" class=\"dataframe\">\n",
       "  <thead>\n",
       "    <tr style=\"text-align: right;\">\n",
       "      <th></th>\n",
       "      <th>Unnamed: 0</th>\n",
       "      <th>GSM25581.CEL.gz</th>\n",
       "      <th>GSM25681.CEL.gz</th>\n",
       "      <th>GSM136524.CEL.gz</th>\n",
       "      <th>GSM136707.CEL.gz</th>\n",
       "      <th>GSM25553.CEL.gz</th>\n",
       "      <th>GSM136676.CEL.gz</th>\n",
       "      <th>GSM136711.CEL.gz</th>\n",
       "      <th>GSM136542.CEL.gz</th>\n",
       "      <th>GSM136535.CEL.gz</th>\n",
       "      <th>...</th>\n",
       "      <th>GSM48650.CEL.gz</th>\n",
       "      <th>GSM25687.CEL.gz</th>\n",
       "      <th>GSM25685.CEL.gz</th>\n",
       "      <th>GSM136549.CEL.gz</th>\n",
       "      <th>GSM25427.CEL.gz</th>\n",
       "      <th>GSM25525.CEL.gz</th>\n",
       "      <th>GSM25349.CEL.gz</th>\n",
       "      <th>GSM136727.CEL.gz</th>\n",
       "      <th>GSM25626.CEL.gz</th>\n",
       "      <th>GSM136725.CEL.gz</th>\n",
       "    </tr>\n",
       "  </thead>\n",
       "  <tbody>\n",
       "    <tr>\n",
       "      <th>0</th>\n",
       "      <td>1007_s_at</td>\n",
       "      <td>6.333951</td>\n",
       "      <td>5.736190</td>\n",
       "      <td>6.156754</td>\n",
       "      <td>6.513010</td>\n",
       "      <td>6.061013</td>\n",
       "      <td>6.506493</td>\n",
       "      <td>6.863426</td>\n",
       "      <td>6.369645</td>\n",
       "      <td>6.646321</td>\n",
       "      <td>...</td>\n",
       "      <td>7.082636</td>\n",
       "      <td>6.315866</td>\n",
       "      <td>7.010165</td>\n",
       "      <td>6.460107</td>\n",
       "      <td>6.122355</td>\n",
       "      <td>6.330314</td>\n",
       "      <td>6.627014</td>\n",
       "      <td>6.133068</td>\n",
       "      <td>6.419444</td>\n",
       "      <td>6.488579</td>\n",
       "    </tr>\n",
       "    <tr>\n",
       "      <th>1</th>\n",
       "      <td>1053_at</td>\n",
       "      <td>7.255622</td>\n",
       "      <td>7.399993</td>\n",
       "      <td>7.491967</td>\n",
       "      <td>7.006123</td>\n",
       "      <td>7.250995</td>\n",
       "      <td>7.082581</td>\n",
       "      <td>6.842236</td>\n",
       "      <td>7.048487</td>\n",
       "      <td>7.042361</td>\n",
       "      <td>...</td>\n",
       "      <td>6.599718</td>\n",
       "      <td>7.412731</td>\n",
       "      <td>7.274429</td>\n",
       "      <td>6.928642</td>\n",
       "      <td>7.168782</td>\n",
       "      <td>7.235648</td>\n",
       "      <td>6.939184</td>\n",
       "      <td>7.280781</td>\n",
       "      <td>6.351776</td>\n",
       "      <td>7.517410</td>\n",
       "    </tr>\n",
       "    <tr>\n",
       "      <th>2</th>\n",
       "      <td>117_at</td>\n",
       "      <td>5.760106</td>\n",
       "      <td>4.825169</td>\n",
       "      <td>5.039387</td>\n",
       "      <td>5.414160</td>\n",
       "      <td>5.205697</td>\n",
       "      <td>5.300078</td>\n",
       "      <td>5.099337</td>\n",
       "      <td>5.156459</td>\n",
       "      <td>5.736109</td>\n",
       "      <td>...</td>\n",
       "      <td>6.231457</td>\n",
       "      <td>5.240717</td>\n",
       "      <td>5.275062</td>\n",
       "      <td>5.759827</td>\n",
       "      <td>5.409720</td>\n",
       "      <td>5.491938</td>\n",
       "      <td>5.113570</td>\n",
       "      <td>5.401876</td>\n",
       "      <td>5.537605</td>\n",
       "      <td>5.247190</td>\n",
       "    </tr>\n",
       "    <tr>\n",
       "      <th>3</th>\n",
       "      <td>121_at</td>\n",
       "      <td>6.935451</td>\n",
       "      <td>7.025210</td>\n",
       "      <td>7.543667</td>\n",
       "      <td>7.959781</td>\n",
       "      <td>7.223323</td>\n",
       "      <td>8.006816</td>\n",
       "      <td>8.102504</td>\n",
       "      <td>7.434617</td>\n",
       "      <td>7.532321</td>\n",
       "      <td>...</td>\n",
       "      <td>8.215096</td>\n",
       "      <td>7.677593</td>\n",
       "      <td>7.923624</td>\n",
       "      <td>7.219401</td>\n",
       "      <td>7.432338</td>\n",
       "      <td>6.785174</td>\n",
       "      <td>7.833862</td>\n",
       "      <td>7.607461</td>\n",
       "      <td>7.302935</td>\n",
       "      <td>7.331864</td>\n",
       "    </tr>\n",
       "    <tr>\n",
       "      <th>4</th>\n",
       "      <td>1255_g_at</td>\n",
       "      <td>3.597872</td>\n",
       "      <td>3.108801</td>\n",
       "      <td>3.128269</td>\n",
       "      <td>3.364947</td>\n",
       "      <td>3.125909</td>\n",
       "      <td>3.186834</td>\n",
       "      <td>3.311022</td>\n",
       "      <td>3.092042</td>\n",
       "      <td>3.167737</td>\n",
       "      <td>...</td>\n",
       "      <td>3.331424</td>\n",
       "      <td>3.043856</td>\n",
       "      <td>3.151900</td>\n",
       "      <td>3.132253</td>\n",
       "      <td>3.250600</td>\n",
       "      <td>2.984125</td>\n",
       "      <td>3.152269</td>\n",
       "      <td>3.225123</td>\n",
       "      <td>3.222731</td>\n",
       "      <td>3.175846</td>\n",
       "    </tr>\n",
       "  </tbody>\n",
       "</table>\n",
       "<p>5 rows × 209 columns</p>\n",
       "</div>"
      ],
      "text/plain": [
       "  Unnamed: 0  GSM25581.CEL.gz  GSM25681.CEL.gz  GSM136524.CEL.gz  \\\n",
       "0  1007_s_at         6.333951         5.736190          6.156754   \n",
       "1    1053_at         7.255622         7.399993          7.491967   \n",
       "2     117_at         5.760106         4.825169          5.039387   \n",
       "3     121_at         6.935451         7.025210          7.543667   \n",
       "4  1255_g_at         3.597872         3.108801          3.128269   \n",
       "\n",
       "   GSM136707.CEL.gz  GSM25553.CEL.gz  GSM136676.CEL.gz  GSM136711.CEL.gz  \\\n",
       "0          6.513010         6.061013          6.506493          6.863426   \n",
       "1          7.006123         7.250995          7.082581          6.842236   \n",
       "2          5.414160         5.205697          5.300078          5.099337   \n",
       "3          7.959781         7.223323          8.006816          8.102504   \n",
       "4          3.364947         3.125909          3.186834          3.311022   \n",
       "\n",
       "   GSM136542.CEL.gz  GSM136535.CEL.gz        ...         GSM48650.CEL.gz  \\\n",
       "0          6.369645          6.646321        ...                7.082636   \n",
       "1          7.048487          7.042361        ...                6.599718   \n",
       "2          5.156459          5.736109        ...                6.231457   \n",
       "3          7.434617          7.532321        ...                8.215096   \n",
       "4          3.092042          3.167737        ...                3.331424   \n",
       "\n",
       "   GSM25687.CEL.gz  GSM25685.CEL.gz  GSM136549.CEL.gz  GSM25427.CEL.gz  \\\n",
       "0         6.315866         7.010165          6.460107         6.122355   \n",
       "1         7.412731         7.274429          6.928642         7.168782   \n",
       "2         5.240717         5.275062          5.759827         5.409720   \n",
       "3         7.677593         7.923624          7.219401         7.432338   \n",
       "4         3.043856         3.151900          3.132253         3.250600   \n",
       "\n",
       "   GSM25525.CEL.gz  GSM25349.CEL.gz  GSM136727.CEL.gz  GSM25626.CEL.gz  \\\n",
       "0         6.330314         6.627014          6.133068         6.419444   \n",
       "1         7.235648         6.939184          7.280781         6.351776   \n",
       "2         5.491938         5.113570          5.401876         5.537605   \n",
       "3         6.785174         7.833862          7.607461         7.302935   \n",
       "4         2.984125         3.152269          3.225123         3.222731   \n",
       "\n",
       "   GSM136725.CEL.gz  \n",
       "0          6.488579  \n",
       "1          7.517410  \n",
       "2          5.247190  \n",
       "3          7.331864  \n",
       "4          3.175846  \n",
       "\n",
       "[5 rows x 209 columns]"
      ]
     },
     "execution_count": 58,
     "metadata": {},
     "output_type": "execute_result"
    }
   ],
   "source": [
    "exprs.head()"
   ]
  },
  {
   "cell_type": "code",
   "execution_count": 59,
   "metadata": {},
   "outputs": [
    {
     "data": {
      "text/html": [
       "<div>\n",
       "<style>\n",
       "    .dataframe thead tr:only-child th {\n",
       "        text-align: right;\n",
       "    }\n",
       "\n",
       "    .dataframe thead th {\n",
       "        text-align: left;\n",
       "    }\n",
       "\n",
       "    .dataframe tbody tr th {\n",
       "        vertical-align: top;\n",
       "    }\n",
       "</style>\n",
       "<table border=\"1\" class=\"dataframe\">\n",
       "  <thead>\n",
       "    <tr style=\"text-align: right;\">\n",
       "      <th></th>\n",
       "      <th>GSM25581.CEL.gz</th>\n",
       "      <th>GSM25681.CEL.gz</th>\n",
       "      <th>GSM136524.CEL.gz</th>\n",
       "      <th>GSM136707.CEL.gz</th>\n",
       "      <th>GSM25553.CEL.gz</th>\n",
       "      <th>GSM136676.CEL.gz</th>\n",
       "      <th>GSM136711.CEL.gz</th>\n",
       "      <th>GSM136542.CEL.gz</th>\n",
       "      <th>GSM136535.CEL.gz</th>\n",
       "      <th>GSM25399.CEL.gz</th>\n",
       "      <th>...</th>\n",
       "      <th>GSM48650.CEL.gz</th>\n",
       "      <th>GSM25687.CEL.gz</th>\n",
       "      <th>GSM25685.CEL.gz</th>\n",
       "      <th>GSM136549.CEL.gz</th>\n",
       "      <th>GSM25427.CEL.gz</th>\n",
       "      <th>GSM25525.CEL.gz</th>\n",
       "      <th>GSM25349.CEL.gz</th>\n",
       "      <th>GSM136727.CEL.gz</th>\n",
       "      <th>GSM25626.CEL.gz</th>\n",
       "      <th>GSM136725.CEL.gz</th>\n",
       "    </tr>\n",
       "    <tr>\n",
       "      <th>Gene</th>\n",
       "      <th></th>\n",
       "      <th></th>\n",
       "      <th></th>\n",
       "      <th></th>\n",
       "      <th></th>\n",
       "      <th></th>\n",
       "      <th></th>\n",
       "      <th></th>\n",
       "      <th></th>\n",
       "      <th></th>\n",
       "      <th></th>\n",
       "      <th></th>\n",
       "      <th></th>\n",
       "      <th></th>\n",
       "      <th></th>\n",
       "      <th></th>\n",
       "      <th></th>\n",
       "      <th></th>\n",
       "      <th></th>\n",
       "      <th></th>\n",
       "      <th></th>\n",
       "    </tr>\n",
       "  </thead>\n",
       "  <tbody>\n",
       "    <tr>\n",
       "      <th>1007_s_at</th>\n",
       "      <td>6.333951</td>\n",
       "      <td>5.736190</td>\n",
       "      <td>6.156754</td>\n",
       "      <td>6.513010</td>\n",
       "      <td>6.061013</td>\n",
       "      <td>6.506493</td>\n",
       "      <td>6.863426</td>\n",
       "      <td>6.369645</td>\n",
       "      <td>6.646321</td>\n",
       "      <td>5.810930</td>\n",
       "      <td>...</td>\n",
       "      <td>7.082636</td>\n",
       "      <td>6.315866</td>\n",
       "      <td>7.010165</td>\n",
       "      <td>6.460107</td>\n",
       "      <td>6.122355</td>\n",
       "      <td>6.330314</td>\n",
       "      <td>6.627014</td>\n",
       "      <td>6.133068</td>\n",
       "      <td>6.419444</td>\n",
       "      <td>6.488579</td>\n",
       "    </tr>\n",
       "    <tr>\n",
       "      <th>1053_at</th>\n",
       "      <td>7.255622</td>\n",
       "      <td>7.399993</td>\n",
       "      <td>7.491967</td>\n",
       "      <td>7.006123</td>\n",
       "      <td>7.250995</td>\n",
       "      <td>7.082581</td>\n",
       "      <td>6.842236</td>\n",
       "      <td>7.048487</td>\n",
       "      <td>7.042361</td>\n",
       "      <td>6.666625</td>\n",
       "      <td>...</td>\n",
       "      <td>6.599718</td>\n",
       "      <td>7.412731</td>\n",
       "      <td>7.274429</td>\n",
       "      <td>6.928642</td>\n",
       "      <td>7.168782</td>\n",
       "      <td>7.235648</td>\n",
       "      <td>6.939184</td>\n",
       "      <td>7.280781</td>\n",
       "      <td>6.351776</td>\n",
       "      <td>7.517410</td>\n",
       "    </tr>\n",
       "    <tr>\n",
       "      <th>117_at</th>\n",
       "      <td>5.760106</td>\n",
       "      <td>4.825169</td>\n",
       "      <td>5.039387</td>\n",
       "      <td>5.414160</td>\n",
       "      <td>5.205697</td>\n",
       "      <td>5.300078</td>\n",
       "      <td>5.099337</td>\n",
       "      <td>5.156459</td>\n",
       "      <td>5.736109</td>\n",
       "      <td>5.807496</td>\n",
       "      <td>...</td>\n",
       "      <td>6.231457</td>\n",
       "      <td>5.240717</td>\n",
       "      <td>5.275062</td>\n",
       "      <td>5.759827</td>\n",
       "      <td>5.409720</td>\n",
       "      <td>5.491938</td>\n",
       "      <td>5.113570</td>\n",
       "      <td>5.401876</td>\n",
       "      <td>5.537605</td>\n",
       "      <td>5.247190</td>\n",
       "    </tr>\n",
       "    <tr>\n",
       "      <th>121_at</th>\n",
       "      <td>6.935451</td>\n",
       "      <td>7.025210</td>\n",
       "      <td>7.543667</td>\n",
       "      <td>7.959781</td>\n",
       "      <td>7.223323</td>\n",
       "      <td>8.006816</td>\n",
       "      <td>8.102504</td>\n",
       "      <td>7.434617</td>\n",
       "      <td>7.532321</td>\n",
       "      <td>7.711461</td>\n",
       "      <td>...</td>\n",
       "      <td>8.215096</td>\n",
       "      <td>7.677593</td>\n",
       "      <td>7.923624</td>\n",
       "      <td>7.219401</td>\n",
       "      <td>7.432338</td>\n",
       "      <td>6.785174</td>\n",
       "      <td>7.833862</td>\n",
       "      <td>7.607461</td>\n",
       "      <td>7.302935</td>\n",
       "      <td>7.331864</td>\n",
       "    </tr>\n",
       "    <tr>\n",
       "      <th>1255_g_at</th>\n",
       "      <td>3.597872</td>\n",
       "      <td>3.108801</td>\n",
       "      <td>3.128269</td>\n",
       "      <td>3.364947</td>\n",
       "      <td>3.125909</td>\n",
       "      <td>3.186834</td>\n",
       "      <td>3.311022</td>\n",
       "      <td>3.092042</td>\n",
       "      <td>3.167737</td>\n",
       "      <td>2.969579</td>\n",
       "      <td>...</td>\n",
       "      <td>3.331424</td>\n",
       "      <td>3.043856</td>\n",
       "      <td>3.151900</td>\n",
       "      <td>3.132253</td>\n",
       "      <td>3.250600</td>\n",
       "      <td>2.984125</td>\n",
       "      <td>3.152269</td>\n",
       "      <td>3.225123</td>\n",
       "      <td>3.222731</td>\n",
       "      <td>3.175846</td>\n",
       "    </tr>\n",
       "  </tbody>\n",
       "</table>\n",
       "<p>5 rows × 208 columns</p>\n",
       "</div>"
      ],
      "text/plain": [
       "           GSM25581.CEL.gz  GSM25681.CEL.gz  GSM136524.CEL.gz  \\\n",
       "Gene                                                            \n",
       "1007_s_at         6.333951         5.736190          6.156754   \n",
       "1053_at           7.255622         7.399993          7.491967   \n",
       "117_at            5.760106         4.825169          5.039387   \n",
       "121_at            6.935451         7.025210          7.543667   \n",
       "1255_g_at         3.597872         3.108801          3.128269   \n",
       "\n",
       "           GSM136707.CEL.gz  GSM25553.CEL.gz  GSM136676.CEL.gz  \\\n",
       "Gene                                                             \n",
       "1007_s_at          6.513010         6.061013          6.506493   \n",
       "1053_at            7.006123         7.250995          7.082581   \n",
       "117_at             5.414160         5.205697          5.300078   \n",
       "121_at             7.959781         7.223323          8.006816   \n",
       "1255_g_at          3.364947         3.125909          3.186834   \n",
       "\n",
       "           GSM136711.CEL.gz  GSM136542.CEL.gz  GSM136535.CEL.gz  \\\n",
       "Gene                                                              \n",
       "1007_s_at          6.863426          6.369645          6.646321   \n",
       "1053_at            6.842236          7.048487          7.042361   \n",
       "117_at             5.099337          5.156459          5.736109   \n",
       "121_at             8.102504          7.434617          7.532321   \n",
       "1255_g_at          3.311022          3.092042          3.167737   \n",
       "\n",
       "           GSM25399.CEL.gz        ...         GSM48650.CEL.gz  \\\n",
       "Gene                              ...                           \n",
       "1007_s_at         5.810930        ...                7.082636   \n",
       "1053_at           6.666625        ...                6.599718   \n",
       "117_at            5.807496        ...                6.231457   \n",
       "121_at            7.711461        ...                8.215096   \n",
       "1255_g_at         2.969579        ...                3.331424   \n",
       "\n",
       "           GSM25687.CEL.gz  GSM25685.CEL.gz  GSM136549.CEL.gz  \\\n",
       "Gene                                                            \n",
       "1007_s_at         6.315866         7.010165          6.460107   \n",
       "1053_at           7.412731         7.274429          6.928642   \n",
       "117_at            5.240717         5.275062          5.759827   \n",
       "121_at            7.677593         7.923624          7.219401   \n",
       "1255_g_at         3.043856         3.151900          3.132253   \n",
       "\n",
       "           GSM25427.CEL.gz  GSM25525.CEL.gz  GSM25349.CEL.gz  \\\n",
       "Gene                                                           \n",
       "1007_s_at         6.122355         6.330314         6.627014   \n",
       "1053_at           7.168782         7.235648         6.939184   \n",
       "117_at            5.409720         5.491938         5.113570   \n",
       "121_at            7.432338         6.785174         7.833862   \n",
       "1255_g_at         3.250600         2.984125         3.152269   \n",
       "\n",
       "           GSM136727.CEL.gz  GSM25626.CEL.gz  GSM136725.CEL.gz  \n",
       "Gene                                                            \n",
       "1007_s_at          6.133068         6.419444          6.488579  \n",
       "1053_at            7.280781         6.351776          7.517410  \n",
       "117_at             5.401876         5.537605          5.247190  \n",
       "121_at             7.607461         7.302935          7.331864  \n",
       "1255_g_at          3.225123         3.222731          3.175846  \n",
       "\n",
       "[5 rows x 208 columns]"
      ]
     },
     "execution_count": 59,
     "metadata": {},
     "output_type": "execute_result"
    }
   ],
   "source": [
    "exprs.rename(columns={'Unnamed: 0':'Gene'}, inplace=True)\n",
    "exprs.set_index('Gene').head()"
   ]
  },
  {
   "cell_type": "markdown",
   "metadata": {},
   "source": [
    "Make sure the order of the columns in the gene expression DataFrame match the order of file names in the sample annotation DataFrame. If the order of the columns the `exprs` DataFrame do not match the order of the file names in the `sampleinfo` DataFrame, reorder the columns in the `exprs` DataFrame. \n",
    "\n",
    "**Note**: The column names of the gene expression DataFrame are the filenames of the orignal files from which these data were obtained.  \n",
    "\n",
    "**Hint**: The method `list.index(x)` [[read here](https://docs.python.org/2/tutorial/datastructures.html)] can be used to return the index in the list of the first item whose value is x. It is an error if there is no such item. To check if the order of the columns in `exprs` matches the order of the rows in `sampleinfo`, you can check using the method `.all()` on a Boolean or list of Booleans: \n",
    "\n",
    "Example code: `(exprs.columns == sampleinfo.filename).all()`"
   ]
  },
  {
   "cell_type": "code",
   "execution_count": 60,
   "metadata": {},
   "outputs": [
    {
     "data": {
      "text/plain": [
       "False"
      ]
     },
     "execution_count": 60,
     "metadata": {},
     "output_type": "execute_result"
    }
   ],
   "source": [
    "#sampleinfo.shape (208, 4)\n",
    "#exprs.columns[1:]\n",
    "(exprs.columns[1:] == sampleinfo.filename).all()"
   ]
  },
  {
   "cell_type": "code",
   "execution_count": 61,
   "metadata": {},
   "outputs": [
    {
     "data": {
      "text/html": [
       "<div>\n",
       "<style>\n",
       "    .dataframe thead tr:only-child th {\n",
       "        text-align: right;\n",
       "    }\n",
       "\n",
       "    .dataframe thead th {\n",
       "        text-align: left;\n",
       "    }\n",
       "\n",
       "    .dataframe tbody tr th {\n",
       "        vertical-align: top;\n",
       "    }\n",
       "</style>\n",
       "<table border=\"1\" class=\"dataframe\">\n",
       "  <thead>\n",
       "    <tr style=\"text-align: right;\">\n",
       "      <th></th>\n",
       "      <th>ethnicity</th>\n",
       "      <th>date</th>\n",
       "      <th>filename</th>\n",
       "      <th>sex</th>\n",
       "    </tr>\n",
       "  </thead>\n",
       "  <tbody>\n",
       "    <tr>\n",
       "      <th>99</th>\n",
       "      <td>ASN</td>\n",
       "      <td>2005-05-13</td>\n",
       "      <td>GSM136441.CEL.gz</td>\n",
       "      <td>F</td>\n",
       "    </tr>\n",
       "    <tr>\n",
       "      <th>100</th>\n",
       "      <td>ASN</td>\n",
       "      <td>2005-06-10</td>\n",
       "      <td>GSM136442.CEL.gz</td>\n",
       "      <td>F</td>\n",
       "    </tr>\n",
       "    <tr>\n",
       "      <th>101</th>\n",
       "      <td>ASN</td>\n",
       "      <td>2005-06-10</td>\n",
       "      <td>GSM136443.CEL.gz</td>\n",
       "      <td>M</td>\n",
       "    </tr>\n",
       "    <tr>\n",
       "      <th>102</th>\n",
       "      <td>ASN</td>\n",
       "      <td>2005-06-10</td>\n",
       "      <td>GSM136444.CEL.gz</td>\n",
       "      <td>M</td>\n",
       "    </tr>\n",
       "    <tr>\n",
       "      <th>103</th>\n",
       "      <td>ASN</td>\n",
       "      <td>2005-06-10</td>\n",
       "      <td>GSM136445.CEL.gz</td>\n",
       "      <td>F</td>\n",
       "    </tr>\n",
       "    <tr>\n",
       "      <th>104</th>\n",
       "      <td>ASN</td>\n",
       "      <td>2005-06-10</td>\n",
       "      <td>GSM136506.CEL.gz</td>\n",
       "      <td>M</td>\n",
       "    </tr>\n",
       "    <tr>\n",
       "      <th>105</th>\n",
       "      <td>ASN</td>\n",
       "      <td>2005-06-23</td>\n",
       "      <td>GSM136507.CEL.gz</td>\n",
       "      <td>M</td>\n",
       "    </tr>\n",
       "    <tr>\n",
       "      <th>106</th>\n",
       "      <td>ASN</td>\n",
       "      <td>2005-06-23</td>\n",
       "      <td>GSM136508.CEL.gz</td>\n",
       "      <td>M</td>\n",
       "    </tr>\n",
       "    <tr>\n",
       "      <th>107</th>\n",
       "      <td>ASN</td>\n",
       "      <td>2005-06-23</td>\n",
       "      <td>GSM136509.CEL.gz</td>\n",
       "      <td>M</td>\n",
       "    </tr>\n",
       "    <tr>\n",
       "      <th>108</th>\n",
       "      <td>ASN</td>\n",
       "      <td>2005-06-23</td>\n",
       "      <td>GSM136510.CEL.gz</td>\n",
       "      <td>M</td>\n",
       "    </tr>\n",
       "  </tbody>\n",
       "</table>\n",
       "</div>"
      ],
      "text/plain": [
       "    ethnicity        date          filename sex\n",
       "99        ASN  2005-05-13  GSM136441.CEL.gz   F\n",
       "100       ASN  2005-06-10  GSM136442.CEL.gz   F\n",
       "101       ASN  2005-06-10  GSM136443.CEL.gz   M\n",
       "102       ASN  2005-06-10  GSM136444.CEL.gz   M\n",
       "103       ASN  2005-06-10  GSM136445.CEL.gz   F\n",
       "104       ASN  2005-06-10  GSM136506.CEL.gz   M\n",
       "105       ASN  2005-06-23  GSM136507.CEL.gz   M\n",
       "106       ASN  2005-06-23  GSM136508.CEL.gz   M\n",
       "107       ASN  2005-06-23  GSM136509.CEL.gz   M\n",
       "108       ASN  2005-06-23  GSM136510.CEL.gz   M"
      ]
     },
     "execution_count": 61,
     "metadata": {},
     "output_type": "execute_result"
    }
   ],
   "source": [
    "#sort the sampleinfo by the column filename\n",
    "sortedsampleinfo = sampleinfo.sort_values('filename', axis=0)\n",
    "sortedsampleinfo.head(10)"
   ]
  },
  {
   "cell_type": "code",
   "execution_count": 62,
   "metadata": {
    "collapsed": true
   },
   "outputs": [],
   "source": [
    "#exprs.sort_values(exprs.index, axis=1)\n",
    "sortedexprs = exprs[sorted(exprs.columns)]"
   ]
  },
  {
   "cell_type": "code",
   "execution_count": 63,
   "metadata": {},
   "outputs": [
    {
     "data": {
      "text/html": [
       "<div>\n",
       "<style>\n",
       "    .dataframe thead tr:only-child th {\n",
       "        text-align: right;\n",
       "    }\n",
       "\n",
       "    .dataframe thead th {\n",
       "        text-align: left;\n",
       "    }\n",
       "\n",
       "    .dataframe tbody tr th {\n",
       "        vertical-align: top;\n",
       "    }\n",
       "</style>\n",
       "<table border=\"1\" class=\"dataframe\">\n",
       "  <thead>\n",
       "    <tr style=\"text-align: right;\">\n",
       "      <th></th>\n",
       "      <th>GSM136441.CEL.gz</th>\n",
       "      <th>GSM136442.CEL.gz</th>\n",
       "      <th>GSM136443.CEL.gz</th>\n",
       "      <th>GSM136444.CEL.gz</th>\n",
       "      <th>GSM136445.CEL.gz</th>\n",
       "      <th>GSM136506.CEL.gz</th>\n",
       "      <th>GSM136507.CEL.gz</th>\n",
       "      <th>GSM136508.CEL.gz</th>\n",
       "      <th>GSM136509.CEL.gz</th>\n",
       "      <th>GSM136510.CEL.gz</th>\n",
       "      <th>...</th>\n",
       "      <th>GSM48655.CEL.gz</th>\n",
       "      <th>GSM48656.CEL.gz</th>\n",
       "      <th>GSM48657.CEL.gz</th>\n",
       "      <th>GSM48658.CEL.gz</th>\n",
       "      <th>GSM48660.CEL.gz</th>\n",
       "      <th>GSM48661.CEL.gz</th>\n",
       "      <th>GSM48662.CEL.gz</th>\n",
       "      <th>GSM48663.CEL.gz</th>\n",
       "      <th>GSM48664.CEL.gz</th>\n",
       "      <th>GSM48665.CEL.gz</th>\n",
       "    </tr>\n",
       "    <tr>\n",
       "      <th>Gene</th>\n",
       "      <th></th>\n",
       "      <th></th>\n",
       "      <th></th>\n",
       "      <th></th>\n",
       "      <th></th>\n",
       "      <th></th>\n",
       "      <th></th>\n",
       "      <th></th>\n",
       "      <th></th>\n",
       "      <th></th>\n",
       "      <th></th>\n",
       "      <th></th>\n",
       "      <th></th>\n",
       "      <th></th>\n",
       "      <th></th>\n",
       "      <th></th>\n",
       "      <th></th>\n",
       "      <th></th>\n",
       "      <th></th>\n",
       "      <th></th>\n",
       "      <th></th>\n",
       "    </tr>\n",
       "  </thead>\n",
       "  <tbody>\n",
       "    <tr>\n",
       "      <th>1007_s_at</th>\n",
       "      <td>6.302996</td>\n",
       "      <td>6.444051</td>\n",
       "      <td>6.238090</td>\n",
       "      <td>6.499574</td>\n",
       "      <td>6.454842</td>\n",
       "      <td>6.171587</td>\n",
       "      <td>6.517539</td>\n",
       "      <td>6.543954</td>\n",
       "      <td>6.379983</td>\n",
       "      <td>6.502051</td>\n",
       "      <td>...</td>\n",
       "      <td>6.237984</td>\n",
       "      <td>6.704893</td>\n",
       "      <td>6.720599</td>\n",
       "      <td>6.501510</td>\n",
       "      <td>6.558100</td>\n",
       "      <td>6.618286</td>\n",
       "      <td>6.869995</td>\n",
       "      <td>5.981000</td>\n",
       "      <td>6.403285</td>\n",
       "      <td>6.248702</td>\n",
       "    </tr>\n",
       "    <tr>\n",
       "      <th>1053_at</th>\n",
       "      <td>7.097359</td>\n",
       "      <td>7.099125</td>\n",
       "      <td>7.308965</td>\n",
       "      <td>6.889842</td>\n",
       "      <td>6.880901</td>\n",
       "      <td>7.123658</td>\n",
       "      <td>7.689282</td>\n",
       "      <td>7.546708</td>\n",
       "      <td>7.702533</td>\n",
       "      <td>7.302209</td>\n",
       "      <td>...</td>\n",
       "      <td>7.169030</td>\n",
       "      <td>6.658916</td>\n",
       "      <td>7.280992</td>\n",
       "      <td>7.066686</td>\n",
       "      <td>7.386702</td>\n",
       "      <td>6.407958</td>\n",
       "      <td>7.089180</td>\n",
       "      <td>7.120923</td>\n",
       "      <td>7.018998</td>\n",
       "      <td>7.155419</td>\n",
       "    </tr>\n",
       "    <tr>\n",
       "      <th>117_at</th>\n",
       "      <td>5.204992</td>\n",
       "      <td>5.448902</td>\n",
       "      <td>5.440455</td>\n",
       "      <td>5.386826</td>\n",
       "      <td>5.147856</td>\n",
       "      <td>5.298285</td>\n",
       "      <td>5.562001</td>\n",
       "      <td>5.402622</td>\n",
       "      <td>5.398616</td>\n",
       "      <td>5.395087</td>\n",
       "      <td>...</td>\n",
       "      <td>5.095864</td>\n",
       "      <td>5.308445</td>\n",
       "      <td>5.347524</td>\n",
       "      <td>5.600514</td>\n",
       "      <td>5.232676</td>\n",
       "      <td>5.630720</td>\n",
       "      <td>4.944748</td>\n",
       "      <td>5.275577</td>\n",
       "      <td>5.770358</td>\n",
       "      <td>5.616842</td>\n",
       "    </tr>\n",
       "    <tr>\n",
       "      <th>121_at</th>\n",
       "      <td>7.380881</td>\n",
       "      <td>7.638094</td>\n",
       "      <td>7.720119</td>\n",
       "      <td>7.822919</td>\n",
       "      <td>7.914191</td>\n",
       "      <td>7.636683</td>\n",
       "      <td>7.612557</td>\n",
       "      <td>7.892544</td>\n",
       "      <td>7.511478</td>\n",
       "      <td>7.993732</td>\n",
       "      <td>...</td>\n",
       "      <td>7.220390</td>\n",
       "      <td>7.712825</td>\n",
       "      <td>7.671745</td>\n",
       "      <td>7.437535</td>\n",
       "      <td>7.714650</td>\n",
       "      <td>7.416252</td>\n",
       "      <td>7.746448</td>\n",
       "      <td>8.001434</td>\n",
       "      <td>7.626723</td>\n",
       "      <td>7.452299</td>\n",
       "    </tr>\n",
       "    <tr>\n",
       "      <th>1255_g_at</th>\n",
       "      <td>3.200968</td>\n",
       "      <td>3.327960</td>\n",
       "      <td>3.192055</td>\n",
       "      <td>3.538002</td>\n",
       "      <td>3.352793</td>\n",
       "      <td>3.207580</td>\n",
       "      <td>3.107306</td>\n",
       "      <td>3.242779</td>\n",
       "      <td>3.212051</td>\n",
       "      <td>3.440186</td>\n",
       "      <td>...</td>\n",
       "      <td>2.926689</td>\n",
       "      <td>3.103790</td>\n",
       "      <td>3.016090</td>\n",
       "      <td>3.009983</td>\n",
       "      <td>3.151203</td>\n",
       "      <td>3.199709</td>\n",
       "      <td>3.159496</td>\n",
       "      <td>3.149710</td>\n",
       "      <td>3.242780</td>\n",
       "      <td>3.433125</td>\n",
       "    </tr>\n",
       "  </tbody>\n",
       "</table>\n",
       "<p>5 rows × 208 columns</p>\n",
       "</div>"
      ],
      "text/plain": [
       "           GSM136441.CEL.gz  GSM136442.CEL.gz  GSM136443.CEL.gz  \\\n",
       "Gene                                                              \n",
       "1007_s_at          6.302996          6.444051          6.238090   \n",
       "1053_at            7.097359          7.099125          7.308965   \n",
       "117_at             5.204992          5.448902          5.440455   \n",
       "121_at             7.380881          7.638094          7.720119   \n",
       "1255_g_at          3.200968          3.327960          3.192055   \n",
       "\n",
       "           GSM136444.CEL.gz  GSM136445.CEL.gz  GSM136506.CEL.gz  \\\n",
       "Gene                                                              \n",
       "1007_s_at          6.499574          6.454842          6.171587   \n",
       "1053_at            6.889842          6.880901          7.123658   \n",
       "117_at             5.386826          5.147856          5.298285   \n",
       "121_at             7.822919          7.914191          7.636683   \n",
       "1255_g_at          3.538002          3.352793          3.207580   \n",
       "\n",
       "           GSM136507.CEL.gz  GSM136508.CEL.gz  GSM136509.CEL.gz  \\\n",
       "Gene                                                              \n",
       "1007_s_at          6.517539          6.543954          6.379983   \n",
       "1053_at            7.689282          7.546708          7.702533   \n",
       "117_at             5.562001          5.402622          5.398616   \n",
       "121_at             7.612557          7.892544          7.511478   \n",
       "1255_g_at          3.107306          3.242779          3.212051   \n",
       "\n",
       "           GSM136510.CEL.gz       ...         GSM48655.CEL.gz  \\\n",
       "Gene                              ...                           \n",
       "1007_s_at          6.502051       ...                6.237984   \n",
       "1053_at            7.302209       ...                7.169030   \n",
       "117_at             5.395087       ...                5.095864   \n",
       "121_at             7.993732       ...                7.220390   \n",
       "1255_g_at          3.440186       ...                2.926689   \n",
       "\n",
       "           GSM48656.CEL.gz  GSM48657.CEL.gz  GSM48658.CEL.gz  GSM48660.CEL.gz  \\\n",
       "Gene                                                                            \n",
       "1007_s_at         6.704893         6.720599         6.501510         6.558100   \n",
       "1053_at           6.658916         7.280992         7.066686         7.386702   \n",
       "117_at            5.308445         5.347524         5.600514         5.232676   \n",
       "121_at            7.712825         7.671745         7.437535         7.714650   \n",
       "1255_g_at         3.103790         3.016090         3.009983         3.151203   \n",
       "\n",
       "           GSM48661.CEL.gz  GSM48662.CEL.gz  GSM48663.CEL.gz  GSM48664.CEL.gz  \\\n",
       "Gene                                                                            \n",
       "1007_s_at         6.618286         6.869995         5.981000         6.403285   \n",
       "1053_at           6.407958         7.089180         7.120923         7.018998   \n",
       "117_at            5.630720         4.944748         5.275577         5.770358   \n",
       "121_at            7.416252         7.746448         8.001434         7.626723   \n",
       "1255_g_at         3.199709         3.159496         3.149710         3.242780   \n",
       "\n",
       "           GSM48665.CEL.gz  \n",
       "Gene                        \n",
       "1007_s_at         6.248702  \n",
       "1053_at           7.155419  \n",
       "117_at            5.616842  \n",
       "121_at            7.452299  \n",
       "1255_g_at         3.433125  \n",
       "\n",
       "[5 rows x 208 columns]"
      ]
     },
     "execution_count": 63,
     "metadata": {},
     "output_type": "execute_result"
    }
   ],
   "source": [
    "indexeprs = sortedexprs.set_index('Gene')\n",
    "indexeprs.head()"
   ]
  },
  {
   "cell_type": "code",
   "execution_count": 64,
   "metadata": {},
   "outputs": [
    {
     "data": {
      "text/plain": [
       "True"
      ]
     },
     "execution_count": 64,
     "metadata": {},
     "output_type": "execute_result"
    }
   ],
   "source": [
    "#new test of the order!\n",
    "(indexeprs.columns == sortedsampleinfo.filename).all()"
   ]
  },
  {
   "cell_type": "markdown",
   "metadata": {},
   "source": [
    "Show the head of the two tables: `exprs` and `sampleinfo`. "
   ]
  },
  {
   "cell_type": "code",
   "execution_count": 11,
   "metadata": {},
   "outputs": [
    {
     "name": "stdout",
     "output_type": "stream",
     "text": [
      "           GSM136441.CEL.gz  GSM136442.CEL.gz  GSM136443.CEL.gz  \\\n",
      "Gene                                                              \n",
      "1007_s_at          6.302996          6.444051          6.238090   \n",
      "1053_at            7.097359          7.099125          7.308965   \n",
      "117_at             5.204992          5.448902          5.440455   \n",
      "121_at             7.380881          7.638094          7.720119   \n",
      "1255_g_at          3.200968          3.327960          3.192055   \n",
      "\n",
      "           GSM136444.CEL.gz  GSM136445.CEL.gz  GSM136506.CEL.gz  \\\n",
      "Gene                                                              \n",
      "1007_s_at          6.499574          6.454842          6.171587   \n",
      "1053_at            6.889842          6.880901          7.123658   \n",
      "117_at             5.386826          5.147856          5.298285   \n",
      "121_at             7.822919          7.914191          7.636683   \n",
      "1255_g_at          3.538002          3.352793          3.207580   \n",
      "\n",
      "           GSM136507.CEL.gz  GSM136508.CEL.gz  GSM136509.CEL.gz  \\\n",
      "Gene                                                              \n",
      "1007_s_at          6.517539          6.543954          6.379983   \n",
      "1053_at            7.689282          7.546708          7.702533   \n",
      "117_at             5.562001          5.402622          5.398616   \n",
      "121_at             7.612557          7.892544          7.511478   \n",
      "1255_g_at          3.107306          3.242779          3.212051   \n",
      "\n",
      "           GSM136510.CEL.gz       ...         GSM48655.CEL.gz  \\\n",
      "Gene                              ...                           \n",
      "1007_s_at          6.502051       ...                6.237984   \n",
      "1053_at            7.302209       ...                7.169030   \n",
      "117_at             5.395087       ...                5.095864   \n",
      "121_at             7.993732       ...                7.220390   \n",
      "1255_g_at          3.440186       ...                2.926689   \n",
      "\n",
      "           GSM48656.CEL.gz  GSM48657.CEL.gz  GSM48658.CEL.gz  GSM48660.CEL.gz  \\\n",
      "Gene                                                                            \n",
      "1007_s_at         6.704893         6.720599         6.501510         6.558100   \n",
      "1053_at           6.658916         7.280992         7.066686         7.386702   \n",
      "117_at            5.308445         5.347524         5.600514         5.232676   \n",
      "121_at            7.712825         7.671745         7.437535         7.714650   \n",
      "1255_g_at         3.103790         3.016090         3.009983         3.151203   \n",
      "\n",
      "           GSM48661.CEL.gz  GSM48662.CEL.gz  GSM48663.CEL.gz  GSM48664.CEL.gz  \\\n",
      "Gene                                                                            \n",
      "1007_s_at         6.618286         6.869995         5.981000         6.403285   \n",
      "1053_at           6.407958         7.089180         7.120923         7.018998   \n",
      "117_at            5.630720         4.944748         5.275577         5.770358   \n",
      "121_at            7.416252         7.746448         8.001434         7.626723   \n",
      "1255_g_at         3.199709         3.159496         3.149710         3.242780   \n",
      "\n",
      "           GSM48665.CEL.gz  \n",
      "Gene                        \n",
      "1007_s_at         6.248702  \n",
      "1053_at           7.155419  \n",
      "117_at            5.616842  \n",
      "121_at            7.452299  \n",
      "1255_g_at         3.433125  \n",
      "\n",
      "[5 rows x 208 columns]\n",
      "    ethnicity        date          filename sex\n",
      "99        ASN  2005-05-13  GSM136441.CEL.gz   F\n",
      "100       ASN  2005-06-10  GSM136442.CEL.gz   F\n",
      "101       ASN  2005-06-10  GSM136443.CEL.gz   M\n",
      "102       ASN  2005-06-10  GSM136444.CEL.gz   M\n",
      "103       ASN  2005-06-10  GSM136445.CEL.gz   F\n"
     ]
    }
   ],
   "source": [
    "print indexeprs.head()\n",
    "print sortedsampleinfo.head()"
   ]
  },
  {
   "cell_type": "markdown",
   "metadata": {},
   "source": [
    "#### Problem 1(b)\n",
    "\n",
    "Extract the year and month as integers from the `sampleinfo` table. \n",
    "\n",
    "**Hint**: To convert a Series or a column of a pandas DataFrame that contains a date-like object, you can use the `to_datetime` function [[read here](http://pandas.pydata.org/pandas-docs/stable/timeseries.html)].  This will create a `DatetimeIndex` which can be used to extract the month and year for each row in the DataFrame. "
   ]
  },
  {
   "cell_type": "code",
   "execution_count": 65,
   "metadata": {},
   "outputs": [
    {
     "data": {
      "text/plain": [
       "ethnicity            object\n",
       "date         datetime64[ns]\n",
       "filename             object\n",
       "sex                  object\n",
       "dtype: object"
      ]
     },
     "execution_count": 65,
     "metadata": {},
     "output_type": "execute_result"
    }
   ],
   "source": [
    "#convert to datetime\n",
    "sortedsampleinfo['date'] = pd.to_datetime(sortedsampleinfo['date'])\n",
    "sortedsampleinfo.dtypes"
   ]
  },
  {
   "cell_type": "code",
   "execution_count": 68,
   "metadata": {},
   "outputs": [
    {
     "data": {
      "text/html": [
       "<div>\n",
       "<style>\n",
       "    .dataframe thead tr:only-child th {\n",
       "        text-align: right;\n",
       "    }\n",
       "\n",
       "    .dataframe thead th {\n",
       "        text-align: left;\n",
       "    }\n",
       "\n",
       "    .dataframe tbody tr th {\n",
       "        vertical-align: top;\n",
       "    }\n",
       "</style>\n",
       "<table border=\"1\" class=\"dataframe\">\n",
       "  <thead>\n",
       "    <tr style=\"text-align: right;\">\n",
       "      <th></th>\n",
       "      <th>ethnicity</th>\n",
       "      <th>date</th>\n",
       "      <th>filename</th>\n",
       "      <th>sex</th>\n",
       "      <th>year</th>\n",
       "      <th>month</th>\n",
       "    </tr>\n",
       "  </thead>\n",
       "  <tbody>\n",
       "    <tr>\n",
       "      <th>99</th>\n",
       "      <td>ASN</td>\n",
       "      <td>2005-05-13</td>\n",
       "      <td>GSM136441.CEL.gz</td>\n",
       "      <td>F</td>\n",
       "      <td>2005</td>\n",
       "      <td>5</td>\n",
       "    </tr>\n",
       "    <tr>\n",
       "      <th>100</th>\n",
       "      <td>ASN</td>\n",
       "      <td>2005-06-10</td>\n",
       "      <td>GSM136442.CEL.gz</td>\n",
       "      <td>F</td>\n",
       "      <td>2005</td>\n",
       "      <td>6</td>\n",
       "    </tr>\n",
       "    <tr>\n",
       "      <th>101</th>\n",
       "      <td>ASN</td>\n",
       "      <td>2005-06-10</td>\n",
       "      <td>GSM136443.CEL.gz</td>\n",
       "      <td>M</td>\n",
       "      <td>2005</td>\n",
       "      <td>6</td>\n",
       "    </tr>\n",
       "    <tr>\n",
       "      <th>102</th>\n",
       "      <td>ASN</td>\n",
       "      <td>2005-06-10</td>\n",
       "      <td>GSM136444.CEL.gz</td>\n",
       "      <td>M</td>\n",
       "      <td>2005</td>\n",
       "      <td>6</td>\n",
       "    </tr>\n",
       "    <tr>\n",
       "      <th>103</th>\n",
       "      <td>ASN</td>\n",
       "      <td>2005-06-10</td>\n",
       "      <td>GSM136445.CEL.gz</td>\n",
       "      <td>F</td>\n",
       "      <td>2005</td>\n",
       "      <td>6</td>\n",
       "    </tr>\n",
       "  </tbody>\n",
       "</table>\n",
       "</div>"
      ],
      "text/plain": [
       "    ethnicity       date          filename sex  year  month\n",
       "99        ASN 2005-05-13  GSM136441.CEL.gz   F  2005      5\n",
       "100       ASN 2005-06-10  GSM136442.CEL.gz   F  2005      6\n",
       "101       ASN 2005-06-10  GSM136443.CEL.gz   M  2005      6\n",
       "102       ASN 2005-06-10  GSM136444.CEL.gz   M  2005      6\n",
       "103       ASN 2005-06-10  GSM136445.CEL.gz   F  2005      6"
      ]
     },
     "execution_count": 68,
     "metadata": {},
     "output_type": "execute_result"
    }
   ],
   "source": [
    "#implementation with a map\n",
    "sortedsampleinfo['year'] = map(lambda x: x.year,sortedsampleinfo['date'] )\n",
    "sortedsampleinfo['month'] = map(lambda x: x.month,sortedsampleinfo['date'] )\n",
    "sortedsampleinfo.head()"
   ]
  },
  {
   "cell_type": "code",
   "execution_count": 69,
   "metadata": {},
   "outputs": [
    {
     "data": {
      "text/html": [
       "<div>\n",
       "<style>\n",
       "    .dataframe thead tr:only-child th {\n",
       "        text-align: right;\n",
       "    }\n",
       "\n",
       "    .dataframe thead th {\n",
       "        text-align: left;\n",
       "    }\n",
       "\n",
       "    .dataframe tbody tr th {\n",
       "        vertical-align: top;\n",
       "    }\n",
       "</style>\n",
       "<table border=\"1\" class=\"dataframe\">\n",
       "  <thead>\n",
       "    <tr style=\"text-align: right;\">\n",
       "      <th></th>\n",
       "      <th>ethnicity</th>\n",
       "      <th>date</th>\n",
       "      <th>filename</th>\n",
       "      <th>sex</th>\n",
       "      <th>year</th>\n",
       "      <th>month</th>\n",
       "    </tr>\n",
       "  </thead>\n",
       "  <tbody>\n",
       "    <tr>\n",
       "      <th>99</th>\n",
       "      <td>ASN</td>\n",
       "      <td>2005-05-13</td>\n",
       "      <td>GSM136441.CEL.gz</td>\n",
       "      <td>F</td>\n",
       "      <td>2005</td>\n",
       "      <td>5</td>\n",
       "    </tr>\n",
       "    <tr>\n",
       "      <th>100</th>\n",
       "      <td>ASN</td>\n",
       "      <td>2005-06-10</td>\n",
       "      <td>GSM136442.CEL.gz</td>\n",
       "      <td>F</td>\n",
       "      <td>2005</td>\n",
       "      <td>6</td>\n",
       "    </tr>\n",
       "    <tr>\n",
       "      <th>101</th>\n",
       "      <td>ASN</td>\n",
       "      <td>2005-06-10</td>\n",
       "      <td>GSM136443.CEL.gz</td>\n",
       "      <td>M</td>\n",
       "      <td>2005</td>\n",
       "      <td>6</td>\n",
       "    </tr>\n",
       "    <tr>\n",
       "      <th>102</th>\n",
       "      <td>ASN</td>\n",
       "      <td>2005-06-10</td>\n",
       "      <td>GSM136444.CEL.gz</td>\n",
       "      <td>M</td>\n",
       "      <td>2005</td>\n",
       "      <td>6</td>\n",
       "    </tr>\n",
       "    <tr>\n",
       "      <th>103</th>\n",
       "      <td>ASN</td>\n",
       "      <td>2005-06-10</td>\n",
       "      <td>GSM136445.CEL.gz</td>\n",
       "      <td>F</td>\n",
       "      <td>2005</td>\n",
       "      <td>6</td>\n",
       "    </tr>\n",
       "  </tbody>\n",
       "</table>\n",
       "</div>"
      ],
      "text/plain": [
       "    ethnicity       date          filename sex  year  month\n",
       "99        ASN 2005-05-13  GSM136441.CEL.gz   F  2005      5\n",
       "100       ASN 2005-06-10  GSM136442.CEL.gz   F  2005      6\n",
       "101       ASN 2005-06-10  GSM136443.CEL.gz   M  2005      6\n",
       "102       ASN 2005-06-10  GSM136444.CEL.gz   M  2005      6\n",
       "103       ASN 2005-06-10  GSM136445.CEL.gz   F  2005      6"
      ]
     },
     "execution_count": 69,
     "metadata": {},
     "output_type": "execute_result"
    }
   ],
   "source": [
    "#implementation with a apply function\n",
    "#extract the year and the month\n",
    "sortedsampleinfo['year'] = sortedsampleinfo['date'].apply(lambda f: f.year)\n",
    "sortedsampleinfo['month'] = sortedsampleinfo['date'].apply(lambda f: f.month)\n",
    "sortedsampleinfo.head()"
   ]
  },
  {
   "cell_type": "markdown",
   "metadata": {},
   "source": [
    "#### Problem 1(c)\n",
    "\n",
    "Convert the dates in the `date` column from the `sampleinfo` table into days since October 31, 2002. Add a column to the `sampleinfo` DataFrame titled `elapsedInDays` containing the days since October 31, 2002.  Show the head of the `sampleinfo` DataFrame which includes the new column.  \n",
    "\n",
    "**Hint**: Use the `datetime` module to create a new `datetime` object for the specific date October 31, 2002. Then, subtract the October 31, 2002 date from each date from the `date` column in the `sampleinfo` DataFrame. "
   ]
  },
  {
   "cell_type": "code",
   "execution_count": 94,
   "metadata": {},
   "outputs": [
    {
     "data": {
      "text/html": [
       "<div>\n",
       "<style>\n",
       "    .dataframe thead tr:only-child th {\n",
       "        text-align: right;\n",
       "    }\n",
       "\n",
       "    .dataframe thead th {\n",
       "        text-align: left;\n",
       "    }\n",
       "\n",
       "    .dataframe tbody tr th {\n",
       "        vertical-align: top;\n",
       "    }\n",
       "</style>\n",
       "<table border=\"1\" class=\"dataframe\">\n",
       "  <thead>\n",
       "    <tr style=\"text-align: right;\">\n",
       "      <th></th>\n",
       "      <th>ethnicity</th>\n",
       "      <th>date</th>\n",
       "      <th>filename</th>\n",
       "      <th>sex</th>\n",
       "      <th>year</th>\n",
       "      <th>month</th>\n",
       "      <th>elapsedInDays</th>\n",
       "    </tr>\n",
       "  </thead>\n",
       "  <tbody>\n",
       "    <tr>\n",
       "      <th>99</th>\n",
       "      <td>ASN</td>\n",
       "      <td>2005-05-13</td>\n",
       "      <td>GSM136441.CEL.gz</td>\n",
       "      <td>F</td>\n",
       "      <td>2005</td>\n",
       "      <td>5</td>\n",
       "      <td>925</td>\n",
       "    </tr>\n",
       "    <tr>\n",
       "      <th>100</th>\n",
       "      <td>ASN</td>\n",
       "      <td>2005-06-10</td>\n",
       "      <td>GSM136442.CEL.gz</td>\n",
       "      <td>F</td>\n",
       "      <td>2005</td>\n",
       "      <td>6</td>\n",
       "      <td>953</td>\n",
       "    </tr>\n",
       "    <tr>\n",
       "      <th>101</th>\n",
       "      <td>ASN</td>\n",
       "      <td>2005-06-10</td>\n",
       "      <td>GSM136443.CEL.gz</td>\n",
       "      <td>M</td>\n",
       "      <td>2005</td>\n",
       "      <td>6</td>\n",
       "      <td>953</td>\n",
       "    </tr>\n",
       "    <tr>\n",
       "      <th>102</th>\n",
       "      <td>ASN</td>\n",
       "      <td>2005-06-10</td>\n",
       "      <td>GSM136444.CEL.gz</td>\n",
       "      <td>M</td>\n",
       "      <td>2005</td>\n",
       "      <td>6</td>\n",
       "      <td>953</td>\n",
       "    </tr>\n",
       "    <tr>\n",
       "      <th>103</th>\n",
       "      <td>ASN</td>\n",
       "      <td>2005-06-10</td>\n",
       "      <td>GSM136445.CEL.gz</td>\n",
       "      <td>F</td>\n",
       "      <td>2005</td>\n",
       "      <td>6</td>\n",
       "      <td>953</td>\n",
       "    </tr>\n",
       "  </tbody>\n",
       "</table>\n",
       "</div>"
      ],
      "text/plain": [
       "    ethnicity       date          filename sex  year  month  elapsedInDays\n",
       "99        ASN 2005-05-13  GSM136441.CEL.gz   F  2005      5            925\n",
       "100       ASN 2005-06-10  GSM136442.CEL.gz   F  2005      6            953\n",
       "101       ASN 2005-06-10  GSM136443.CEL.gz   M  2005      6            953\n",
       "102       ASN 2005-06-10  GSM136444.CEL.gz   M  2005      6            953\n",
       "103       ASN 2005-06-10  GSM136445.CEL.gz   F  2005      6            953"
      ]
     },
     "execution_count": 94,
     "metadata": {},
     "output_type": "execute_result"
    }
   ],
   "source": [
    "#define the origin date\n",
    "origin = dt.datetime(year=2002, month=10, day=31)\n",
    "#create the new elapsed column\n",
    "sortedsampleinfo['elapsedInDays'] = sortedsampleinfo['date'].apply(lambda f: (f - origin).days)\n",
    "#implementation with map\n",
    "#sampleinfo[\"elapsedInDays\"] = map(lambda x: (x - oct31).days, sampleinfo.date)\n",
    "sortedsampleinfo.head()"
   ]
  },
  {
   "cell_type": "code",
   "execution_count": 15,
   "metadata": {},
   "outputs": [
    {
     "name": "stdout",
     "output_type": "stream",
     "text": [
      "[ 0.06063696  0.05842599  0.04970872  0.04344233  0.03723615]\n"
     ]
    }
   ],
   "source": [
    "from sklearn.decomposition import TruncatedSVD\n",
    "from sklearn.random_projection import sparse_random_matrix\n",
    "X = sparse_random_matrix(100, 100, density=0.01, random_state=42)\n",
    "svd = TruncatedSVD(n_components=5, n_iter=7, random_state=42)\n",
    "svd.fit(X) \n",
    "print(svd.explained_variance_ratio_)\n",
    "#print(svd.explained_variance_ratio_.sum())\n",
    "#print(svd.singular_values_) "
   ]
  },
  {
   "cell_type": "markdown",
   "metadata": {},
   "source": [
    "#### Problem 1(d)\n",
    "\n",
    "Use exploratory analysis and the singular value decomposition (SVD) of the gene expression data matrix to determine if the date the samples were processed has large effect on the variability seen in the data or if it is just ethnicity (which is confounded with date). \n",
    "\n",
    "**Hint**: See the end of the [lecture from 9/23/2014 for help with SVD](http://nbviewer.ipython.org/github/cs109/2014/blob/master/lectures/lecture07/data_scraping_transcript.ipynb). \n",
    "\n",
    "First subset the the `sampleinfo` DataFrame to include only the CEU ethnicity.  Call this new subsetted DataFrame `sampleinfoCEU`.  Show the head of `sampleinfoCEU` DataFrame. "
   ]
  },
  {
   "cell_type": "code",
   "execution_count": 95,
   "metadata": {},
   "outputs": [
    {
     "data": {
      "text/html": [
       "<div>\n",
       "<style>\n",
       "    .dataframe thead tr:only-child th {\n",
       "        text-align: right;\n",
       "    }\n",
       "\n",
       "    .dataframe thead th {\n",
       "        text-align: left;\n",
       "    }\n",
       "\n",
       "    .dataframe tbody tr th {\n",
       "        vertical-align: top;\n",
       "    }\n",
       "</style>\n",
       "<table border=\"1\" class=\"dataframe\">\n",
       "  <thead>\n",
       "    <tr style=\"text-align: right;\">\n",
       "      <th></th>\n",
       "      <th>ethnicity</th>\n",
       "      <th>date</th>\n",
       "      <th>filename</th>\n",
       "      <th>sex</th>\n",
       "      <th>year</th>\n",
       "      <th>month</th>\n",
       "      <th>elapsedInDays</th>\n",
       "    </tr>\n",
       "  </thead>\n",
       "  <tbody>\n",
       "    <tr>\n",
       "      <th>204</th>\n",
       "      <td>CEU</td>\n",
       "      <td>2005-02-16</td>\n",
       "      <td>GSM136725.CEL.gz</td>\n",
       "      <td>F</td>\n",
       "      <td>2005</td>\n",
       "      <td>2</td>\n",
       "      <td>839</td>\n",
       "    </tr>\n",
       "    <tr>\n",
       "      <th>205</th>\n",
       "      <td>CEU</td>\n",
       "      <td>2005-02-16</td>\n",
       "      <td>GSM136726.CEL.gz</td>\n",
       "      <td>M</td>\n",
       "      <td>2005</td>\n",
       "      <td>2</td>\n",
       "      <td>839</td>\n",
       "    </tr>\n",
       "    <tr>\n",
       "      <th>206</th>\n",
       "      <td>CEU</td>\n",
       "      <td>2005-06-10</td>\n",
       "      <td>GSM136727.CEL.gz</td>\n",
       "      <td>M</td>\n",
       "      <td>2005</td>\n",
       "      <td>6</td>\n",
       "      <td>953</td>\n",
       "    </tr>\n",
       "    <tr>\n",
       "      <th>0</th>\n",
       "      <td>CEU</td>\n",
       "      <td>2003-02-04</td>\n",
       "      <td>GSM25349.CEL.gz</td>\n",
       "      <td>M</td>\n",
       "      <td>2003</td>\n",
       "      <td>2</td>\n",
       "      <td>96</td>\n",
       "    </tr>\n",
       "    <tr>\n",
       "      <th>1</th>\n",
       "      <td>CEU</td>\n",
       "      <td>2003-02-04</td>\n",
       "      <td>GSM25350.CEL.gz</td>\n",
       "      <td>M</td>\n",
       "      <td>2003</td>\n",
       "      <td>2</td>\n",
       "      <td>96</td>\n",
       "    </tr>\n",
       "  </tbody>\n",
       "</table>\n",
       "</div>"
      ],
      "text/plain": [
       "    ethnicity       date          filename sex  year  month  elapsedInDays\n",
       "204       CEU 2005-02-16  GSM136725.CEL.gz   F  2005      2            839\n",
       "205       CEU 2005-02-16  GSM136726.CEL.gz   M  2005      2            839\n",
       "206       CEU 2005-06-10  GSM136727.CEL.gz   M  2005      6            953\n",
       "0         CEU 2003-02-04   GSM25349.CEL.gz   M  2003      2             96\n",
       "1         CEU 2003-02-04   GSM25350.CEL.gz   M  2003      2             96"
      ]
     },
     "execution_count": 95,
     "metadata": {},
     "output_type": "execute_result"
    }
   ],
   "source": [
    "#filter on only the CEU \n",
    "sampleinfoCEU = sortedsampleinfo[sortedsampleinfo['ethnicity'] == 'CEU']\n",
    "sampleinfoCEU.head()"
   ]
  },
  {
   "cell_type": "markdown",
   "metadata": {},
   "source": [
    "Next, subset the `exprs` DataFrame to only include the samples with the CEU ethnicity. Name this new subsetted DataFrame `exprsCEU`. Show the head of the `exprsCEU` DataFrame. "
   ]
  },
  {
   "cell_type": "code",
   "execution_count": 96,
   "metadata": {},
   "outputs": [
    {
     "data": {
      "text/html": [
       "<div>\n",
       "<style>\n",
       "    .dataframe thead tr:only-child th {\n",
       "        text-align: right;\n",
       "    }\n",
       "\n",
       "    .dataframe thead th {\n",
       "        text-align: left;\n",
       "    }\n",
       "\n",
       "    .dataframe tbody tr th {\n",
       "        vertical-align: top;\n",
       "    }\n",
       "</style>\n",
       "<table border=\"1\" class=\"dataframe\">\n",
       "  <thead>\n",
       "    <tr style=\"text-align: right;\">\n",
       "      <th></th>\n",
       "      <th>GSM136725.CEL.gz</th>\n",
       "      <th>GSM136726.CEL.gz</th>\n",
       "      <th>GSM136727.CEL.gz</th>\n",
       "      <th>GSM25349.CEL.gz</th>\n",
       "      <th>GSM25350.CEL.gz</th>\n",
       "      <th>GSM25356.CEL.gz</th>\n",
       "      <th>GSM25357.CEL.gz</th>\n",
       "      <th>GSM25358.CEL.gz</th>\n",
       "      <th>GSM25359.CEL.gz</th>\n",
       "      <th>GSM25360.CEL.gz</th>\n",
       "      <th>...</th>\n",
       "      <th>GSM48655.CEL.gz</th>\n",
       "      <th>GSM48656.CEL.gz</th>\n",
       "      <th>GSM48657.CEL.gz</th>\n",
       "      <th>GSM48658.CEL.gz</th>\n",
       "      <th>GSM48660.CEL.gz</th>\n",
       "      <th>GSM48661.CEL.gz</th>\n",
       "      <th>GSM48662.CEL.gz</th>\n",
       "      <th>GSM48663.CEL.gz</th>\n",
       "      <th>GSM48664.CEL.gz</th>\n",
       "      <th>GSM48665.CEL.gz</th>\n",
       "    </tr>\n",
       "    <tr>\n",
       "      <th>Gene</th>\n",
       "      <th></th>\n",
       "      <th></th>\n",
       "      <th></th>\n",
       "      <th></th>\n",
       "      <th></th>\n",
       "      <th></th>\n",
       "      <th></th>\n",
       "      <th></th>\n",
       "      <th></th>\n",
       "      <th></th>\n",
       "      <th></th>\n",
       "      <th></th>\n",
       "      <th></th>\n",
       "      <th></th>\n",
       "      <th></th>\n",
       "      <th></th>\n",
       "      <th></th>\n",
       "      <th></th>\n",
       "      <th></th>\n",
       "      <th></th>\n",
       "      <th></th>\n",
       "    </tr>\n",
       "  </thead>\n",
       "  <tbody>\n",
       "    <tr>\n",
       "      <th>1007_s_at</th>\n",
       "      <td>6.488579</td>\n",
       "      <td>6.809481</td>\n",
       "      <td>6.133068</td>\n",
       "      <td>6.627014</td>\n",
       "      <td>6.249807</td>\n",
       "      <td>5.934128</td>\n",
       "      <td>6.145268</td>\n",
       "      <td>6.091270</td>\n",
       "      <td>6.041186</td>\n",
       "      <td>6.050375</td>\n",
       "      <td>...</td>\n",
       "      <td>6.237984</td>\n",
       "      <td>6.704893</td>\n",
       "      <td>6.720599</td>\n",
       "      <td>6.501510</td>\n",
       "      <td>6.558100</td>\n",
       "      <td>6.618286</td>\n",
       "      <td>6.869995</td>\n",
       "      <td>5.981000</td>\n",
       "      <td>6.403285</td>\n",
       "      <td>6.248702</td>\n",
       "    </tr>\n",
       "    <tr>\n",
       "      <th>1053_at</th>\n",
       "      <td>7.517410</td>\n",
       "      <td>7.200596</td>\n",
       "      <td>7.280781</td>\n",
       "      <td>6.939184</td>\n",
       "      <td>6.818038</td>\n",
       "      <td>7.047962</td>\n",
       "      <td>7.422477</td>\n",
       "      <td>7.272361</td>\n",
       "      <td>7.128216</td>\n",
       "      <td>6.750719</td>\n",
       "      <td>...</td>\n",
       "      <td>7.169030</td>\n",
       "      <td>6.658916</td>\n",
       "      <td>7.280992</td>\n",
       "      <td>7.066686</td>\n",
       "      <td>7.386702</td>\n",
       "      <td>6.407958</td>\n",
       "      <td>7.089180</td>\n",
       "      <td>7.120923</td>\n",
       "      <td>7.018998</td>\n",
       "      <td>7.155419</td>\n",
       "    </tr>\n",
       "    <tr>\n",
       "      <th>117_at</th>\n",
       "      <td>5.247190</td>\n",
       "      <td>5.237239</td>\n",
       "      <td>5.401876</td>\n",
       "      <td>5.113570</td>\n",
       "      <td>5.074096</td>\n",
       "      <td>5.371201</td>\n",
       "      <td>5.266550</td>\n",
       "      <td>5.342047</td>\n",
       "      <td>5.063876</td>\n",
       "      <td>5.315898</td>\n",
       "      <td>...</td>\n",
       "      <td>5.095864</td>\n",
       "      <td>5.308445</td>\n",
       "      <td>5.347524</td>\n",
       "      <td>5.600514</td>\n",
       "      <td>5.232676</td>\n",
       "      <td>5.630720</td>\n",
       "      <td>4.944748</td>\n",
       "      <td>5.275577</td>\n",
       "      <td>5.770358</td>\n",
       "      <td>5.616842</td>\n",
       "    </tr>\n",
       "    <tr>\n",
       "      <th>121_at</th>\n",
       "      <td>7.331864</td>\n",
       "      <td>7.357102</td>\n",
       "      <td>7.607461</td>\n",
       "      <td>7.833862</td>\n",
       "      <td>7.780682</td>\n",
       "      <td>7.458197</td>\n",
       "      <td>7.655948</td>\n",
       "      <td>7.546555</td>\n",
       "      <td>7.072670</td>\n",
       "      <td>7.092984</td>\n",
       "      <td>...</td>\n",
       "      <td>7.220390</td>\n",
       "      <td>7.712825</td>\n",
       "      <td>7.671745</td>\n",
       "      <td>7.437535</td>\n",
       "      <td>7.714650</td>\n",
       "      <td>7.416252</td>\n",
       "      <td>7.746448</td>\n",
       "      <td>8.001434</td>\n",
       "      <td>7.626723</td>\n",
       "      <td>7.452299</td>\n",
       "    </tr>\n",
       "    <tr>\n",
       "      <th>1255_g_at</th>\n",
       "      <td>3.175846</td>\n",
       "      <td>3.105092</td>\n",
       "      <td>3.225123</td>\n",
       "      <td>3.152269</td>\n",
       "      <td>3.111747</td>\n",
       "      <td>3.018932</td>\n",
       "      <td>3.154545</td>\n",
       "      <td>3.107954</td>\n",
       "      <td>3.224284</td>\n",
       "      <td>3.114241</td>\n",
       "      <td>...</td>\n",
       "      <td>2.926689</td>\n",
       "      <td>3.103790</td>\n",
       "      <td>3.016090</td>\n",
       "      <td>3.009983</td>\n",
       "      <td>3.151203</td>\n",
       "      <td>3.199709</td>\n",
       "      <td>3.159496</td>\n",
       "      <td>3.149710</td>\n",
       "      <td>3.242780</td>\n",
       "      <td>3.433125</td>\n",
       "    </tr>\n",
       "  </tbody>\n",
       "</table>\n",
       "<p>5 rows × 102 columns</p>\n",
       "</div>"
      ],
      "text/plain": [
       "           GSM136725.CEL.gz  GSM136726.CEL.gz  GSM136727.CEL.gz  \\\n",
       "Gene                                                              \n",
       "1007_s_at          6.488579          6.809481          6.133068   \n",
       "1053_at            7.517410          7.200596          7.280781   \n",
       "117_at             5.247190          5.237239          5.401876   \n",
       "121_at             7.331864          7.357102          7.607461   \n",
       "1255_g_at          3.175846          3.105092          3.225123   \n",
       "\n",
       "           GSM25349.CEL.gz  GSM25350.CEL.gz  GSM25356.CEL.gz  GSM25357.CEL.gz  \\\n",
       "Gene                                                                            \n",
       "1007_s_at         6.627014         6.249807         5.934128         6.145268   \n",
       "1053_at           6.939184         6.818038         7.047962         7.422477   \n",
       "117_at            5.113570         5.074096         5.371201         5.266550   \n",
       "121_at            7.833862         7.780682         7.458197         7.655948   \n",
       "1255_g_at         3.152269         3.111747         3.018932         3.154545   \n",
       "\n",
       "           GSM25358.CEL.gz  GSM25359.CEL.gz  GSM25360.CEL.gz       ...         \\\n",
       "Gene                                                               ...          \n",
       "1007_s_at         6.091270         6.041186         6.050375       ...          \n",
       "1053_at           7.272361         7.128216         6.750719       ...          \n",
       "117_at            5.342047         5.063876         5.315898       ...          \n",
       "121_at            7.546555         7.072670         7.092984       ...          \n",
       "1255_g_at         3.107954         3.224284         3.114241       ...          \n",
       "\n",
       "           GSM48655.CEL.gz  GSM48656.CEL.gz  GSM48657.CEL.gz  GSM48658.CEL.gz  \\\n",
       "Gene                                                                            \n",
       "1007_s_at         6.237984         6.704893         6.720599         6.501510   \n",
       "1053_at           7.169030         6.658916         7.280992         7.066686   \n",
       "117_at            5.095864         5.308445         5.347524         5.600514   \n",
       "121_at            7.220390         7.712825         7.671745         7.437535   \n",
       "1255_g_at         2.926689         3.103790         3.016090         3.009983   \n",
       "\n",
       "           GSM48660.CEL.gz  GSM48661.CEL.gz  GSM48662.CEL.gz  GSM48663.CEL.gz  \\\n",
       "Gene                                                                            \n",
       "1007_s_at         6.558100         6.618286         6.869995         5.981000   \n",
       "1053_at           7.386702         6.407958         7.089180         7.120923   \n",
       "117_at            5.232676         5.630720         4.944748         5.275577   \n",
       "121_at            7.714650         7.416252         7.746448         8.001434   \n",
       "1255_g_at         3.151203         3.199709         3.159496         3.149710   \n",
       "\n",
       "           GSM48664.CEL.gz  GSM48665.CEL.gz  \n",
       "Gene                                         \n",
       "1007_s_at         6.403285         6.248702  \n",
       "1053_at           7.018998         7.155419  \n",
       "117_at            5.770358         5.616842  \n",
       "121_at            7.626723         7.452299  \n",
       "1255_g_at         3.242780         3.433125  \n",
       "\n",
       "[5 rows x 102 columns]"
      ]
     },
     "execution_count": 96,
     "metadata": {},
     "output_type": "execute_result"
    }
   ],
   "source": [
    "#select column with the CEU\n",
    "listcolumn = sampleinfoCEU['filename']\n",
    "exprsCEU = indexeprs[listcolumn]\n",
    "exprsCEU.head()"
   ]
  },
  {
   "cell_type": "markdown",
   "metadata": {},
   "source": [
    "Check to make sure the order of the columns in the `exprsCEU` DataFrame matches the rows in the `sampleinfoCEU` DataFrame.  "
   ]
  },
  {
   "cell_type": "code",
   "execution_count": 97,
   "metadata": {},
   "outputs": [
    {
     "data": {
      "text/plain": [
       "True"
      ]
     },
     "execution_count": 97,
     "metadata": {},
     "output_type": "execute_result"
    }
   ],
   "source": [
    "(exprsCEU.columns == sampleinfoCEU.filename).all()\n",
    "#this is the same order!"
   ]
  },
  {
   "cell_type": "markdown",
   "metadata": {},
   "source": [
    "Compute the average gene expression intensity in the `exprsCEU` DataFrame across all the samples. For each sample in the `exprsCEU` DataFrame, subtract the average gene expression intensity from each of the samples. Show the head of the mean normalized gene expression data.  "
   ]
  },
  {
   "cell_type": "code",
   "execution_count": 98,
   "metadata": {},
   "outputs": [
    {
     "data": {
      "text/html": [
       "<div>\n",
       "<style>\n",
       "    .dataframe thead tr:only-child th {\n",
       "        text-align: right;\n",
       "    }\n",
       "\n",
       "    .dataframe thead th {\n",
       "        text-align: left;\n",
       "    }\n",
       "\n",
       "    .dataframe tbody tr th {\n",
       "        vertical-align: top;\n",
       "    }\n",
       "</style>\n",
       "<table border=\"1\" class=\"dataframe\">\n",
       "  <thead>\n",
       "    <tr style=\"text-align: right;\">\n",
       "      <th></th>\n",
       "      <th>GSM136725.CEL.gz</th>\n",
       "      <th>GSM136726.CEL.gz</th>\n",
       "      <th>GSM136727.CEL.gz</th>\n",
       "      <th>GSM25349.CEL.gz</th>\n",
       "      <th>GSM25350.CEL.gz</th>\n",
       "      <th>GSM25356.CEL.gz</th>\n",
       "      <th>GSM25357.CEL.gz</th>\n",
       "      <th>GSM25358.CEL.gz</th>\n",
       "      <th>GSM25359.CEL.gz</th>\n",
       "      <th>GSM25360.CEL.gz</th>\n",
       "      <th>...</th>\n",
       "      <th>GSM48655.CEL.gz</th>\n",
       "      <th>GSM48656.CEL.gz</th>\n",
       "      <th>GSM48657.CEL.gz</th>\n",
       "      <th>GSM48658.CEL.gz</th>\n",
       "      <th>GSM48660.CEL.gz</th>\n",
       "      <th>GSM48661.CEL.gz</th>\n",
       "      <th>GSM48662.CEL.gz</th>\n",
       "      <th>GSM48663.CEL.gz</th>\n",
       "      <th>GSM48664.CEL.gz</th>\n",
       "      <th>GSM48665.CEL.gz</th>\n",
       "    </tr>\n",
       "    <tr>\n",
       "      <th>Gene</th>\n",
       "      <th></th>\n",
       "      <th></th>\n",
       "      <th></th>\n",
       "      <th></th>\n",
       "      <th></th>\n",
       "      <th></th>\n",
       "      <th></th>\n",
       "      <th></th>\n",
       "      <th></th>\n",
       "      <th></th>\n",
       "      <th></th>\n",
       "      <th></th>\n",
       "      <th></th>\n",
       "      <th></th>\n",
       "      <th></th>\n",
       "      <th></th>\n",
       "      <th></th>\n",
       "      <th></th>\n",
       "      <th></th>\n",
       "      <th></th>\n",
       "      <th></th>\n",
       "    </tr>\n",
       "  </thead>\n",
       "  <tbody>\n",
       "    <tr>\n",
       "      <th>1007_s_at</th>\n",
       "      <td>0.226624</td>\n",
       "      <td>0.547526</td>\n",
       "      <td>-0.128887</td>\n",
       "      <td>0.365059</td>\n",
       "      <td>-0.012149</td>\n",
       "      <td>-0.327827</td>\n",
       "      <td>-0.116687</td>\n",
       "      <td>-0.170685</td>\n",
       "      <td>-0.220769</td>\n",
       "      <td>-0.211580</td>\n",
       "      <td>...</td>\n",
       "      <td>-0.023971</td>\n",
       "      <td>0.442938</td>\n",
       "      <td>0.458643</td>\n",
       "      <td>0.239554</td>\n",
       "      <td>0.296144</td>\n",
       "      <td>0.356331</td>\n",
       "      <td>0.608040</td>\n",
       "      <td>-0.280956</td>\n",
       "      <td>0.141330</td>\n",
       "      <td>-0.013254</td>\n",
       "    </tr>\n",
       "    <tr>\n",
       "      <th>1053_at</th>\n",
       "      <td>0.442193</td>\n",
       "      <td>0.125379</td>\n",
       "      <td>0.205564</td>\n",
       "      <td>-0.136032</td>\n",
       "      <td>-0.257178</td>\n",
       "      <td>-0.027254</td>\n",
       "      <td>0.347260</td>\n",
       "      <td>0.197144</td>\n",
       "      <td>0.053000</td>\n",
       "      <td>-0.324497</td>\n",
       "      <td>...</td>\n",
       "      <td>0.093813</td>\n",
       "      <td>-0.416301</td>\n",
       "      <td>0.205776</td>\n",
       "      <td>-0.008531</td>\n",
       "      <td>0.311485</td>\n",
       "      <td>-0.667259</td>\n",
       "      <td>0.013964</td>\n",
       "      <td>0.045706</td>\n",
       "      <td>-0.056219</td>\n",
       "      <td>0.080203</td>\n",
       "    </tr>\n",
       "    <tr>\n",
       "      <th>117_at</th>\n",
       "      <td>-0.356936</td>\n",
       "      <td>-0.366887</td>\n",
       "      <td>-0.202251</td>\n",
       "      <td>-0.490556</td>\n",
       "      <td>-0.530031</td>\n",
       "      <td>-0.232926</td>\n",
       "      <td>-0.337577</td>\n",
       "      <td>-0.262080</td>\n",
       "      <td>-0.540250</td>\n",
       "      <td>-0.288228</td>\n",
       "      <td>...</td>\n",
       "      <td>-0.508262</td>\n",
       "      <td>-0.295682</td>\n",
       "      <td>-0.256603</td>\n",
       "      <td>-0.003613</td>\n",
       "      <td>-0.371451</td>\n",
       "      <td>0.026594</td>\n",
       "      <td>-0.659379</td>\n",
       "      <td>-0.328549</td>\n",
       "      <td>0.166231</td>\n",
       "      <td>0.012716</td>\n",
       "    </tr>\n",
       "    <tr>\n",
       "      <th>121_at</th>\n",
       "      <td>-0.083972</td>\n",
       "      <td>-0.058733</td>\n",
       "      <td>0.191626</td>\n",
       "      <td>0.418026</td>\n",
       "      <td>0.364847</td>\n",
       "      <td>0.042362</td>\n",
       "      <td>0.240113</td>\n",
       "      <td>0.130720</td>\n",
       "      <td>-0.343165</td>\n",
       "      <td>-0.322852</td>\n",
       "      <td>...</td>\n",
       "      <td>-0.195446</td>\n",
       "      <td>0.296990</td>\n",
       "      <td>0.255909</td>\n",
       "      <td>0.021700</td>\n",
       "      <td>0.298814</td>\n",
       "      <td>0.000417</td>\n",
       "      <td>0.330612</td>\n",
       "      <td>0.585598</td>\n",
       "      <td>0.210887</td>\n",
       "      <td>0.036463</td>\n",
       "    </tr>\n",
       "    <tr>\n",
       "      <th>1255_g_at</th>\n",
       "      <td>0.041912</td>\n",
       "      <td>-0.028842</td>\n",
       "      <td>0.091189</td>\n",
       "      <td>0.018335</td>\n",
       "      <td>-0.022187</td>\n",
       "      <td>-0.115002</td>\n",
       "      <td>0.020611</td>\n",
       "      <td>-0.025980</td>\n",
       "      <td>0.090351</td>\n",
       "      <td>-0.019693</td>\n",
       "      <td>...</td>\n",
       "      <td>-0.207245</td>\n",
       "      <td>-0.030144</td>\n",
       "      <td>-0.117844</td>\n",
       "      <td>-0.123951</td>\n",
       "      <td>0.017269</td>\n",
       "      <td>0.065775</td>\n",
       "      <td>0.025562</td>\n",
       "      <td>0.015776</td>\n",
       "      <td>0.108846</td>\n",
       "      <td>0.299192</td>\n",
       "    </tr>\n",
       "  </tbody>\n",
       "</table>\n",
       "<p>5 rows × 102 columns</p>\n",
       "</div>"
      ],
      "text/plain": [
       "           GSM136725.CEL.gz  GSM136726.CEL.gz  GSM136727.CEL.gz  \\\n",
       "Gene                                                              \n",
       "1007_s_at          0.226624          0.547526         -0.128887   \n",
       "1053_at            0.442193          0.125379          0.205564   \n",
       "117_at            -0.356936         -0.366887         -0.202251   \n",
       "121_at            -0.083972         -0.058733          0.191626   \n",
       "1255_g_at          0.041912         -0.028842          0.091189   \n",
       "\n",
       "           GSM25349.CEL.gz  GSM25350.CEL.gz  GSM25356.CEL.gz  GSM25357.CEL.gz  \\\n",
       "Gene                                                                            \n",
       "1007_s_at         0.365059        -0.012149        -0.327827        -0.116687   \n",
       "1053_at          -0.136032        -0.257178        -0.027254         0.347260   \n",
       "117_at           -0.490556        -0.530031        -0.232926        -0.337577   \n",
       "121_at            0.418026         0.364847         0.042362         0.240113   \n",
       "1255_g_at         0.018335        -0.022187        -0.115002         0.020611   \n",
       "\n",
       "           GSM25358.CEL.gz  GSM25359.CEL.gz  GSM25360.CEL.gz       ...         \\\n",
       "Gene                                                               ...          \n",
       "1007_s_at        -0.170685        -0.220769        -0.211580       ...          \n",
       "1053_at           0.197144         0.053000        -0.324497       ...          \n",
       "117_at           -0.262080        -0.540250        -0.288228       ...          \n",
       "121_at            0.130720        -0.343165        -0.322852       ...          \n",
       "1255_g_at        -0.025980         0.090351        -0.019693       ...          \n",
       "\n",
       "           GSM48655.CEL.gz  GSM48656.CEL.gz  GSM48657.CEL.gz  GSM48658.CEL.gz  \\\n",
       "Gene                                                                            \n",
       "1007_s_at        -0.023971         0.442938         0.458643         0.239554   \n",
       "1053_at           0.093813        -0.416301         0.205776        -0.008531   \n",
       "117_at           -0.508262        -0.295682        -0.256603        -0.003613   \n",
       "121_at           -0.195446         0.296990         0.255909         0.021700   \n",
       "1255_g_at        -0.207245        -0.030144        -0.117844        -0.123951   \n",
       "\n",
       "           GSM48660.CEL.gz  GSM48661.CEL.gz  GSM48662.CEL.gz  GSM48663.CEL.gz  \\\n",
       "Gene                                                                            \n",
       "1007_s_at         0.296144         0.356331         0.608040        -0.280956   \n",
       "1053_at           0.311485        -0.667259         0.013964         0.045706   \n",
       "117_at           -0.371451         0.026594        -0.659379        -0.328549   \n",
       "121_at            0.298814         0.000417         0.330612         0.585598   \n",
       "1255_g_at         0.017269         0.065775         0.025562         0.015776   \n",
       "\n",
       "           GSM48664.CEL.gz  GSM48665.CEL.gz  \n",
       "Gene                                         \n",
       "1007_s_at         0.141330        -0.013254  \n",
       "1053_at          -0.056219         0.080203  \n",
       "117_at            0.166231         0.012716  \n",
       "121_at            0.210887         0.036463  \n",
       "1255_g_at         0.108846         0.299192  \n",
       "\n",
       "[5 rows x 102 columns]"
      ]
     },
     "execution_count": 98,
     "metadata": {},
     "output_type": "execute_result"
    }
   ],
   "source": [
    "#normalize the dataframe\n",
    "#normalizexpresCEU = exprsCEU.apply(lambda f: f - f.mean()) this one does not work as it removes the mean on each column\n",
    "normalizexpresCEU = exprsCEU.apply(lambda f: f - exprsCEU.mean(axis=1), axis=0)\n",
    "normalizexpresCEU.head()\n",
    "#normalizexpresCEU.shape"
   ]
  },
  {
   "cell_type": "markdown",
   "metadata": {},
   "source": [
    "Using this mean normalized gene expression data, compute the projection to the first Principal Component (PC1).  \n",
    "\n",
    "**Hint**: Use the `numpy.linalg.svd()` function in the `numpy.linalg` module (or the `scipy.linalg.svd()` function in the `scipy.linalg` module) to apply an [singular value decomposition](http://en.wikipedia.org/wiki/Singular_value_decomposition) to a matrix.  "
   ]
  },
  {
   "cell_type": "code",
   "execution_count": 20,
   "metadata": {},
   "outputs": [
    {
     "name": "stdout",
     "output_type": "stream",
     "text": [
      "[  9.68325576e-01   4.51925177e-03   3.47193340e-03   2.39837603e-03\n",
      "   1.80569755e-03   1.36558323e-03   1.28155325e-03   1.13878322e-03\n",
      "   9.79587008e-04   8.33365963e-04]\n",
      "0.986119707818\n"
     ]
    }
   ],
   "source": [
    "from sklearn.decomposition import TruncatedSVD\n",
    "from sklearn.random_projection import sparse_random_matrix\n",
    "#X = sparse_random_matrix(100, 100, density=0.01, random_state=42)\n",
    "X = normalizexpresCEU\n",
    "svd = TruncatedSVD(n_components=10, n_iter=7, random_state=42)\n",
    "svd.fit(X) \n",
    "print(svd.explained_variance_ratio_)\n",
    "print(svd.explained_variance_ratio_.sum())\n",
    "#print(svd.singular_values_) "
   ]
  },
  {
   "cell_type": "code",
   "execution_count": 90,
   "metadata": {},
   "outputs": [],
   "source": [
    "#print(linalg.svd.__doc__)"
   ]
  },
  {
   "cell_type": "code",
   "execution_count": 99,
   "metadata": {},
   "outputs": [
    {
     "data": {
      "text/plain": [
       "((8793L, 8793L), (102L, 102L), (102L,))"
      ]
     },
     "execution_count": 99,
     "metadata": {},
     "output_type": "execute_result"
    }
   ],
   "source": [
    "from scipy import linalg\n",
    "#a = np.random.randn(9, 6) + 1.j*np.random.randn(9, 6)\n",
    "a = normalizexpresCEU\n",
    "U, s, Vh = linalg.svd(a)\n",
    "U.shape, Vh.shape, s.shape\n",
    "#the matrix V contains the right singular vectors (set of orthonormal eigenvectors of a.T * a)"
   ]
  },
  {
   "cell_type": "code",
   "execution_count": 100,
   "metadata": {},
   "outputs": [
    {
     "data": {
      "image/png": "[encoded data removed]",
      "text/plain": [
       "<matplotlib.figure.Figure at 0x1c1922b0>"
      ]
     },
     "metadata": {},
     "output_type": "display_data"
    },
    {
     "data": {
      "image/png": "[encoded data removed]",
      "text/plain": [
       "<matplotlib.figure.Figure at 0xd4322b0>"
      ]
     },
     "metadata": {},
     "output_type": "display_data"
    },
    {
     "data": {
      "image/png": "[encoded data removed]",
      "text/plain": [
       "<matplotlib.figure.Figure at 0x1d610a90>"
      ]
     },
     "metadata": {},
     "output_type": "display_data"
    },
    {
     "data": {
      "image/png": "[encoded data removed]",
      "text/plain": [
       "<matplotlib.figure.Figure at 0x1d610ef0>"
      ]
     },
     "metadata": {},
     "output_type": "display_data"
    }
   ],
   "source": [
    "#display the first 4 PCA\n",
    "plt.plot(subplots=True)\n",
    "plt.hist(V[:,0], bins = 25)\n",
    "plt.xlabel('PC1')\n",
    "plt.ylabel('Frequency')\n",
    "plt.title('Distribution of the values from PC1')\n",
    "plt.show()\n",
    "\n",
    "plt.hist(V[:,1], bins = 25)\n",
    "plt.xlabel('PC2')\n",
    "plt.ylabel('Frequency')\n",
    "plt.title('Distribution of the values from PC2')\n",
    "plt.show()\n",
    "\n",
    "plt.hist(V[:,3], bins = 25)\n",
    "plt.xlabel('PC1')\n",
    "plt.ylabel('Frequency')\n",
    "plt.title('Distribution of the values from PC3')\n",
    "plt.show()\n",
    "\n",
    "plt.hist(V[:,4], bins = 25)\n",
    "plt.xlabel('PC1')\n",
    "plt.ylabel('Frequency')\n",
    "plt.title('Distribution of the values from PC4')\n",
    "plt.show()"
   ]
  },
  {
   "cell_type": "code",
   "execution_count": 101,
   "metadata": {},
   "outputs": [
    {
     "data": {
      "image/png": "[encoded data removed]",
      "text/plain": [
       "<matplotlib.figure.Figure at 0x1c192710>"
      ]
     },
     "metadata": {},
     "output_type": "display_data"
    }
   ],
   "source": [
    "V = Vh.T\n",
    "import seaborn as sns\n",
    "import matplotlib.pyplot as plt\n",
    "sns.set(style=\"whitegrid\")\n",
    "sns.distplot(V[:,0], bins=25, kde=False);"
   ]
  },
  {
   "cell_type": "code",
   "execution_count": 102,
   "metadata": {},
   "outputs": [
    {
     "data": {
      "text/plain": [
       "8793"
      ]
     },
     "execution_count": 102,
     "metadata": {},
     "output_type": "execute_result"
    }
   ],
   "source": [
    "#projection on the first PC not sure if it is correct??\n",
    "PC1 = np.dot(Vh[:,:1].T,a.T)\n",
    "len(PC1[0])"
   ]
  },
  {
   "cell_type": "markdown",
   "metadata": {},
   "source": [
    "Create a histogram using the values from PC1.  Use a bin size of 25.  "
   ]
  },
  {
   "cell_type": "code",
   "execution_count": 103,
   "metadata": {},
   "outputs": [
    {
     "data": {
      "image/png": "[encoded data removed]",
      "text/plain": [
       "<matplotlib.figure.Figure at 0x1c0ad710>"
      ]
     },
     "metadata": {},
     "output_type": "display_data"
    }
   ],
   "source": [
    "import seaborn as sns\n",
    "import matplotlib.pyplot as plt\n",
    "sns.set(style=\"whitegrid\")\n",
    "sns.distplot(PC1[0], bins=25);"
   ]
  },
  {
   "cell_type": "markdown",
   "metadata": {},
   "source": [
    "Create a scatter plot with the days since October 31, 2002 on the x-axis and PC1 on the y-axis."
   ]
  },
  {
   "cell_type": "code",
   "execution_count": 111,
   "metadata": {},
   "outputs": [],
   "source": [
    "#len(sampleinfoCEU) #102\n",
    "#len(V[:,0]) #102"
   ]
  },
  {
   "cell_type": "code",
   "execution_count": 112,
   "metadata": {},
   "outputs": [
    {
     "data": {
      "text/html": [
       "<div>\n",
       "<style>\n",
       "    .dataframe thead tr:only-child th {\n",
       "        text-align: right;\n",
       "    }\n",
       "\n",
       "    .dataframe thead th {\n",
       "        text-align: left;\n",
       "    }\n",
       "\n",
       "    .dataframe tbody tr th {\n",
       "        vertical-align: top;\n",
       "    }\n",
       "</style>\n",
       "<table border=\"1\" class=\"dataframe\">\n",
       "  <thead>\n",
       "    <tr style=\"text-align: right;\">\n",
       "      <th></th>\n",
       "      <th>ethnicity</th>\n",
       "      <th>date</th>\n",
       "      <th>filename</th>\n",
       "      <th>sex</th>\n",
       "      <th>year</th>\n",
       "      <th>month</th>\n",
       "      <th>elapsedInDays</th>\n",
       "    </tr>\n",
       "  </thead>\n",
       "  <tbody>\n",
       "    <tr>\n",
       "      <th>204</th>\n",
       "      <td>CEU</td>\n",
       "      <td>2005-02-16</td>\n",
       "      <td>GSM136725.CEL.gz</td>\n",
       "      <td>F</td>\n",
       "      <td>2005</td>\n",
       "      <td>2</td>\n",
       "      <td>839</td>\n",
       "    </tr>\n",
       "    <tr>\n",
       "      <th>205</th>\n",
       "      <td>CEU</td>\n",
       "      <td>2005-02-16</td>\n",
       "      <td>GSM136726.CEL.gz</td>\n",
       "      <td>M</td>\n",
       "      <td>2005</td>\n",
       "      <td>2</td>\n",
       "      <td>839</td>\n",
       "    </tr>\n",
       "    <tr>\n",
       "      <th>206</th>\n",
       "      <td>CEU</td>\n",
       "      <td>2005-06-10</td>\n",
       "      <td>GSM136727.CEL.gz</td>\n",
       "      <td>M</td>\n",
       "      <td>2005</td>\n",
       "      <td>6</td>\n",
       "      <td>953</td>\n",
       "    </tr>\n",
       "    <tr>\n",
       "      <th>0</th>\n",
       "      <td>CEU</td>\n",
       "      <td>2003-02-04</td>\n",
       "      <td>GSM25349.CEL.gz</td>\n",
       "      <td>M</td>\n",
       "      <td>2003</td>\n",
       "      <td>2</td>\n",
       "      <td>96</td>\n",
       "    </tr>\n",
       "    <tr>\n",
       "      <th>1</th>\n",
       "      <td>CEU</td>\n",
       "      <td>2003-02-04</td>\n",
       "      <td>GSM25350.CEL.gz</td>\n",
       "      <td>M</td>\n",
       "      <td>2003</td>\n",
       "      <td>2</td>\n",
       "      <td>96</td>\n",
       "    </tr>\n",
       "  </tbody>\n",
       "</table>\n",
       "</div>"
      ],
      "text/plain": [
       "    ethnicity       date          filename sex  year  month  elapsedInDays\n",
       "204       CEU 2005-02-16  GSM136725.CEL.gz   F  2005      2            839\n",
       "205       CEU 2005-02-16  GSM136726.CEL.gz   M  2005      2            839\n",
       "206       CEU 2005-06-10  GSM136727.CEL.gz   M  2005      6            953\n",
       "0         CEU 2003-02-04   GSM25349.CEL.gz   M  2003      2             96\n",
       "1         CEU 2003-02-04   GSM25350.CEL.gz   M  2003      2             96"
      ]
     },
     "execution_count": 112,
     "metadata": {},
     "output_type": "execute_result"
    }
   ],
   "source": [
    "sampleinfoCEU.head()"
   ]
  },
  {
   "cell_type": "code",
   "execution_count": 106,
   "metadata": {},
   "outputs": [
    {
     "data": {
      "text/plain": [
       "<matplotlib.text.Text at 0x1d04a2b0>"
      ]
     },
     "execution_count": 106,
     "metadata": {},
     "output_type": "execute_result"
    },
    {
     "data": {
      "image/png": "[encoded data removed]",
      "text/plain": [
       "<matplotlib.figure.Figure at 0xd3dfb38>"
      ]
     },
     "metadata": {},
     "output_type": "display_data"
    }
   ],
   "source": [
    "#your code here\n",
    "plt.scatter(sampleinfoCEU.elapsedInDays, V[:,0])\n",
    "plt.xlabel('Date sample was processed (Number of days since Oct 31, 2012)')\n",
    "plt.ylabel('PC1')\n",
    "plt.title('Relationship between the PC1 and the date the samples were processed')"
   ]
  },
  {
   "cell_type": "code",
   "execution_count": 119,
   "metadata": {},
   "outputs": [
    {
     "data": {
      "text/plain": [
       "<matplotlib.text.Text at 0xdf577b8>"
      ]
     },
     "execution_count": 119,
     "metadata": {},
     "output_type": "execute_result"
    },
    {
     "data": {
      "image/png": "[encoded data removed]",
      "text/plain": [
       "<matplotlib.figure.Figure at 0x1d153dd8>"
      ]
     },
     "metadata": {},
     "output_type": "display_data"
    }
   ],
   "source": [
    "sns.regplot(x= sampleinfoCEU.elapsedInDays, y=V[:,0], fit_reg = False)\n",
    "sns.plt.title('Relationship between the PC1 and the date the samples were processed')\n",
    "sns.plt.xlabel('Date sample was processed (Number of days since Oct 31, 2012)')\n",
    "sns.plt.ylabel('PC1')"
   ]
  },
  {
   "cell_type": "markdown",
   "metadata": {},
   "source": [
    "Around what day do you notice a difference in the way the samples were processed?"
   ]
  },
  {
   "cell_type": "code",
   "execution_count": 120,
   "metadata": {},
   "outputs": [
    {
     "data": {
      "text/plain": [
       "<matplotlib.lines.Line2D at 0xb2290f0>"
      ]
     },
     "execution_count": 120,
     "metadata": {},
     "output_type": "execute_result"
    },
    {
     "data": {
      "image/png": "[encoded data removed]",
      "text/plain": [
       "<matplotlib.figure.Figure at 0x1c0bc160>"
      ]
     },
     "metadata": {},
     "output_type": "display_data"
    }
   ],
   "source": [
    "#your code here\n",
    "plt.scatter(sampleinfoCEU.elapsedInDays, V[:,0])\n",
    "plt.xlim(0,160)\n",
    "plt.xlabel('Date sample was processed (Number of days since Oct 31, 2012)')\n",
    "plt.ylabel('PC1')\n",
    "plt.title('Relationship between the PC1 and the date the samples were processed')\n",
    "plt.axvline(x=100, color='r')"
   ]
  },
  {
   "cell_type": "markdown",
   "metadata": {},
   "source": [
    "Answer:"
   ]
  },
  {
   "cell_type": "markdown",
   "metadata": {},
   "source": [
    "## Discussion for Problem 1\n",
    "\n",
    "*Write a brief discussion of your conclusions to the questions and tasks above in 100 words or less.*\n",
    "\n",
    "---\n"
   ]
  },
  {
   "cell_type": "markdown",
   "metadata": {},
   "source": [
    "## Problem 2: Is there a pollster bias in presidential election polls?"
   ]
  },
  {
   "cell_type": "markdown",
   "metadata": {},
   "source": [
    "#### Problem 2(a)\n",
    "\n",
    "The [HuffPost Pollster](http://elections.huffingtonpost.com/pollster) contains many political polls. You can access these polls from individual races as a CSV but you can also access polls through the [HuffPost Pollster API](http://elections.huffingtonpost.com/pollster/api) to access the data.  \n",
    "\n",
    "Read in the polls from the [2012 Presidential Election: Barack Obama vs Mitt Romney](http://elections.huffingtonpost.com/pollster/2012-general-election-romney-vs-obama) into a pandas DataFrame called `election`. For this problem, you may read in the polls for this race directly using [the CSV file](http://elections.huffingtonpost.com/pollster/2012-general-election-romney-vs-obama.csv) available from the HuffPost Pollster page."
   ]
  },
  {
   "cell_type": "code",
   "execution_count": 14,
   "metadata": {
    "collapsed": true
   },
   "outputs": [],
   "source": [
    "#your code here"
   ]
  },
  {
   "cell_type": "markdown",
   "metadata": {},
   "source": [
    "Show the head of the `election` DataFrame. "
   ]
  },
  {
   "cell_type": "code",
   "execution_count": 15,
   "metadata": {
    "collapsed": true
   },
   "outputs": [],
   "source": [
    "#your code here"
   ]
  },
  {
   "cell_type": "markdown",
   "metadata": {},
   "source": [
    "How many polls were conducted in November? Define this number as M.  \n",
    "\n",
    "**Hint**: Subset the `election` DataFrame for only dates in the `Start Date` column that are in November 2012.  "
   ]
  },
  {
   "cell_type": "code",
   "execution_count": 16,
   "metadata": {
    "collapsed": true
   },
   "outputs": [],
   "source": [
    "#your code here"
   ]
  },
  {
   "cell_type": "markdown",
   "metadata": {},
   "source": [
    "Answer:"
   ]
  },
  {
   "cell_type": "markdown",
   "metadata": {},
   "source": [
    "What was the median of the number of observations in the November polls? Define this quantity as N. "
   ]
  },
  {
   "cell_type": "code",
   "execution_count": 17,
   "metadata": {
    "collapsed": true
   },
   "outputs": [],
   "source": [
    "#your code here"
   ]
  },
  {
   "cell_type": "markdown",
   "metadata": {},
   "source": [
    "Answer: "
   ]
  },
  {
   "cell_type": "markdown",
   "metadata": {},
   "source": [
    "#### Problem 2(b)\n",
    "\n",
    "Using the median sample size $N$ from Problem 1(a), simulate the results from a single poll:  simulate the number of votes for Obama out of a sample size $N$ where $p$ = 0.53 is the percent of voters who are voting for Obama.  \n",
    "\n",
    "**Hint**: Use the binomial distribution with parameters $N$ and $p$ = 0.53. "
   ]
  },
  {
   "cell_type": "code",
   "execution_count": 18,
   "metadata": {
    "collapsed": true
   },
   "outputs": [],
   "source": [
    "#your code here"
   ]
  },
  {
   "cell_type": "markdown",
   "metadata": {},
   "source": [
    "Now, perform a Monte Carlo simulation to obtain the estimated percentage of Obama votes with a sample size $N$ where $N$ is the median sample size calculated in Problem 2(a). Let $p$=0.53 be the percent of voters are voting for Obama. \n",
    "\n",
    "**Hint**: You will repeat the simulation above 1,000 times and plot the distribution of the estimated *percent* of Obama votes from a single poll.  The results from the single poll you simulate is random variable and will be different every time you sample. "
   ]
  },
  {
   "cell_type": "code",
   "execution_count": 19,
   "metadata": {
    "collapsed": true
   },
   "outputs": [],
   "source": [
    "#your code here"
   ]
  },
  {
   "cell_type": "markdown",
   "metadata": {},
   "source": [
    "Plot the distribution of the estimated percentage of Obama votes from your single poll. What is the distribution of the estimated percentage of Obama votes? "
   ]
  },
  {
   "cell_type": "code",
   "execution_count": 20,
   "metadata": {
    "collapsed": true
   },
   "outputs": [],
   "source": [
    "#your code here"
   ]
  },
  {
   "cell_type": "markdown",
   "metadata": {},
   "source": [
    "Answer: "
   ]
  },
  {
   "cell_type": "markdown",
   "metadata": {},
   "source": [
    "What is the standard error (SE) of the estimated percentage from the poll. \n",
    "\n",
    "**Hint**: Remember the SE is the standard deviation (SD) of the distribution of a random variable. "
   ]
  },
  {
   "cell_type": "code",
   "execution_count": 21,
   "metadata": {
    "collapsed": true
   },
   "outputs": [],
   "source": [
    "#your code here"
   ]
  },
  {
   "cell_type": "markdown",
   "metadata": {},
   "source": [
    "#### Problem 2(c)\n",
    "\n",
    "Now suppose we run M polls where M is the number of polls that happened in November (calculated in Problem 2(a)). Run 1,000 simulations and compute the mean of the M polls for each simulation. "
   ]
  },
  {
   "cell_type": "code",
   "execution_count": 22,
   "metadata": {
    "collapsed": true
   },
   "outputs": [],
   "source": [
    "#your code here"
   ]
  },
  {
   "cell_type": "markdown",
   "metadata": {},
   "source": [
    "What is the distribution of the average of polls?\n",
    "\n",
    "**Hint**: Show a plot. "
   ]
  },
  {
   "cell_type": "code",
   "execution_count": 23,
   "metadata": {
    "collapsed": true
   },
   "outputs": [],
   "source": [
    "#your code here"
   ]
  },
  {
   "cell_type": "markdown",
   "metadata": {},
   "source": [
    "Answer: "
   ]
  },
  {
   "cell_type": "markdown",
   "metadata": {},
   "source": [
    "What is the standard error (SE) of the average of polls? "
   ]
  },
  {
   "cell_type": "code",
   "execution_count": 24,
   "metadata": {
    "collapsed": true
   },
   "outputs": [],
   "source": [
    "#your code here"
   ]
  },
  {
   "cell_type": "markdown",
   "metadata": {},
   "source": [
    "Answer: "
   ]
  },
  {
   "cell_type": "markdown",
   "metadata": {},
   "source": [
    "Is the SE of the average of polls larger, the same, or smaller than that the SD of a single poll (calculated in Problem 2(b))? By how much?\n",
    "\n",
    "**Hint**: Compute a ratio of the two quantities.  "
   ]
  },
  {
   "cell_type": "code",
   "execution_count": 25,
   "metadata": {
    "collapsed": true
   },
   "outputs": [],
   "source": [
    "#your code here"
   ]
  },
  {
   "cell_type": "markdown",
   "metadata": {},
   "source": [
    "Answer: "
   ]
  },
  {
   "cell_type": "markdown",
   "metadata": {},
   "source": [
    "#### Problem 2(d) \n",
    "\n",
    "Repeat Problem 2(c) but now record the *across poll* standard deviation in each simulation. "
   ]
  },
  {
   "cell_type": "code",
   "execution_count": 26,
   "metadata": {
    "collapsed": true
   },
   "outputs": [],
   "source": [
    "#your code here"
   ]
  },
  {
   "cell_type": "markdown",
   "metadata": {},
   "source": [
    "What is the distribution of the *across M polls* standard deviation?\n",
    "\n",
    "**Hint**: Show a plot. "
   ]
  },
  {
   "cell_type": "code",
   "execution_count": 27,
   "metadata": {
    "collapsed": true
   },
   "outputs": [],
   "source": [
    "#your code here"
   ]
  },
  {
   "cell_type": "markdown",
   "metadata": {},
   "source": [
    "Answer: "
   ]
  },
  {
   "cell_type": "markdown",
   "metadata": {},
   "source": [
    "#### Problem 2(e) \n",
    "\n",
    "What is the standard deviation of M polls in our real (not simulated) 2012 presidential election data ? "
   ]
  },
  {
   "cell_type": "code",
   "execution_count": 28,
   "metadata": {
    "collapsed": true
   },
   "outputs": [],
   "source": [
    "#your code here"
   ]
  },
  {
   "cell_type": "markdown",
   "metadata": {},
   "source": [
    "Is this larger, the same, or smaller than what we expeced if polls were not biased."
   ]
  },
  {
   "cell_type": "code",
   "execution_count": 29,
   "metadata": {
    "collapsed": true
   },
   "outputs": [],
   "source": [
    "#your code here"
   ]
  },
  {
   "cell_type": "markdown",
   "metadata": {},
   "source": [
    "Answer: "
   ]
  },
  {
   "cell_type": "markdown",
   "metadata": {},
   "source": [
    "#### Problem 2(f)\n",
    "\n",
    "**For AC209 Students**: Learn about the normal approximation for the binomial distribution and derive the results of Problem 2(b) and 2(c) analytically (using this approximation). Compare the results obtained analytically to those obtained from simulations."
   ]
  },
  {
   "cell_type": "code",
   "execution_count": 30,
   "metadata": {
    "collapsed": true
   },
   "outputs": [],
   "source": [
    "#your code here"
   ]
  },
  {
   "cell_type": "markdown",
   "metadata": {},
   "source": [
    "Answer: "
   ]
  },
  {
   "cell_type": "markdown",
   "metadata": {},
   "source": [
    "## Discussion for Problem 2\n",
    "\n",
    "*Write a brief discussion of your conclusions to the questions and tasks above in 100 words or less.*\n",
    "\n",
    "---\n"
   ]
  },
  {
   "cell_type": "markdown",
   "metadata": {},
   "source": [
    "## Problem 3: Is the average of polls better than just one poll?"
   ]
  },
  {
   "cell_type": "markdown",
   "metadata": {},
   "source": [
    "#### Problem 3(a)\n",
    "\n",
    "Most undecided voters vote for one of the two candidates at the election. Therefore, the reported percentages underestimate the final value of both candidates. However, if we assume the undecided will split evenly, then the observed difference should be an unbiased estimate of the final difference. \n",
    "\n",
    "Add a new column to the `election` DataFrame containg the difference between Obama and Romeny called `Diff`. "
   ]
  },
  {
   "cell_type": "code",
   "execution_count": 31,
   "metadata": {
    "collapsed": true
   },
   "outputs": [],
   "source": [
    "#your code here"
   ]
  },
  {
   "cell_type": "markdown",
   "metadata": {},
   "source": [
    "#### Problem 3(b)\n",
    "\n",
    "Make a plot of the differences for the week before the election (e.g. 5 days) where the days are on the x-axis and the differences are on the y-axis.  Add a horizontal line showing 3.9%: the difference between Obama and Romney on election day."
   ]
  },
  {
   "cell_type": "code",
   "execution_count": 32,
   "metadata": {
    "collapsed": true
   },
   "outputs": [],
   "source": [
    "#your code here"
   ]
  },
  {
   "cell_type": "markdown",
   "metadata": {},
   "source": [
    "#### Problem 3(c) \n",
    "\n",
    "Make a plot showing the differences by pollster where the pollsters are on the x-axis and the differences on the y-axis. "
   ]
  },
  {
   "cell_type": "code",
   "execution_count": 33,
   "metadata": {
    "collapsed": true
   },
   "outputs": [],
   "source": [
    "#your code here"
   ]
  },
  {
   "cell_type": "markdown",
   "metadata": {},
   "source": [
    "Is the *across poll* difference larger than the *between pollster* difference? "
   ]
  },
  {
   "cell_type": "markdown",
   "metadata": {},
   "source": [
    "Answer: "
   ]
  },
  {
   "cell_type": "markdown",
   "metadata": {},
   "source": [
    "#### Problem 3(d)\n",
    "\n",
    "Take the average for each pollster and then compute the average of that. Given this difference how confident would you have been of an Obama victory?\n",
    "\n",
    "**Hint**: Compute an estimate of the SE of this average based exclusively on the observed data. "
   ]
  },
  {
   "cell_type": "code",
   "execution_count": 34,
   "metadata": {
    "collapsed": true
   },
   "outputs": [],
   "source": [
    "#your code here"
   ]
  },
  {
   "cell_type": "markdown",
   "metadata": {},
   "source": [
    "Answer: "
   ]
  },
  {
   "cell_type": "markdown",
   "metadata": {},
   "source": [
    "#### Problem 3(e)\n",
    "\n",
    "**For AC209 Students**: Show the difference against time and see if you can detect a trend towards the end. Use this trend to see if it improves the final estimate."
   ]
  },
  {
   "cell_type": "code",
   "execution_count": 35,
   "metadata": {
    "collapsed": true
   },
   "outputs": [],
   "source": [
    "#your code here"
   ]
  },
  {
   "cell_type": "markdown",
   "metadata": {},
   "source": [
    "Answer: "
   ]
  },
  {
   "cell_type": "markdown",
   "metadata": {},
   "source": [
    "## Discussion for Problem 3\n",
    "\n",
    "*Write a brief discussion of your conclusions to the questions and tasks above in 100 words or less.*\n",
    "\n",
    "---\n"
   ]
  },
  {
   "cell_type": "markdown",
   "metadata": {},
   "source": [
    "## Problem 4\n",
    "\n",
    "In this last problem, we will use the polls from the [2014 Senate Midterm Elections](http://elections.huffingtonpost.com/pollster) from the [HuffPost Pollster API](http://elections.huffingtonpost.com/pollster/api) to create a preliminary prediction of the result of each state. \n",
    "\n",
    "The HuffPost Pollster API allows you to access the data as a CSV or a JSON response by tacking \".csv\" or \".json\" at the end of the URLs. For example the 2012 Presidential Election could be accessed as a [.json](http://elections.huffingtonpost.com/pollster/2012-general-election-romney-vs-obama.json) instead of a [.csv](http://elections.huffingtonpost.com/pollster/2012-general-election-romney-vs-obama.csv)"
   ]
  },
  {
   "cell_type": "markdown",
   "metadata": {},
   "source": [
    "#### Problem 4(a)\n",
    "\n",
    "Read in the polls for **all** of the 2014 Senate Elections using the HuffPost API. For example, we can consider the [2014 Senate race in Kentucky between Mitch McConnell and Alison Grimes](http://elections.huffingtonpost.com/pollster/2014-kentucky-senate-mcconnell-vs-grimes). \n",
    "\n",
    "To search for the 2014 Senate races, use the `topics` parameter in the API [[read more about topics here](http://elections.huffingtonpost.com/pollster/api)].  "
   ]
  },
  {
   "cell_type": "code",
   "execution_count": 36,
   "metadata": {
    "collapsed": true
   },
   "outputs": [],
   "source": [
    "url_str = \"http://elections.huffingtonpost.com/pollster/api/charts/?topic=2014-senate\""
   ]
  },
  {
   "cell_type": "markdown",
   "metadata": {},
   "source": [
    "To list all the URLs related to the 2014 Senate races using the pollster API, we can use a list comprehension:"
   ]
  },
  {
   "cell_type": "code",
   "execution_count": 37,
   "metadata": {},
   "outputs": [
    {
     "data": {
      "text/plain": [
       "[u'http://elections.huffingtonpost.com/pollster/2014-kentucky-senate-mcconnell-vs-grimes.csv',\n",
       " u'http://elections.huffingtonpost.com/pollster/2014-arkansas-senate-cotton-vs-pryor.csv',\n",
       " u'http://elections.huffingtonpost.com/pollster/2014-michigan-senate-land-vs-peters.csv',\n",
       " u'http://elections.huffingtonpost.com/pollster/2014-louisiana-senate-cassidy-vs-landrieu.csv',\n",
       " u'http://elections.huffingtonpost.com/pollster/2014-new-hampshire-senate-brown-vs-shaheen.csv',\n",
       " u'http://elections.huffingtonpost.com/pollster/2014-west-virginia-senate-capito-vs-tennant.csv',\n",
       " u'http://elections.huffingtonpost.com/pollster/2014-new-hampshire-senate-bass-vs-shaheen.csv',\n",
       " u'http://elections.huffingtonpost.com/pollster/2014-north-carolina-senate-tillis-vs-hagan.csv',\n",
       " u'http://elections.huffingtonpost.com/pollster/2014-virginia-senate-gillespie-vs-warner.csv',\n",
       " u'http://elections.huffingtonpost.com/pollster/2014-colorado-senate-gardner-vs-udall.csv',\n",
       " u'http://elections.huffingtonpost.com/pollster/2014-illinois-senate-oberweis-vs-durbin.csv',\n",
       " u'http://elections.huffingtonpost.com/pollster/2014-alaska-senate-sullivan-vs-begich.csv',\n",
       " u'http://elections.huffingtonpost.com/pollster/2014-iowa-senate-ernst-vs-braley.csv',\n",
       " u'http://elections.huffingtonpost.com/pollster/2014-mississippi-senate-cochran-vs-childers.csv',\n",
       " u'http://elections.huffingtonpost.com/pollster/2014-oregon-senate-wehby-vs-merkley.csv',\n",
       " u'http://elections.huffingtonpost.com/pollster/2014-georgia-senate-perdue-vs-nunn.csv',\n",
       " u'http://elections.huffingtonpost.com/pollster/2014-louisiana-senate-sasse-vs-domina.csv',\n",
       " u'http://elections.huffingtonpost.com/pollster/2014-south-dakota-senate-rounds-vs-weiland.csv',\n",
       " u'http://elections.huffingtonpost.com/pollster/2014-maine-senate-collins-vs-bellows.csv',\n",
       " u'http://elections.huffingtonpost.com/pollster/2014-minnesota-senate-mcfadden-vs-franken.csv',\n",
       " u'http://elections.huffingtonpost.com/pollster/2014-texas-senate-cornyn-vs-alameel.csv',\n",
       " u'http://elections.huffingtonpost.com/pollster/2014-south-carolina-senate-graham-vs-hutto.csv',\n",
       " u'http://elections.huffingtonpost.com/pollster/2014-south-carolina-senate-scott-vs-dickerson.csv',\n",
       " u'http://elections.huffingtonpost.com/pollster/2014-oklahoma-senate-inhofe-vs-silverstein.csv',\n",
       " u'http://elections.huffingtonpost.com/pollster/2014-new-mexico-senate-weh-vs-udall.csv',\n",
       " u'http://elections.huffingtonpost.com/pollster/2014-new-jersey-senate-bell-vs-booker.csv',\n",
       " u'http://elections.huffingtonpost.com/pollster/2014-idaho-senate-risch-vs-mitchell.csv',\n",
       " u'http://elections.huffingtonpost.com/pollster/2014-tennessee-senate-alexander-vs-ball.csv',\n",
       " u'http://elections.huffingtonpost.com/pollster/2014-wyoming-senate.csv',\n",
       " u'http://elections.huffingtonpost.com/pollster/2014-kansas-senate-roberts-vs-orman-vs-taylor.csv',\n",
       " u'http://elections.huffingtonpost.com/pollster/2014-hawaii-senate-cavasso-vs-schatz.csv',\n",
       " u'http://elections.huffingtonpost.com/pollster/2014-oklahoma-senate-lankford-vs-johnson.csv',\n",
       " u'http://elections.huffingtonpost.com/pollster/2014-montana-senate-daines-vs-curtis.csv',\n",
       " u'http://elections.huffingtonpost.com/pollster/2014-rhode-island-senate-zaccaria-vs-reed.csv',\n",
       " u'http://elections.huffingtonpost.com/pollster/2014-massachusetts-senate-herr-vs-markey.csv',\n",
       " u'http://elections.huffingtonpost.com/pollster/2014-delaware-senate-wade-vs-coons.csv']"
      ]
     },
     "execution_count": 37,
     "metadata": {},
     "output_type": "execute_result"
    }
   ],
   "source": [
    "election_urls = [election['url'] + '.csv' for election in requests.get(url_str).json()]\n",
    "election_urls"
   ]
  },
  {
   "cell_type": "markdown",
   "metadata": {},
   "source": [
    "Because there so many Senate races, we can create a dictionary of pandas DataFrames that will be keyed by the name of the election (a string). "
   ]
  },
  {
   "cell_type": "code",
   "execution_count": 38,
   "metadata": {
    "collapsed": true
   },
   "outputs": [],
   "source": [
    "def build_frame(url):\n",
    "    \"\"\"\n",
    "    Returns a pandas DataFrame object containing\n",
    "    the data returned from the given url\n",
    "    \"\"\"\n",
    "    source = requests.get(url).text\n",
    "    \n",
    "    # Use StringIO because pd.DataFrame.from_csv requires .read() method\n",
    "    s = StringIO(source)\n",
    "    \n",
    "    return pd.DataFrame.from_csv(s, index_col=None).convert_objects(\n",
    "            convert_dates=\"coerce\", convert_numeric=True)"
   ]
  },
  {
   "cell_type": "code",
   "execution_count": 39,
   "metadata": {
    "collapsed": true
   },
   "outputs": [],
   "source": [
    "# Makes a dictionary of pandas DataFrames keyed on election string.\n",
    "dfs = dict((election.split(\"/\")[-1][:-4], build_frame(election)) for election in election_urls)"
   ]
  },
  {
   "cell_type": "markdown",
   "metadata": {},
   "source": [
    "Show the head of the DataFrame containing the polls for the 2014 Senate race in Kentucky between McConnell and Grimes."
   ]
  },
  {
   "cell_type": "code",
   "execution_count": 40,
   "metadata": {
    "collapsed": true
   },
   "outputs": [],
   "source": [
    "#your code here"
   ]
  },
  {
   "cell_type": "markdown",
   "metadata": {},
   "source": [
    "#### Problem 4(b)\n",
    "\n",
    "For each 2014 Senate race, create a preliminary prediction of the result for that state."
   ]
  },
  {
   "cell_type": "code",
   "execution_count": 42,
   "metadata": {
    "collapsed": true
   },
   "outputs": [],
   "source": [
    "#your code here"
   ]
  },
  {
   "cell_type": "markdown",
   "metadata": {},
   "source": [
    "# Submission Instructions\n",
    "\n",
    "To submit your homework, create a folder named **lastname_firstinitial_hw#** and place your IPython notebooks, data files, and any other files in this folder. Your IPython Notebooks should be completely executed with the results visible in the notebook. We should not have to run any code.  Compress the folder (please use .zip compression) and submit to the CS109 dropbox in the appropriate folder. *If we cannot access your work because these directions are not followed correctly, we will not grade your work.*\n"
   ]
  },
  {
   "cell_type": "code",
   "execution_count": null,
   "metadata": {
    "collapsed": true
   },
   "outputs": [],
   "source": []
  }
 ],
 "metadata": {
  "kernelspec": {
   "display_name": "Python 2",
   "language": "python",
   "name": "python2"
  },
  "language_info": {
   "codemirror_mode": {
    "name": "ipython",
    "version": 2
   },
   "file_extension": ".py",
   "mimetype": "text/x-python",
   "name": "python",
   "nbconvert_exporter": "python",
   "pygments_lexer": "ipython2",
   "version": "2.7.13"
  }
 },
 "nbformat": 4,
 "nbformat_minor": 1
}
