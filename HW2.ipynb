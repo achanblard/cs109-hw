{
 "cells": [
  {
   "cell_type": "markdown",
   "metadata": {},
   "source": [
    "# Homework 2: More Exploratory Data Analysis\n",
    "## Gene Expression Data and Election Polls \n",
    "\n",
    "Due: Thursday, October 2, 2014 11:59 PM\n",
    "\n",
    "<a href=https://raw.githubusercontent.com/cs109/2014/master/homework/HW2.ipynb download=HW2.ipynb> Download this assignment</a>\n",
    "\n",
    "#### Submission Instructions\n",
    "To submit your homework, create a folder named lastname_firstinitial_hw# and place your IPython notebooks, data files, and any other files in this folder. Your IPython Notebooks should be completely executed with the results visible in the notebook. We should not have to run any code. Compress the folder (please use .zip compression) and submit to the CS109 dropbox in the appropriate folder. If we cannot access your work because these directions are not followed correctly, we will not grade your work.\n",
    "\n",
    "\n",
    "---"
   ]
  },
  {
   "cell_type": "markdown",
   "metadata": {},
   "source": [
    "## Introduction\n",
    "\n",
    "John Tukey wrote in [Exploratory Data Analysis, 1977](http://www.amazon.com/Exploratory-Data-Analysis-Wilder-Tukey/dp/0201076160/ref=pd_bbs_sr_2/103-4466654-5303007?ie=UTF8&s=books&qid=1189739816&sr=8-2): \"The greatest value of a picture is when it forces us to notice what we never expected to see.\" In this assignment we will continue using our exploratory data analysis tools, but apply it to new sets of data: [gene expression](http://en.wikipedia.org/wiki/Gene_expression) and polls from the [2012 Presidental Election](http://en.wikipedia.org/wiki/United_States_presidential_election,_2012) and from the [2014 Senate Midterm Elections](http://en.wikipedia.org/wiki/United_States_Senate_elections,_2014).   \n",
    "\n",
    "**First**: You will use exploratory data analysis and apply the [singular value decomposition](http://en.wikipedia.org/wiki/Singular_value_decomposition) (SVD) to a gene expression data matrix to determine if the the date that the gene expression samples are processed has large effect on the variability seen in the data.  \n",
    "\n",
    "**Second**: You will use the polls from the 2012 Presidential Elections to determine (1) Is there a pollster bias in presidential election polls? and (2) Is the average of polls better than just one poll?\n",
    "\n",
    "**Finally**: You will use the [HuffPost Pollster API](http://elections.huffingtonpost.com/pollster/api) to extract the polls for the current 2014 Senate Midterm Elections and provide a preliminary prediction of the result of each state.\n",
    "\n",
    "#### Data\n",
    "\n",
    "We will use the following data sets: \n",
    "\n",
    "1. A gene expression data set called `exprs_GSE5859.csv` and sample annotation table called `sampleinfo_GSE5859.csv` which are both available on Github in the 2014_data repository: [expression data set](https://github.com/cs109/2014_data/blob/master/exprs_GSE5859.csv) and [sample annotation table](https://github.com/cs109/2014_data/blob/master/sampleinfo_GSE5859.csv).  \n",
    "\n",
    "2. Polls from the [2012 Presidential Election: Barack Obama vs Mitt Romney](http://elections.huffingtonpost.com/pollster/2012-general-election-romney-vs-obama). The polls we will use are from the [Huffington Post Pollster](http://elections.huffingtonpost.com/pollster).  \n",
    "\n",
    "3. Polls from the [2014 Senate Midterm Elections](http://elections.huffingtonpost.com/pollster) from the [HuffPost Pollster API](http://elections.huffingtonpost.com/pollster/api). \n",
    "\n",
    "---"
   ]
  },
  {
   "cell_type": "markdown",
   "metadata": {},
   "source": [
    "## Load Python modules"
   ]
  },
  {
   "cell_type": "code",
   "execution_count": 121,
   "metadata": {
    "collapsed": true
   },
   "outputs": [],
   "source": [
    "# special IPython command to prepare the notebook for matplotlib\n",
    "%matplotlib inline \n",
    "\n",
    "import requests \n",
    "from StringIO import StringIO\n",
    "import numpy as np\n",
    "import pandas as pd # pandas\n",
    "import matplotlib.pyplot as plt # module for plotting \n",
    "import datetime as dt # module for manipulating dates and times\n",
    "import numpy.linalg as lin # module for performing linear algebra operations"
   ]
  },
  {
   "cell_type": "markdown",
   "metadata": {},
   "source": [
    "## Problem 1\n",
    "\n",
    "In this problem we will be using a [gene expression](http://en.wikipedia.org/wiki/Gene_expression) data set obtained from a [microarray](http://en.wikipedia.org/wiki/DNA_microarray) experiement [Read more about the specific experiment here](http://www.ncbi.nlm.nih.gov/geo/query/acc.cgi?acc=GSE5859).  There are two data sets we will use:  \n",
    "\n",
    "1. The gene expression intensities where the rows represent the features on the microarray (e.g. genes) and the columsns represent the different microarray samples.  \n",
    "\n",
    "2. A table that contains the information about each of the samples (columns in the gene expression data set) such as the sex, the age, the treatment status, the date the samples were processed.  Each row represents one sample. "
   ]
  },
  {
   "cell_type": "markdown",
   "metadata": {},
   "source": [
    "#### Problem 1(a) \n",
    "Read in the two files from Github: [exprs_GSE5859.csv](https://github.com/cs109/2014_data/blob/master/exprs_GSE5859.csv) and [sampleinfo_GSE5859.csv](https://github.com/cs109/2014_data/blob/master/sampleinfo_GSE5859.csv) as pandas DataFrames called `exprs` and `sampleinfo`. Use the gene names as the index of the `exprs` DataFrame."
   ]
  },
  {
   "cell_type": "code",
   "execution_count": 56,
   "metadata": {
    "collapsed": true
   },
   "outputs": [],
   "source": [
    "url1 = \"https://raw.githubusercontent.com/cs109/2014_data/master/exprs_GSE5859.csv\"\n",
    "url2 = \"https://raw.githubusercontent.com/cs109/2014_data/master/sampleinfo_GSE5859.csv\"\n",
    "#resp = requests.get(url)\n",
    "\n",
    "def urltoDF(url):\n",
    "    resp = requests.get(url)\n",
    "    resp_string = StringIO(resp.content)\n",
    "    df = pd.read_csv(resp_string)\n",
    "    return df\n",
    "\n",
    "exprs = urltoDF(url1)\n",
    "sampleinfo = urltoDF(url2)\n",
    "#exprs.head()"
   ]
  },
  {
   "cell_type": "code",
   "execution_count": 57,
   "metadata": {},
   "outputs": [
    {
     "data": {
      "text/html": [
       "<div>\n",
       "<style>\n",
       "    .dataframe thead tr:only-child th {\n",
       "        text-align: right;\n",
       "    }\n",
       "\n",
       "    .dataframe thead th {\n",
       "        text-align: left;\n",
       "    }\n",
       "\n",
       "    .dataframe tbody tr th {\n",
       "        vertical-align: top;\n",
       "    }\n",
       "</style>\n",
       "<table border=\"1\" class=\"dataframe\">\n",
       "  <thead>\n",
       "    <tr style=\"text-align: right;\">\n",
       "      <th></th>\n",
       "      <th>ethnicity</th>\n",
       "      <th>date</th>\n",
       "      <th>filename</th>\n",
       "      <th>sex</th>\n",
       "    </tr>\n",
       "  </thead>\n",
       "  <tbody>\n",
       "    <tr>\n",
       "      <th>0</th>\n",
       "      <td>CEU</td>\n",
       "      <td>2003-02-04</td>\n",
       "      <td>GSM25349.CEL.gz</td>\n",
       "      <td>M</td>\n",
       "    </tr>\n",
       "    <tr>\n",
       "      <th>1</th>\n",
       "      <td>CEU</td>\n",
       "      <td>2003-02-04</td>\n",
       "      <td>GSM25350.CEL.gz</td>\n",
       "      <td>M</td>\n",
       "    </tr>\n",
       "    <tr>\n",
       "      <th>2</th>\n",
       "      <td>CEU</td>\n",
       "      <td>2002-12-17</td>\n",
       "      <td>GSM25356.CEL.gz</td>\n",
       "      <td>M</td>\n",
       "    </tr>\n",
       "    <tr>\n",
       "      <th>3</th>\n",
       "      <td>CEU</td>\n",
       "      <td>2003-01-30</td>\n",
       "      <td>GSM25357.CEL.gz</td>\n",
       "      <td>M</td>\n",
       "    </tr>\n",
       "    <tr>\n",
       "      <th>4</th>\n",
       "      <td>CEU</td>\n",
       "      <td>2003-01-03</td>\n",
       "      <td>GSM25358.CEL.gz</td>\n",
       "      <td>M</td>\n",
       "    </tr>\n",
       "  </tbody>\n",
       "</table>\n",
       "</div>"
      ],
      "text/plain": [
       "  ethnicity        date         filename sex\n",
       "0       CEU  2003-02-04  GSM25349.CEL.gz   M\n",
       "1       CEU  2003-02-04  GSM25350.CEL.gz   M\n",
       "2       CEU  2002-12-17  GSM25356.CEL.gz   M\n",
       "3       CEU  2003-01-30  GSM25357.CEL.gz   M\n",
       "4       CEU  2003-01-03  GSM25358.CEL.gz   M"
      ]
     },
     "execution_count": 57,
     "metadata": {},
     "output_type": "execute_result"
    }
   ],
   "source": [
    "sampleinfo.head()"
   ]
  },
  {
   "cell_type": "code",
   "execution_count": 58,
   "metadata": {},
   "outputs": [
    {
     "data": {
      "text/html": [
       "<div>\n",
       "<style>\n",
       "    .dataframe thead tr:only-child th {\n",
       "        text-align: right;\n",
       "    }\n",
       "\n",
       "    .dataframe thead th {\n",
       "        text-align: left;\n",
       "    }\n",
       "\n",
       "    .dataframe tbody tr th {\n",
       "        vertical-align: top;\n",
       "    }\n",
       "</style>\n",
       "<table border=\"1\" class=\"dataframe\">\n",
       "  <thead>\n",
       "    <tr style=\"text-align: right;\">\n",
       "      <th></th>\n",
       "      <th>Unnamed: 0</th>\n",
       "      <th>GSM25581.CEL.gz</th>\n",
       "      <th>GSM25681.CEL.gz</th>\n",
       "      <th>GSM136524.CEL.gz</th>\n",
       "      <th>GSM136707.CEL.gz</th>\n",
       "      <th>GSM25553.CEL.gz</th>\n",
       "      <th>GSM136676.CEL.gz</th>\n",
       "      <th>GSM136711.CEL.gz</th>\n",
       "      <th>GSM136542.CEL.gz</th>\n",
       "      <th>GSM136535.CEL.gz</th>\n",
       "      <th>...</th>\n",
       "      <th>GSM48650.CEL.gz</th>\n",
       "      <th>GSM25687.CEL.gz</th>\n",
       "      <th>GSM25685.CEL.gz</th>\n",
       "      <th>GSM136549.CEL.gz</th>\n",
       "      <th>GSM25427.CEL.gz</th>\n",
       "      <th>GSM25525.CEL.gz</th>\n",
       "      <th>GSM25349.CEL.gz</th>\n",
       "      <th>GSM136727.CEL.gz</th>\n",
       "      <th>GSM25626.CEL.gz</th>\n",
       "      <th>GSM136725.CEL.gz</th>\n",
       "    </tr>\n",
       "  </thead>\n",
       "  <tbody>\n",
       "    <tr>\n",
       "      <th>0</th>\n",
       "      <td>1007_s_at</td>\n",
       "      <td>6.333951</td>\n",
       "      <td>5.736190</td>\n",
       "      <td>6.156754</td>\n",
       "      <td>6.513010</td>\n",
       "      <td>6.061013</td>\n",
       "      <td>6.506493</td>\n",
       "      <td>6.863426</td>\n",
       "      <td>6.369645</td>\n",
       "      <td>6.646321</td>\n",
       "      <td>...</td>\n",
       "      <td>7.082636</td>\n",
       "      <td>6.315866</td>\n",
       "      <td>7.010165</td>\n",
       "      <td>6.460107</td>\n",
       "      <td>6.122355</td>\n",
       "      <td>6.330314</td>\n",
       "      <td>6.627014</td>\n",
       "      <td>6.133068</td>\n",
       "      <td>6.419444</td>\n",
       "      <td>6.488579</td>\n",
       "    </tr>\n",
       "    <tr>\n",
       "      <th>1</th>\n",
       "      <td>1053_at</td>\n",
       "      <td>7.255622</td>\n",
       "      <td>7.399993</td>\n",
       "      <td>7.491967</td>\n",
       "      <td>7.006123</td>\n",
       "      <td>7.250995</td>\n",
       "      <td>7.082581</td>\n",
       "      <td>6.842236</td>\n",
       "      <td>7.048487</td>\n",
       "      <td>7.042361</td>\n",
       "      <td>...</td>\n",
       "      <td>6.599718</td>\n",
       "      <td>7.412731</td>\n",
       "      <td>7.274429</td>\n",
       "      <td>6.928642</td>\n",
       "      <td>7.168782</td>\n",
       "      <td>7.235648</td>\n",
       "      <td>6.939184</td>\n",
       "      <td>7.280781</td>\n",
       "      <td>6.351776</td>\n",
       "      <td>7.517410</td>\n",
       "    </tr>\n",
       "    <tr>\n",
       "      <th>2</th>\n",
       "      <td>117_at</td>\n",
       "      <td>5.760106</td>\n",
       "      <td>4.825169</td>\n",
       "      <td>5.039387</td>\n",
       "      <td>5.414160</td>\n",
       "      <td>5.205697</td>\n",
       "      <td>5.300078</td>\n",
       "      <td>5.099337</td>\n",
       "      <td>5.156459</td>\n",
       "      <td>5.736109</td>\n",
       "      <td>...</td>\n",
       "      <td>6.231457</td>\n",
       "      <td>5.240717</td>\n",
       "      <td>5.275062</td>\n",
       "      <td>5.759827</td>\n",
       "      <td>5.409720</td>\n",
       "      <td>5.491938</td>\n",
       "      <td>5.113570</td>\n",
       "      <td>5.401876</td>\n",
       "      <td>5.537605</td>\n",
       "      <td>5.247190</td>\n",
       "    </tr>\n",
       "    <tr>\n",
       "      <th>3</th>\n",
       "      <td>121_at</td>\n",
       "      <td>6.935451</td>\n",
       "      <td>7.025210</td>\n",
       "      <td>7.543667</td>\n",
       "      <td>7.959781</td>\n",
       "      <td>7.223323</td>\n",
       "      <td>8.006816</td>\n",
       "      <td>8.102504</td>\n",
       "      <td>7.434617</td>\n",
       "      <td>7.532321</td>\n",
       "      <td>...</td>\n",
       "      <td>8.215096</td>\n",
       "      <td>7.677593</td>\n",
       "      <td>7.923624</td>\n",
       "      <td>7.219401</td>\n",
       "      <td>7.432338</td>\n",
       "      <td>6.785174</td>\n",
       "      <td>7.833862</td>\n",
       "      <td>7.607461</td>\n",
       "      <td>7.302935</td>\n",
       "      <td>7.331864</td>\n",
       "    </tr>\n",
       "    <tr>\n",
       "      <th>4</th>\n",
       "      <td>1255_g_at</td>\n",
       "      <td>3.597872</td>\n",
       "      <td>3.108801</td>\n",
       "      <td>3.128269</td>\n",
       "      <td>3.364947</td>\n",
       "      <td>3.125909</td>\n",
       "      <td>3.186834</td>\n",
       "      <td>3.311022</td>\n",
       "      <td>3.092042</td>\n",
       "      <td>3.167737</td>\n",
       "      <td>...</td>\n",
       "      <td>3.331424</td>\n",
       "      <td>3.043856</td>\n",
       "      <td>3.151900</td>\n",
       "      <td>3.132253</td>\n",
       "      <td>3.250600</td>\n",
       "      <td>2.984125</td>\n",
       "      <td>3.152269</td>\n",
       "      <td>3.225123</td>\n",
       "      <td>3.222731</td>\n",
       "      <td>3.175846</td>\n",
       "    </tr>\n",
       "  </tbody>\n",
       "</table>\n",
       "<p>5 rows × 209 columns</p>\n",
       "</div>"
      ],
      "text/plain": [
       "  Unnamed: 0  GSM25581.CEL.gz  GSM25681.CEL.gz  GSM136524.CEL.gz  \\\n",
       "0  1007_s_at         6.333951         5.736190          6.156754   \n",
       "1    1053_at         7.255622         7.399993          7.491967   \n",
       "2     117_at         5.760106         4.825169          5.039387   \n",
       "3     121_at         6.935451         7.025210          7.543667   \n",
       "4  1255_g_at         3.597872         3.108801          3.128269   \n",
       "\n",
       "   GSM136707.CEL.gz  GSM25553.CEL.gz  GSM136676.CEL.gz  GSM136711.CEL.gz  \\\n",
       "0          6.513010         6.061013          6.506493          6.863426   \n",
       "1          7.006123         7.250995          7.082581          6.842236   \n",
       "2          5.414160         5.205697          5.300078          5.099337   \n",
       "3          7.959781         7.223323          8.006816          8.102504   \n",
       "4          3.364947         3.125909          3.186834          3.311022   \n",
       "\n",
       "   GSM136542.CEL.gz  GSM136535.CEL.gz        ...         GSM48650.CEL.gz  \\\n",
       "0          6.369645          6.646321        ...                7.082636   \n",
       "1          7.048487          7.042361        ...                6.599718   \n",
       "2          5.156459          5.736109        ...                6.231457   \n",
       "3          7.434617          7.532321        ...                8.215096   \n",
       "4          3.092042          3.167737        ...                3.331424   \n",
       "\n",
       "   GSM25687.CEL.gz  GSM25685.CEL.gz  GSM136549.CEL.gz  GSM25427.CEL.gz  \\\n",
       "0         6.315866         7.010165          6.460107         6.122355   \n",
       "1         7.412731         7.274429          6.928642         7.168782   \n",
       "2         5.240717         5.275062          5.759827         5.409720   \n",
       "3         7.677593         7.923624          7.219401         7.432338   \n",
       "4         3.043856         3.151900          3.132253         3.250600   \n",
       "\n",
       "   GSM25525.CEL.gz  GSM25349.CEL.gz  GSM136727.CEL.gz  GSM25626.CEL.gz  \\\n",
       "0         6.330314         6.627014          6.133068         6.419444   \n",
       "1         7.235648         6.939184          7.280781         6.351776   \n",
       "2         5.491938         5.113570          5.401876         5.537605   \n",
       "3         6.785174         7.833862          7.607461         7.302935   \n",
       "4         2.984125         3.152269          3.225123         3.222731   \n",
       "\n",
       "   GSM136725.CEL.gz  \n",
       "0          6.488579  \n",
       "1          7.517410  \n",
       "2          5.247190  \n",
       "3          7.331864  \n",
       "4          3.175846  \n",
       "\n",
       "[5 rows x 209 columns]"
      ]
     },
     "execution_count": 58,
     "metadata": {},
     "output_type": "execute_result"
    }
   ],
   "source": [
    "exprs.head()"
   ]
  },
  {
   "cell_type": "code",
   "execution_count": 59,
   "metadata": {},
   "outputs": [
    {
     "data": {
      "text/html": [
       "<div>\n",
       "<style>\n",
       "    .dataframe thead tr:only-child th {\n",
       "        text-align: right;\n",
       "    }\n",
       "\n",
       "    .dataframe thead th {\n",
       "        text-align: left;\n",
       "    }\n",
       "\n",
       "    .dataframe tbody tr th {\n",
       "        vertical-align: top;\n",
       "    }\n",
       "</style>\n",
       "<table border=\"1\" class=\"dataframe\">\n",
       "  <thead>\n",
       "    <tr style=\"text-align: right;\">\n",
       "      <th></th>\n",
       "      <th>GSM25581.CEL.gz</th>\n",
       "      <th>GSM25681.CEL.gz</th>\n",
       "      <th>GSM136524.CEL.gz</th>\n",
       "      <th>GSM136707.CEL.gz</th>\n",
       "      <th>GSM25553.CEL.gz</th>\n",
       "      <th>GSM136676.CEL.gz</th>\n",
       "      <th>GSM136711.CEL.gz</th>\n",
       "      <th>GSM136542.CEL.gz</th>\n",
       "      <th>GSM136535.CEL.gz</th>\n",
       "      <th>GSM25399.CEL.gz</th>\n",
       "      <th>...</th>\n",
       "      <th>GSM48650.CEL.gz</th>\n",
       "      <th>GSM25687.CEL.gz</th>\n",
       "      <th>GSM25685.CEL.gz</th>\n",
       "      <th>GSM136549.CEL.gz</th>\n",
       "      <th>GSM25427.CEL.gz</th>\n",
       "      <th>GSM25525.CEL.gz</th>\n",
       "      <th>GSM25349.CEL.gz</th>\n",
       "      <th>GSM136727.CEL.gz</th>\n",
       "      <th>GSM25626.CEL.gz</th>\n",
       "      <th>GSM136725.CEL.gz</th>\n",
       "    </tr>\n",
       "    <tr>\n",
       "      <th>Gene</th>\n",
       "      <th></th>\n",
       "      <th></th>\n",
       "      <th></th>\n",
       "      <th></th>\n",
       "      <th></th>\n",
       "      <th></th>\n",
       "      <th></th>\n",
       "      <th></th>\n",
       "      <th></th>\n",
       "      <th></th>\n",
       "      <th></th>\n",
       "      <th></th>\n",
       "      <th></th>\n",
       "      <th></th>\n",
       "      <th></th>\n",
       "      <th></th>\n",
       "      <th></th>\n",
       "      <th></th>\n",
       "      <th></th>\n",
       "      <th></th>\n",
       "      <th></th>\n",
       "    </tr>\n",
       "  </thead>\n",
       "  <tbody>\n",
       "    <tr>\n",
       "      <th>1007_s_at</th>\n",
       "      <td>6.333951</td>\n",
       "      <td>5.736190</td>\n",
       "      <td>6.156754</td>\n",
       "      <td>6.513010</td>\n",
       "      <td>6.061013</td>\n",
       "      <td>6.506493</td>\n",
       "      <td>6.863426</td>\n",
       "      <td>6.369645</td>\n",
       "      <td>6.646321</td>\n",
       "      <td>5.810930</td>\n",
       "      <td>...</td>\n",
       "      <td>7.082636</td>\n",
       "      <td>6.315866</td>\n",
       "      <td>7.010165</td>\n",
       "      <td>6.460107</td>\n",
       "      <td>6.122355</td>\n",
       "      <td>6.330314</td>\n",
       "      <td>6.627014</td>\n",
       "      <td>6.133068</td>\n",
       "      <td>6.419444</td>\n",
       "      <td>6.488579</td>\n",
       "    </tr>\n",
       "    <tr>\n",
       "      <th>1053_at</th>\n",
       "      <td>7.255622</td>\n",
       "      <td>7.399993</td>\n",
       "      <td>7.491967</td>\n",
       "      <td>7.006123</td>\n",
       "      <td>7.250995</td>\n",
       "      <td>7.082581</td>\n",
       "      <td>6.842236</td>\n",
       "      <td>7.048487</td>\n",
       "      <td>7.042361</td>\n",
       "      <td>6.666625</td>\n",
       "      <td>...</td>\n",
       "      <td>6.599718</td>\n",
       "      <td>7.412731</td>\n",
       "      <td>7.274429</td>\n",
       "      <td>6.928642</td>\n",
       "      <td>7.168782</td>\n",
       "      <td>7.235648</td>\n",
       "      <td>6.939184</td>\n",
       "      <td>7.280781</td>\n",
       "      <td>6.351776</td>\n",
       "      <td>7.517410</td>\n",
       "    </tr>\n",
       "    <tr>\n",
       "      <th>117_at</th>\n",
       "      <td>5.760106</td>\n",
       "      <td>4.825169</td>\n",
       "      <td>5.039387</td>\n",
       "      <td>5.414160</td>\n",
       "      <td>5.205697</td>\n",
       "      <td>5.300078</td>\n",
       "      <td>5.099337</td>\n",
       "      <td>5.156459</td>\n",
       "      <td>5.736109</td>\n",
       "      <td>5.807496</td>\n",
       "      <td>...</td>\n",
       "      <td>6.231457</td>\n",
       "      <td>5.240717</td>\n",
       "      <td>5.275062</td>\n",
       "      <td>5.759827</td>\n",
       "      <td>5.409720</td>\n",
       "      <td>5.491938</td>\n",
       "      <td>5.113570</td>\n",
       "      <td>5.401876</td>\n",
       "      <td>5.537605</td>\n",
       "      <td>5.247190</td>\n",
       "    </tr>\n",
       "    <tr>\n",
       "      <th>121_at</th>\n",
       "      <td>6.935451</td>\n",
       "      <td>7.025210</td>\n",
       "      <td>7.543667</td>\n",
       "      <td>7.959781</td>\n",
       "      <td>7.223323</td>\n",
       "      <td>8.006816</td>\n",
       "      <td>8.102504</td>\n",
       "      <td>7.434617</td>\n",
       "      <td>7.532321</td>\n",
       "      <td>7.711461</td>\n",
       "      <td>...</td>\n",
       "      <td>8.215096</td>\n",
       "      <td>7.677593</td>\n",
       "      <td>7.923624</td>\n",
       "      <td>7.219401</td>\n",
       "      <td>7.432338</td>\n",
       "      <td>6.785174</td>\n",
       "      <td>7.833862</td>\n",
       "      <td>7.607461</td>\n",
       "      <td>7.302935</td>\n",
       "      <td>7.331864</td>\n",
       "    </tr>\n",
       "    <tr>\n",
       "      <th>1255_g_at</th>\n",
       "      <td>3.597872</td>\n",
       "      <td>3.108801</td>\n",
       "      <td>3.128269</td>\n",
       "      <td>3.364947</td>\n",
       "      <td>3.125909</td>\n",
       "      <td>3.186834</td>\n",
       "      <td>3.311022</td>\n",
       "      <td>3.092042</td>\n",
       "      <td>3.167737</td>\n",
       "      <td>2.969579</td>\n",
       "      <td>...</td>\n",
       "      <td>3.331424</td>\n",
       "      <td>3.043856</td>\n",
       "      <td>3.151900</td>\n",
       "      <td>3.132253</td>\n",
       "      <td>3.250600</td>\n",
       "      <td>2.984125</td>\n",
       "      <td>3.152269</td>\n",
       "      <td>3.225123</td>\n",
       "      <td>3.222731</td>\n",
       "      <td>3.175846</td>\n",
       "    </tr>\n",
       "  </tbody>\n",
       "</table>\n",
       "<p>5 rows × 208 columns</p>\n",
       "</div>"
      ],
      "text/plain": [
       "           GSM25581.CEL.gz  GSM25681.CEL.gz  GSM136524.CEL.gz  \\\n",
       "Gene                                                            \n",
       "1007_s_at         6.333951         5.736190          6.156754   \n",
       "1053_at           7.255622         7.399993          7.491967   \n",
       "117_at            5.760106         4.825169          5.039387   \n",
       "121_at            6.935451         7.025210          7.543667   \n",
       "1255_g_at         3.597872         3.108801          3.128269   \n",
       "\n",
       "           GSM136707.CEL.gz  GSM25553.CEL.gz  GSM136676.CEL.gz  \\\n",
       "Gene                                                             \n",
       "1007_s_at          6.513010         6.061013          6.506493   \n",
       "1053_at            7.006123         7.250995          7.082581   \n",
       "117_at             5.414160         5.205697          5.300078   \n",
       "121_at             7.959781         7.223323          8.006816   \n",
       "1255_g_at          3.364947         3.125909          3.186834   \n",
       "\n",
       "           GSM136711.CEL.gz  GSM136542.CEL.gz  GSM136535.CEL.gz  \\\n",
       "Gene                                                              \n",
       "1007_s_at          6.863426          6.369645          6.646321   \n",
       "1053_at            6.842236          7.048487          7.042361   \n",
       "117_at             5.099337          5.156459          5.736109   \n",
       "121_at             8.102504          7.434617          7.532321   \n",
       "1255_g_at          3.311022          3.092042          3.167737   \n",
       "\n",
       "           GSM25399.CEL.gz        ...         GSM48650.CEL.gz  \\\n",
       "Gene                              ...                           \n",
       "1007_s_at         5.810930        ...                7.082636   \n",
       "1053_at           6.666625        ...                6.599718   \n",
       "117_at            5.807496        ...                6.231457   \n",
       "121_at            7.711461        ...                8.215096   \n",
       "1255_g_at         2.969579        ...                3.331424   \n",
       "\n",
       "           GSM25687.CEL.gz  GSM25685.CEL.gz  GSM136549.CEL.gz  \\\n",
       "Gene                                                            \n",
       "1007_s_at         6.315866         7.010165          6.460107   \n",
       "1053_at           7.412731         7.274429          6.928642   \n",
       "117_at            5.240717         5.275062          5.759827   \n",
       "121_at            7.677593         7.923624          7.219401   \n",
       "1255_g_at         3.043856         3.151900          3.132253   \n",
       "\n",
       "           GSM25427.CEL.gz  GSM25525.CEL.gz  GSM25349.CEL.gz  \\\n",
       "Gene                                                           \n",
       "1007_s_at         6.122355         6.330314         6.627014   \n",
       "1053_at           7.168782         7.235648         6.939184   \n",
       "117_at            5.409720         5.491938         5.113570   \n",
       "121_at            7.432338         6.785174         7.833862   \n",
       "1255_g_at         3.250600         2.984125         3.152269   \n",
       "\n",
       "           GSM136727.CEL.gz  GSM25626.CEL.gz  GSM136725.CEL.gz  \n",
       "Gene                                                            \n",
       "1007_s_at          6.133068         6.419444          6.488579  \n",
       "1053_at            7.280781         6.351776          7.517410  \n",
       "117_at             5.401876         5.537605          5.247190  \n",
       "121_at             7.607461         7.302935          7.331864  \n",
       "1255_g_at          3.225123         3.222731          3.175846  \n",
       "\n",
       "[5 rows x 208 columns]"
      ]
     },
     "execution_count": 59,
     "metadata": {},
     "output_type": "execute_result"
    }
   ],
   "source": [
    "exprs.rename(columns={'Unnamed: 0':'Gene'}, inplace=True)\n",
    "exprs.set_index('Gene').head()"
   ]
  },
  {
   "cell_type": "markdown",
   "metadata": {},
   "source": [
    "Make sure the order of the columns in the gene expression DataFrame match the order of file names in the sample annotation DataFrame. If the order of the columns the `exprs` DataFrame do not match the order of the file names in the `sampleinfo` DataFrame, reorder the columns in the `exprs` DataFrame. \n",
    "\n",
    "**Note**: The column names of the gene expression DataFrame are the filenames of the orignal files from which these data were obtained.  \n",
    "\n",
    "**Hint**: The method `list.index(x)` [[read here](https://docs.python.org/2/tutorial/datastructures.html)] can be used to return the index in the list of the first item whose value is x. It is an error if there is no such item. To check if the order of the columns in `exprs` matches the order of the rows in `sampleinfo`, you can check using the method `.all()` on a Boolean or list of Booleans: \n",
    "\n",
    "Example code: `(exprs.columns == sampleinfo.filename).all()`"
   ]
  },
  {
   "cell_type": "code",
   "execution_count": 60,
   "metadata": {},
   "outputs": [
    {
     "data": {
      "text/plain": [
       "False"
      ]
     },
     "execution_count": 60,
     "metadata": {},
     "output_type": "execute_result"
    }
   ],
   "source": [
    "#sampleinfo.shape (208, 4)\n",
    "#exprs.columns[1:]\n",
    "(exprs.columns[1:] == sampleinfo.filename).all()"
   ]
  },
  {
   "cell_type": "code",
   "execution_count": 61,
   "metadata": {},
   "outputs": [
    {
     "data": {
      "text/html": [
       "<div>\n",
       "<style>\n",
       "    .dataframe thead tr:only-child th {\n",
       "        text-align: right;\n",
       "    }\n",
       "\n",
       "    .dataframe thead th {\n",
       "        text-align: left;\n",
       "    }\n",
       "\n",
       "    .dataframe tbody tr th {\n",
       "        vertical-align: top;\n",
       "    }\n",
       "</style>\n",
       "<table border=\"1\" class=\"dataframe\">\n",
       "  <thead>\n",
       "    <tr style=\"text-align: right;\">\n",
       "      <th></th>\n",
       "      <th>ethnicity</th>\n",
       "      <th>date</th>\n",
       "      <th>filename</th>\n",
       "      <th>sex</th>\n",
       "    </tr>\n",
       "  </thead>\n",
       "  <tbody>\n",
       "    <tr>\n",
       "      <th>99</th>\n",
       "      <td>ASN</td>\n",
       "      <td>2005-05-13</td>\n",
       "      <td>GSM136441.CEL.gz</td>\n",
       "      <td>F</td>\n",
       "    </tr>\n",
       "    <tr>\n",
       "      <th>100</th>\n",
       "      <td>ASN</td>\n",
       "      <td>2005-06-10</td>\n",
       "      <td>GSM136442.CEL.gz</td>\n",
       "      <td>F</td>\n",
       "    </tr>\n",
       "    <tr>\n",
       "      <th>101</th>\n",
       "      <td>ASN</td>\n",
       "      <td>2005-06-10</td>\n",
       "      <td>GSM136443.CEL.gz</td>\n",
       "      <td>M</td>\n",
       "    </tr>\n",
       "    <tr>\n",
       "      <th>102</th>\n",
       "      <td>ASN</td>\n",
       "      <td>2005-06-10</td>\n",
       "      <td>GSM136444.CEL.gz</td>\n",
       "      <td>M</td>\n",
       "    </tr>\n",
       "    <tr>\n",
       "      <th>103</th>\n",
       "      <td>ASN</td>\n",
       "      <td>2005-06-10</td>\n",
       "      <td>GSM136445.CEL.gz</td>\n",
       "      <td>F</td>\n",
       "    </tr>\n",
       "    <tr>\n",
       "      <th>104</th>\n",
       "      <td>ASN</td>\n",
       "      <td>2005-06-10</td>\n",
       "      <td>GSM136506.CEL.gz</td>\n",
       "      <td>M</td>\n",
       "    </tr>\n",
       "    <tr>\n",
       "      <th>105</th>\n",
       "      <td>ASN</td>\n",
       "      <td>2005-06-23</td>\n",
       "      <td>GSM136507.CEL.gz</td>\n",
       "      <td>M</td>\n",
       "    </tr>\n",
       "    <tr>\n",
       "      <th>106</th>\n",
       "      <td>ASN</td>\n",
       "      <td>2005-06-23</td>\n",
       "      <td>GSM136508.CEL.gz</td>\n",
       "      <td>M</td>\n",
       "    </tr>\n",
       "    <tr>\n",
       "      <th>107</th>\n",
       "      <td>ASN</td>\n",
       "      <td>2005-06-23</td>\n",
       "      <td>GSM136509.CEL.gz</td>\n",
       "      <td>M</td>\n",
       "    </tr>\n",
       "    <tr>\n",
       "      <th>108</th>\n",
       "      <td>ASN</td>\n",
       "      <td>2005-06-23</td>\n",
       "      <td>GSM136510.CEL.gz</td>\n",
       "      <td>M</td>\n",
       "    </tr>\n",
       "  </tbody>\n",
       "</table>\n",
       "</div>"
      ],
      "text/plain": [
       "    ethnicity        date          filename sex\n",
       "99        ASN  2005-05-13  GSM136441.CEL.gz   F\n",
       "100       ASN  2005-06-10  GSM136442.CEL.gz   F\n",
       "101       ASN  2005-06-10  GSM136443.CEL.gz   M\n",
       "102       ASN  2005-06-10  GSM136444.CEL.gz   M\n",
       "103       ASN  2005-06-10  GSM136445.CEL.gz   F\n",
       "104       ASN  2005-06-10  GSM136506.CEL.gz   M\n",
       "105       ASN  2005-06-23  GSM136507.CEL.gz   M\n",
       "106       ASN  2005-06-23  GSM136508.CEL.gz   M\n",
       "107       ASN  2005-06-23  GSM136509.CEL.gz   M\n",
       "108       ASN  2005-06-23  GSM136510.CEL.gz   M"
      ]
     },
     "execution_count": 61,
     "metadata": {},
     "output_type": "execute_result"
    }
   ],
   "source": [
    "#sort the sampleinfo by the column filename\n",
    "sortedsampleinfo = sampleinfo.sort_values('filename', axis=0)\n",
    "sortedsampleinfo.head(10)"
   ]
  },
  {
   "cell_type": "code",
   "execution_count": 62,
   "metadata": {
    "collapsed": true
   },
   "outputs": [],
   "source": [
    "#exprs.sort_values(exprs.index, axis=1)\n",
    "sortedexprs = exprs[sorted(exprs.columns)]"
   ]
  },
  {
   "cell_type": "code",
   "execution_count": 63,
   "metadata": {},
   "outputs": [
    {
     "data": {
      "text/html": [
       "<div>\n",
       "<style>\n",
       "    .dataframe thead tr:only-child th {\n",
       "        text-align: right;\n",
       "    }\n",
       "\n",
       "    .dataframe thead th {\n",
       "        text-align: left;\n",
       "    }\n",
       "\n",
       "    .dataframe tbody tr th {\n",
       "        vertical-align: top;\n",
       "    }\n",
       "</style>\n",
       "<table border=\"1\" class=\"dataframe\">\n",
       "  <thead>\n",
       "    <tr style=\"text-align: right;\">\n",
       "      <th></th>\n",
       "      <th>GSM136441.CEL.gz</th>\n",
       "      <th>GSM136442.CEL.gz</th>\n",
       "      <th>GSM136443.CEL.gz</th>\n",
       "      <th>GSM136444.CEL.gz</th>\n",
       "      <th>GSM136445.CEL.gz</th>\n",
       "      <th>GSM136506.CEL.gz</th>\n",
       "      <th>GSM136507.CEL.gz</th>\n",
       "      <th>GSM136508.CEL.gz</th>\n",
       "      <th>GSM136509.CEL.gz</th>\n",
       "      <th>GSM136510.CEL.gz</th>\n",
       "      <th>...</th>\n",
       "      <th>GSM48655.CEL.gz</th>\n",
       "      <th>GSM48656.CEL.gz</th>\n",
       "      <th>GSM48657.CEL.gz</th>\n",
       "      <th>GSM48658.CEL.gz</th>\n",
       "      <th>GSM48660.CEL.gz</th>\n",
       "      <th>GSM48661.CEL.gz</th>\n",
       "      <th>GSM48662.CEL.gz</th>\n",
       "      <th>GSM48663.CEL.gz</th>\n",
       "      <th>GSM48664.CEL.gz</th>\n",
       "      <th>GSM48665.CEL.gz</th>\n",
       "    </tr>\n",
       "    <tr>\n",
       "      <th>Gene</th>\n",
       "      <th></th>\n",
       "      <th></th>\n",
       "      <th></th>\n",
       "      <th></th>\n",
       "      <th></th>\n",
       "      <th></th>\n",
       "      <th></th>\n",
       "      <th></th>\n",
       "      <th></th>\n",
       "      <th></th>\n",
       "      <th></th>\n",
       "      <th></th>\n",
       "      <th></th>\n",
       "      <th></th>\n",
       "      <th></th>\n",
       "      <th></th>\n",
       "      <th></th>\n",
       "      <th></th>\n",
       "      <th></th>\n",
       "      <th></th>\n",
       "      <th></th>\n",
       "    </tr>\n",
       "  </thead>\n",
       "  <tbody>\n",
       "    <tr>\n",
       "      <th>1007_s_at</th>\n",
       "      <td>6.302996</td>\n",
       "      <td>6.444051</td>\n",
       "      <td>6.238090</td>\n",
       "      <td>6.499574</td>\n",
       "      <td>6.454842</td>\n",
       "      <td>6.171587</td>\n",
       "      <td>6.517539</td>\n",
       "      <td>6.543954</td>\n",
       "      <td>6.379983</td>\n",
       "      <td>6.502051</td>\n",
       "      <td>...</td>\n",
       "      <td>6.237984</td>\n",
       "      <td>6.704893</td>\n",
       "      <td>6.720599</td>\n",
       "      <td>6.501510</td>\n",
       "      <td>6.558100</td>\n",
       "      <td>6.618286</td>\n",
       "      <td>6.869995</td>\n",
       "      <td>5.981000</td>\n",
       "      <td>6.403285</td>\n",
       "      <td>6.248702</td>\n",
       "    </tr>\n",
       "    <tr>\n",
       "      <th>1053_at</th>\n",
       "      <td>7.097359</td>\n",
       "      <td>7.099125</td>\n",
       "      <td>7.308965</td>\n",
       "      <td>6.889842</td>\n",
       "      <td>6.880901</td>\n",
       "      <td>7.123658</td>\n",
       "      <td>7.689282</td>\n",
       "      <td>7.546708</td>\n",
       "      <td>7.702533</td>\n",
       "      <td>7.302209</td>\n",
       "      <td>...</td>\n",
       "      <td>7.169030</td>\n",
       "      <td>6.658916</td>\n",
       "      <td>7.280992</td>\n",
       "      <td>7.066686</td>\n",
       "      <td>7.386702</td>\n",
       "      <td>6.407958</td>\n",
       "      <td>7.089180</td>\n",
       "      <td>7.120923</td>\n",
       "      <td>7.018998</td>\n",
       "      <td>7.155419</td>\n",
       "    </tr>\n",
       "    <tr>\n",
       "      <th>117_at</th>\n",
       "      <td>5.204992</td>\n",
       "      <td>5.448902</td>\n",
       "      <td>5.440455</td>\n",
       "      <td>5.386826</td>\n",
       "      <td>5.147856</td>\n",
       "      <td>5.298285</td>\n",
       "      <td>5.562001</td>\n",
       "      <td>5.402622</td>\n",
       "      <td>5.398616</td>\n",
       "      <td>5.395087</td>\n",
       "      <td>...</td>\n",
       "      <td>5.095864</td>\n",
       "      <td>5.308445</td>\n",
       "      <td>5.347524</td>\n",
       "      <td>5.600514</td>\n",
       "      <td>5.232676</td>\n",
       "      <td>5.630720</td>\n",
       "      <td>4.944748</td>\n",
       "      <td>5.275577</td>\n",
       "      <td>5.770358</td>\n",
       "      <td>5.616842</td>\n",
       "    </tr>\n",
       "    <tr>\n",
       "      <th>121_at</th>\n",
       "      <td>7.380881</td>\n",
       "      <td>7.638094</td>\n",
       "      <td>7.720119</td>\n",
       "      <td>7.822919</td>\n",
       "      <td>7.914191</td>\n",
       "      <td>7.636683</td>\n",
       "      <td>7.612557</td>\n",
       "      <td>7.892544</td>\n",
       "      <td>7.511478</td>\n",
       "      <td>7.993732</td>\n",
       "      <td>...</td>\n",
       "      <td>7.220390</td>\n",
       "      <td>7.712825</td>\n",
       "      <td>7.671745</td>\n",
       "      <td>7.437535</td>\n",
       "      <td>7.714650</td>\n",
       "      <td>7.416252</td>\n",
       "      <td>7.746448</td>\n",
       "      <td>8.001434</td>\n",
       "      <td>7.626723</td>\n",
       "      <td>7.452299</td>\n",
       "    </tr>\n",
       "    <tr>\n",
       "      <th>1255_g_at</th>\n",
       "      <td>3.200968</td>\n",
       "      <td>3.327960</td>\n",
       "      <td>3.192055</td>\n",
       "      <td>3.538002</td>\n",
       "      <td>3.352793</td>\n",
       "      <td>3.207580</td>\n",
       "      <td>3.107306</td>\n",
       "      <td>3.242779</td>\n",
       "      <td>3.212051</td>\n",
       "      <td>3.440186</td>\n",
       "      <td>...</td>\n",
       "      <td>2.926689</td>\n",
       "      <td>3.103790</td>\n",
       "      <td>3.016090</td>\n",
       "      <td>3.009983</td>\n",
       "      <td>3.151203</td>\n",
       "      <td>3.199709</td>\n",
       "      <td>3.159496</td>\n",
       "      <td>3.149710</td>\n",
       "      <td>3.242780</td>\n",
       "      <td>3.433125</td>\n",
       "    </tr>\n",
       "  </tbody>\n",
       "</table>\n",
       "<p>5 rows × 208 columns</p>\n",
       "</div>"
      ],
      "text/plain": [
       "           GSM136441.CEL.gz  GSM136442.CEL.gz  GSM136443.CEL.gz  \\\n",
       "Gene                                                              \n",
       "1007_s_at          6.302996          6.444051          6.238090   \n",
       "1053_at            7.097359          7.099125          7.308965   \n",
       "117_at             5.204992          5.448902          5.440455   \n",
       "121_at             7.380881          7.638094          7.720119   \n",
       "1255_g_at          3.200968          3.327960          3.192055   \n",
       "\n",
       "           GSM136444.CEL.gz  GSM136445.CEL.gz  GSM136506.CEL.gz  \\\n",
       "Gene                                                              \n",
       "1007_s_at          6.499574          6.454842          6.171587   \n",
       "1053_at            6.889842          6.880901          7.123658   \n",
       "117_at             5.386826          5.147856          5.298285   \n",
       "121_at             7.822919          7.914191          7.636683   \n",
       "1255_g_at          3.538002          3.352793          3.207580   \n",
       "\n",
       "           GSM136507.CEL.gz  GSM136508.CEL.gz  GSM136509.CEL.gz  \\\n",
       "Gene                                                              \n",
       "1007_s_at          6.517539          6.543954          6.379983   \n",
       "1053_at            7.689282          7.546708          7.702533   \n",
       "117_at             5.562001          5.402622          5.398616   \n",
       "121_at             7.612557          7.892544          7.511478   \n",
       "1255_g_at          3.107306          3.242779          3.212051   \n",
       "\n",
       "           GSM136510.CEL.gz       ...         GSM48655.CEL.gz  \\\n",
       "Gene                              ...                           \n",
       "1007_s_at          6.502051       ...                6.237984   \n",
       "1053_at            7.302209       ...                7.169030   \n",
       "117_at             5.395087       ...                5.095864   \n",
       "121_at             7.993732       ...                7.220390   \n",
       "1255_g_at          3.440186       ...                2.926689   \n",
       "\n",
       "           GSM48656.CEL.gz  GSM48657.CEL.gz  GSM48658.CEL.gz  GSM48660.CEL.gz  \\\n",
       "Gene                                                                            \n",
       "1007_s_at         6.704893         6.720599         6.501510         6.558100   \n",
       "1053_at           6.658916         7.280992         7.066686         7.386702   \n",
       "117_at            5.308445         5.347524         5.600514         5.232676   \n",
       "121_at            7.712825         7.671745         7.437535         7.714650   \n",
       "1255_g_at         3.103790         3.016090         3.009983         3.151203   \n",
       "\n",
       "           GSM48661.CEL.gz  GSM48662.CEL.gz  GSM48663.CEL.gz  GSM48664.CEL.gz  \\\n",
       "Gene                                                                            \n",
       "1007_s_at         6.618286         6.869995         5.981000         6.403285   \n",
       "1053_at           6.407958         7.089180         7.120923         7.018998   \n",
       "117_at            5.630720         4.944748         5.275577         5.770358   \n",
       "121_at            7.416252         7.746448         8.001434         7.626723   \n",
       "1255_g_at         3.199709         3.159496         3.149710         3.242780   \n",
       "\n",
       "           GSM48665.CEL.gz  \n",
       "Gene                        \n",
       "1007_s_at         6.248702  \n",
       "1053_at           7.155419  \n",
       "117_at            5.616842  \n",
       "121_at            7.452299  \n",
       "1255_g_at         3.433125  \n",
       "\n",
       "[5 rows x 208 columns]"
      ]
     },
     "execution_count": 63,
     "metadata": {},
     "output_type": "execute_result"
    }
   ],
   "source": [
    "indexeprs = sortedexprs.set_index('Gene')\n",
    "indexeprs.head()"
   ]
  },
  {
   "cell_type": "code",
   "execution_count": 64,
   "metadata": {},
   "outputs": [
    {
     "data": {
      "text/plain": [
       "True"
      ]
     },
     "execution_count": 64,
     "metadata": {},
     "output_type": "execute_result"
    }
   ],
   "source": [
    "#new test of the order!\n",
    "(indexeprs.columns == sortedsampleinfo.filename).all()"
   ]
  },
  {
   "cell_type": "markdown",
   "metadata": {},
   "source": [
    "Show the head of the two tables: `exprs` and `sampleinfo`. "
   ]
  },
  {
   "cell_type": "code",
   "execution_count": 11,
   "metadata": {},
   "outputs": [
    {
     "name": "stdout",
     "output_type": "stream",
     "text": [
      "           GSM136441.CEL.gz  GSM136442.CEL.gz  GSM136443.CEL.gz  \\\n",
      "Gene                                                              \n",
      "1007_s_at          6.302996          6.444051          6.238090   \n",
      "1053_at            7.097359          7.099125          7.308965   \n",
      "117_at             5.204992          5.448902          5.440455   \n",
      "121_at             7.380881          7.638094          7.720119   \n",
      "1255_g_at          3.200968          3.327960          3.192055   \n",
      "\n",
      "           GSM136444.CEL.gz  GSM136445.CEL.gz  GSM136506.CEL.gz  \\\n",
      "Gene                                                              \n",
      "1007_s_at          6.499574          6.454842          6.171587   \n",
      "1053_at            6.889842          6.880901          7.123658   \n",
      "117_at             5.386826          5.147856          5.298285   \n",
      "121_at             7.822919          7.914191          7.636683   \n",
      "1255_g_at          3.538002          3.352793          3.207580   \n",
      "\n",
      "           GSM136507.CEL.gz  GSM136508.CEL.gz  GSM136509.CEL.gz  \\\n",
      "Gene                                                              \n",
      "1007_s_at          6.517539          6.543954          6.379983   \n",
      "1053_at            7.689282          7.546708          7.702533   \n",
      "117_at             5.562001          5.402622          5.398616   \n",
      "121_at             7.612557          7.892544          7.511478   \n",
      "1255_g_at          3.107306          3.242779          3.212051   \n",
      "\n",
      "           GSM136510.CEL.gz       ...         GSM48655.CEL.gz  \\\n",
      "Gene                              ...                           \n",
      "1007_s_at          6.502051       ...                6.237984   \n",
      "1053_at            7.302209       ...                7.169030   \n",
      "117_at             5.395087       ...                5.095864   \n",
      "121_at             7.993732       ...                7.220390   \n",
      "1255_g_at          3.440186       ...                2.926689   \n",
      "\n",
      "           GSM48656.CEL.gz  GSM48657.CEL.gz  GSM48658.CEL.gz  GSM48660.CEL.gz  \\\n",
      "Gene                                                                            \n",
      "1007_s_at         6.704893         6.720599         6.501510         6.558100   \n",
      "1053_at           6.658916         7.280992         7.066686         7.386702   \n",
      "117_at            5.308445         5.347524         5.600514         5.232676   \n",
      "121_at            7.712825         7.671745         7.437535         7.714650   \n",
      "1255_g_at         3.103790         3.016090         3.009983         3.151203   \n",
      "\n",
      "           GSM48661.CEL.gz  GSM48662.CEL.gz  GSM48663.CEL.gz  GSM48664.CEL.gz  \\\n",
      "Gene                                                                            \n",
      "1007_s_at         6.618286         6.869995         5.981000         6.403285   \n",
      "1053_at           6.407958         7.089180         7.120923         7.018998   \n",
      "117_at            5.630720         4.944748         5.275577         5.770358   \n",
      "121_at            7.416252         7.746448         8.001434         7.626723   \n",
      "1255_g_at         3.199709         3.159496         3.149710         3.242780   \n",
      "\n",
      "           GSM48665.CEL.gz  \n",
      "Gene                        \n",
      "1007_s_at         6.248702  \n",
      "1053_at           7.155419  \n",
      "117_at            5.616842  \n",
      "121_at            7.452299  \n",
      "1255_g_at         3.433125  \n",
      "\n",
      "[5 rows x 208 columns]\n",
      "    ethnicity        date          filename sex\n",
      "99        ASN  2005-05-13  GSM136441.CEL.gz   F\n",
      "100       ASN  2005-06-10  GSM136442.CEL.gz   F\n",
      "101       ASN  2005-06-10  GSM136443.CEL.gz   M\n",
      "102       ASN  2005-06-10  GSM136444.CEL.gz   M\n",
      "103       ASN  2005-06-10  GSM136445.CEL.gz   F\n"
     ]
    }
   ],
   "source": [
    "print indexeprs.head()\n",
    "print sortedsampleinfo.head()"
   ]
  },
  {
   "cell_type": "markdown",
   "metadata": {},
   "source": [
    "#### Problem 1(b)\n",
    "\n",
    "Extract the year and month as integers from the `sampleinfo` table. \n",
    "\n",
    "**Hint**: To convert a Series or a column of a pandas DataFrame that contains a date-like object, you can use the `to_datetime` function [[read here](http://pandas.pydata.org/pandas-docs/stable/timeseries.html)].  This will create a `DatetimeIndex` which can be used to extract the month and year for each row in the DataFrame. "
   ]
  },
  {
   "cell_type": "code",
   "execution_count": 65,
   "metadata": {},
   "outputs": [
    {
     "data": {
      "text/plain": [
       "ethnicity            object\n",
       "date         datetime64[ns]\n",
       "filename             object\n",
       "sex                  object\n",
       "dtype: object"
      ]
     },
     "execution_count": 65,
     "metadata": {},
     "output_type": "execute_result"
    }
   ],
   "source": [
    "#convert to datetime\n",
    "sortedsampleinfo['date'] = pd.to_datetime(sortedsampleinfo['date'])\n",
    "sortedsampleinfo.dtypes"
   ]
  },
  {
   "cell_type": "code",
   "execution_count": 68,
   "metadata": {},
   "outputs": [
    {
     "data": {
      "text/html": [
       "<div>\n",
       "<style>\n",
       "    .dataframe thead tr:only-child th {\n",
       "        text-align: right;\n",
       "    }\n",
       "\n",
       "    .dataframe thead th {\n",
       "        text-align: left;\n",
       "    }\n",
       "\n",
       "    .dataframe tbody tr th {\n",
       "        vertical-align: top;\n",
       "    }\n",
       "</style>\n",
       "<table border=\"1\" class=\"dataframe\">\n",
       "  <thead>\n",
       "    <tr style=\"text-align: right;\">\n",
       "      <th></th>\n",
       "      <th>ethnicity</th>\n",
       "      <th>date</th>\n",
       "      <th>filename</th>\n",
       "      <th>sex</th>\n",
       "      <th>year</th>\n",
       "      <th>month</th>\n",
       "    </tr>\n",
       "  </thead>\n",
       "  <tbody>\n",
       "    <tr>\n",
       "      <th>99</th>\n",
       "      <td>ASN</td>\n",
       "      <td>2005-05-13</td>\n",
       "      <td>GSM136441.CEL.gz</td>\n",
       "      <td>F</td>\n",
       "      <td>2005</td>\n",
       "      <td>5</td>\n",
       "    </tr>\n",
       "    <tr>\n",
       "      <th>100</th>\n",
       "      <td>ASN</td>\n",
       "      <td>2005-06-10</td>\n",
       "      <td>GSM136442.CEL.gz</td>\n",
       "      <td>F</td>\n",
       "      <td>2005</td>\n",
       "      <td>6</td>\n",
       "    </tr>\n",
       "    <tr>\n",
       "      <th>101</th>\n",
       "      <td>ASN</td>\n",
       "      <td>2005-06-10</td>\n",
       "      <td>GSM136443.CEL.gz</td>\n",
       "      <td>M</td>\n",
       "      <td>2005</td>\n",
       "      <td>6</td>\n",
       "    </tr>\n",
       "    <tr>\n",
       "      <th>102</th>\n",
       "      <td>ASN</td>\n",
       "      <td>2005-06-10</td>\n",
       "      <td>GSM136444.CEL.gz</td>\n",
       "      <td>M</td>\n",
       "      <td>2005</td>\n",
       "      <td>6</td>\n",
       "    </tr>\n",
       "    <tr>\n",
       "      <th>103</th>\n",
       "      <td>ASN</td>\n",
       "      <td>2005-06-10</td>\n",
       "      <td>GSM136445.CEL.gz</td>\n",
       "      <td>F</td>\n",
       "      <td>2005</td>\n",
       "      <td>6</td>\n",
       "    </tr>\n",
       "  </tbody>\n",
       "</table>\n",
       "</div>"
      ],
      "text/plain": [
       "    ethnicity       date          filename sex  year  month\n",
       "99        ASN 2005-05-13  GSM136441.CEL.gz   F  2005      5\n",
       "100       ASN 2005-06-10  GSM136442.CEL.gz   F  2005      6\n",
       "101       ASN 2005-06-10  GSM136443.CEL.gz   M  2005      6\n",
       "102       ASN 2005-06-10  GSM136444.CEL.gz   M  2005      6\n",
       "103       ASN 2005-06-10  GSM136445.CEL.gz   F  2005      6"
      ]
     },
     "execution_count": 68,
     "metadata": {},
     "output_type": "execute_result"
    }
   ],
   "source": [
    "#implementation with a map\n",
    "sortedsampleinfo['year'] = map(lambda x: x.year,sortedsampleinfo['date'] )\n",
    "sortedsampleinfo['month'] = map(lambda x: x.month,sortedsampleinfo['date'] )\n",
    "sortedsampleinfo.head()"
   ]
  },
  {
   "cell_type": "code",
   "execution_count": 69,
   "metadata": {},
   "outputs": [
    {
     "data": {
      "text/html": [
       "<div>\n",
       "<style>\n",
       "    .dataframe thead tr:only-child th {\n",
       "        text-align: right;\n",
       "    }\n",
       "\n",
       "    .dataframe thead th {\n",
       "        text-align: left;\n",
       "    }\n",
       "\n",
       "    .dataframe tbody tr th {\n",
       "        vertical-align: top;\n",
       "    }\n",
       "</style>\n",
       "<table border=\"1\" class=\"dataframe\">\n",
       "  <thead>\n",
       "    <tr style=\"text-align: right;\">\n",
       "      <th></th>\n",
       "      <th>ethnicity</th>\n",
       "      <th>date</th>\n",
       "      <th>filename</th>\n",
       "      <th>sex</th>\n",
       "      <th>year</th>\n",
       "      <th>month</th>\n",
       "    </tr>\n",
       "  </thead>\n",
       "  <tbody>\n",
       "    <tr>\n",
       "      <th>99</th>\n",
       "      <td>ASN</td>\n",
       "      <td>2005-05-13</td>\n",
       "      <td>GSM136441.CEL.gz</td>\n",
       "      <td>F</td>\n",
       "      <td>2005</td>\n",
       "      <td>5</td>\n",
       "    </tr>\n",
       "    <tr>\n",
       "      <th>100</th>\n",
       "      <td>ASN</td>\n",
       "      <td>2005-06-10</td>\n",
       "      <td>GSM136442.CEL.gz</td>\n",
       "      <td>F</td>\n",
       "      <td>2005</td>\n",
       "      <td>6</td>\n",
       "    </tr>\n",
       "    <tr>\n",
       "      <th>101</th>\n",
       "      <td>ASN</td>\n",
       "      <td>2005-06-10</td>\n",
       "      <td>GSM136443.CEL.gz</td>\n",
       "      <td>M</td>\n",
       "      <td>2005</td>\n",
       "      <td>6</td>\n",
       "    </tr>\n",
       "    <tr>\n",
       "      <th>102</th>\n",
       "      <td>ASN</td>\n",
       "      <td>2005-06-10</td>\n",
       "      <td>GSM136444.CEL.gz</td>\n",
       "      <td>M</td>\n",
       "      <td>2005</td>\n",
       "      <td>6</td>\n",
       "    </tr>\n",
       "    <tr>\n",
       "      <th>103</th>\n",
       "      <td>ASN</td>\n",
       "      <td>2005-06-10</td>\n",
       "      <td>GSM136445.CEL.gz</td>\n",
       "      <td>F</td>\n",
       "      <td>2005</td>\n",
       "      <td>6</td>\n",
       "    </tr>\n",
       "  </tbody>\n",
       "</table>\n",
       "</div>"
      ],
      "text/plain": [
       "    ethnicity       date          filename sex  year  month\n",
       "99        ASN 2005-05-13  GSM136441.CEL.gz   F  2005      5\n",
       "100       ASN 2005-06-10  GSM136442.CEL.gz   F  2005      6\n",
       "101       ASN 2005-06-10  GSM136443.CEL.gz   M  2005      6\n",
       "102       ASN 2005-06-10  GSM136444.CEL.gz   M  2005      6\n",
       "103       ASN 2005-06-10  GSM136445.CEL.gz   F  2005      6"
      ]
     },
     "execution_count": 69,
     "metadata": {},
     "output_type": "execute_result"
    }
   ],
   "source": [
    "#implementation with a apply function\n",
    "#extract the year and the month\n",
    "sortedsampleinfo['year'] = sortedsampleinfo['date'].apply(lambda f: f.year)\n",
    "sortedsampleinfo['month'] = sortedsampleinfo['date'].apply(lambda f: f.month)\n",
    "sortedsampleinfo.head()"
   ]
  },
  {
   "cell_type": "markdown",
   "metadata": {},
   "source": [
    "#### Problem 1(c)\n",
    "\n",
    "Convert the dates in the `date` column from the `sampleinfo` table into days since October 31, 2002. Add a column to the `sampleinfo` DataFrame titled `elapsedInDays` containing the days since October 31, 2002.  Show the head of the `sampleinfo` DataFrame which includes the new column.  \n",
    "\n",
    "**Hint**: Use the `datetime` module to create a new `datetime` object for the specific date October 31, 2002. Then, subtract the October 31, 2002 date from each date from the `date` column in the `sampleinfo` DataFrame. "
   ]
  },
  {
   "cell_type": "code",
   "execution_count": 94,
   "metadata": {},
   "outputs": [
    {
     "data": {
      "text/html": [
       "<div>\n",
       "<style>\n",
       "    .dataframe thead tr:only-child th {\n",
       "        text-align: right;\n",
       "    }\n",
       "\n",
       "    .dataframe thead th {\n",
       "        text-align: left;\n",
       "    }\n",
       "\n",
       "    .dataframe tbody tr th {\n",
       "        vertical-align: top;\n",
       "    }\n",
       "</style>\n",
       "<table border=\"1\" class=\"dataframe\">\n",
       "  <thead>\n",
       "    <tr style=\"text-align: right;\">\n",
       "      <th></th>\n",
       "      <th>ethnicity</th>\n",
       "      <th>date</th>\n",
       "      <th>filename</th>\n",
       "      <th>sex</th>\n",
       "      <th>year</th>\n",
       "      <th>month</th>\n",
       "      <th>elapsedInDays</th>\n",
       "    </tr>\n",
       "  </thead>\n",
       "  <tbody>\n",
       "    <tr>\n",
       "      <th>99</th>\n",
       "      <td>ASN</td>\n",
       "      <td>2005-05-13</td>\n",
       "      <td>GSM136441.CEL.gz</td>\n",
       "      <td>F</td>\n",
       "      <td>2005</td>\n",
       "      <td>5</td>\n",
       "      <td>925</td>\n",
       "    </tr>\n",
       "    <tr>\n",
       "      <th>100</th>\n",
       "      <td>ASN</td>\n",
       "      <td>2005-06-10</td>\n",
       "      <td>GSM136442.CEL.gz</td>\n",
       "      <td>F</td>\n",
       "      <td>2005</td>\n",
       "      <td>6</td>\n",
       "      <td>953</td>\n",
       "    </tr>\n",
       "    <tr>\n",
       "      <th>101</th>\n",
       "      <td>ASN</td>\n",
       "      <td>2005-06-10</td>\n",
       "      <td>GSM136443.CEL.gz</td>\n",
       "      <td>M</td>\n",
       "      <td>2005</td>\n",
       "      <td>6</td>\n",
       "      <td>953</td>\n",
       "    </tr>\n",
       "    <tr>\n",
       "      <th>102</th>\n",
       "      <td>ASN</td>\n",
       "      <td>2005-06-10</td>\n",
       "      <td>GSM136444.CEL.gz</td>\n",
       "      <td>M</td>\n",
       "      <td>2005</td>\n",
       "      <td>6</td>\n",
       "      <td>953</td>\n",
       "    </tr>\n",
       "    <tr>\n",
       "      <th>103</th>\n",
       "      <td>ASN</td>\n",
       "      <td>2005-06-10</td>\n",
       "      <td>GSM136445.CEL.gz</td>\n",
       "      <td>F</td>\n",
       "      <td>2005</td>\n",
       "      <td>6</td>\n",
       "      <td>953</td>\n",
       "    </tr>\n",
       "  </tbody>\n",
       "</table>\n",
       "</div>"
      ],
      "text/plain": [
       "    ethnicity       date          filename sex  year  month  elapsedInDays\n",
       "99        ASN 2005-05-13  GSM136441.CEL.gz   F  2005      5            925\n",
       "100       ASN 2005-06-10  GSM136442.CEL.gz   F  2005      6            953\n",
       "101       ASN 2005-06-10  GSM136443.CEL.gz   M  2005      6            953\n",
       "102       ASN 2005-06-10  GSM136444.CEL.gz   M  2005      6            953\n",
       "103       ASN 2005-06-10  GSM136445.CEL.gz   F  2005      6            953"
      ]
     },
     "execution_count": 94,
     "metadata": {},
     "output_type": "execute_result"
    }
   ],
   "source": [
    "#define the origin date\n",
    "origin = dt.datetime(year=2002, month=10, day=31)\n",
    "#create the new elapsed column\n",
    "sortedsampleinfo['elapsedInDays'] = sortedsampleinfo['date'].apply(lambda f: (f - origin).days)\n",
    "#implementation with map\n",
    "#sampleinfo[\"elapsedInDays\"] = map(lambda x: (x - oct31).days, sampleinfo.date)\n",
    "sortedsampleinfo.head()"
   ]
  },
  {
   "cell_type": "code",
   "execution_count": 15,
   "metadata": {},
   "outputs": [
    {
     "name": "stdout",
     "output_type": "stream",
     "text": [
      "[ 0.06063696  0.05842599  0.04970872  0.04344233  0.03723615]\n"
     ]
    }
   ],
   "source": [
    "from sklearn.decomposition import TruncatedSVD\n",
    "from sklearn.random_projection import sparse_random_matrix\n",
    "X = sparse_random_matrix(100, 100, density=0.01, random_state=42)\n",
    "svd = TruncatedSVD(n_components=5, n_iter=7, random_state=42)\n",
    "svd.fit(X) \n",
    "print(svd.explained_variance_ratio_)\n",
    "#print(svd.explained_variance_ratio_.sum())\n",
    "#print(svd.singular_values_) "
   ]
  },
  {
   "cell_type": "markdown",
   "metadata": {},
   "source": [
    "#### Problem 1(d)\n",
    "\n",
    "Use exploratory analysis and the singular value decomposition (SVD) of the gene expression data matrix to determine if the date the samples were processed has large effect on the variability seen in the data or if it is just ethnicity (which is confounded with date). \n",
    "\n",
    "**Hint**: See the end of the [lecture from 9/23/2014 for help with SVD](http://nbviewer.ipython.org/github/cs109/2014/blob/master/lectures/lecture07/data_scraping_transcript.ipynb). \n",
    "\n",
    "First subset the the `sampleinfo` DataFrame to include only the CEU ethnicity.  Call this new subsetted DataFrame `sampleinfoCEU`.  Show the head of `sampleinfoCEU` DataFrame. "
   ]
  },
  {
   "cell_type": "code",
   "execution_count": 95,
   "metadata": {},
   "outputs": [
    {
     "data": {
      "text/html": [
       "<div>\n",
       "<style>\n",
       "    .dataframe thead tr:only-child th {\n",
       "        text-align: right;\n",
       "    }\n",
       "\n",
       "    .dataframe thead th {\n",
       "        text-align: left;\n",
       "    }\n",
       "\n",
       "    .dataframe tbody tr th {\n",
       "        vertical-align: top;\n",
       "    }\n",
       "</style>\n",
       "<table border=\"1\" class=\"dataframe\">\n",
       "  <thead>\n",
       "    <tr style=\"text-align: right;\">\n",
       "      <th></th>\n",
       "      <th>ethnicity</th>\n",
       "      <th>date</th>\n",
       "      <th>filename</th>\n",
       "      <th>sex</th>\n",
       "      <th>year</th>\n",
       "      <th>month</th>\n",
       "      <th>elapsedInDays</th>\n",
       "    </tr>\n",
       "  </thead>\n",
       "  <tbody>\n",
       "    <tr>\n",
       "      <th>204</th>\n",
       "      <td>CEU</td>\n",
       "      <td>2005-02-16</td>\n",
       "      <td>GSM136725.CEL.gz</td>\n",
       "      <td>F</td>\n",
       "      <td>2005</td>\n",
       "      <td>2</td>\n",
       "      <td>839</td>\n",
       "    </tr>\n",
       "    <tr>\n",
       "      <th>205</th>\n",
       "      <td>CEU</td>\n",
       "      <td>2005-02-16</td>\n",
       "      <td>GSM136726.CEL.gz</td>\n",
       "      <td>M</td>\n",
       "      <td>2005</td>\n",
       "      <td>2</td>\n",
       "      <td>839</td>\n",
       "    </tr>\n",
       "    <tr>\n",
       "      <th>206</th>\n",
       "      <td>CEU</td>\n",
       "      <td>2005-06-10</td>\n",
       "      <td>GSM136727.CEL.gz</td>\n",
       "      <td>M</td>\n",
       "      <td>2005</td>\n",
       "      <td>6</td>\n",
       "      <td>953</td>\n",
       "    </tr>\n",
       "    <tr>\n",
       "      <th>0</th>\n",
       "      <td>CEU</td>\n",
       "      <td>2003-02-04</td>\n",
       "      <td>GSM25349.CEL.gz</td>\n",
       "      <td>M</td>\n",
       "      <td>2003</td>\n",
       "      <td>2</td>\n",
       "      <td>96</td>\n",
       "    </tr>\n",
       "    <tr>\n",
       "      <th>1</th>\n",
       "      <td>CEU</td>\n",
       "      <td>2003-02-04</td>\n",
       "      <td>GSM25350.CEL.gz</td>\n",
       "      <td>M</td>\n",
       "      <td>2003</td>\n",
       "      <td>2</td>\n",
       "      <td>96</td>\n",
       "    </tr>\n",
       "  </tbody>\n",
       "</table>\n",
       "</div>"
      ],
      "text/plain": [
       "    ethnicity       date          filename sex  year  month  elapsedInDays\n",
       "204       CEU 2005-02-16  GSM136725.CEL.gz   F  2005      2            839\n",
       "205       CEU 2005-02-16  GSM136726.CEL.gz   M  2005      2            839\n",
       "206       CEU 2005-06-10  GSM136727.CEL.gz   M  2005      6            953\n",
       "0         CEU 2003-02-04   GSM25349.CEL.gz   M  2003      2             96\n",
       "1         CEU 2003-02-04   GSM25350.CEL.gz   M  2003      2             96"
      ]
     },
     "execution_count": 95,
     "metadata": {},
     "output_type": "execute_result"
    }
   ],
   "source": [
    "#filter on only the CEU \n",
    "sampleinfoCEU = sortedsampleinfo[sortedsampleinfo['ethnicity'] == 'CEU']\n",
    "sampleinfoCEU.head()"
   ]
  },
  {
   "cell_type": "markdown",
   "metadata": {},
   "source": [
    "Next, subset the `exprs` DataFrame to only include the samples with the CEU ethnicity. Name this new subsetted DataFrame `exprsCEU`. Show the head of the `exprsCEU` DataFrame. "
   ]
  },
  {
   "cell_type": "code",
   "execution_count": 96,
   "metadata": {},
   "outputs": [
    {
     "data": {
      "text/html": [
       "<div>\n",
       "<style>\n",
       "    .dataframe thead tr:only-child th {\n",
       "        text-align: right;\n",
       "    }\n",
       "\n",
       "    .dataframe thead th {\n",
       "        text-align: left;\n",
       "    }\n",
       "\n",
       "    .dataframe tbody tr th {\n",
       "        vertical-align: top;\n",
       "    }\n",
       "</style>\n",
       "<table border=\"1\" class=\"dataframe\">\n",
       "  <thead>\n",
       "    <tr style=\"text-align: right;\">\n",
       "      <th></th>\n",
       "      <th>GSM136725.CEL.gz</th>\n",
       "      <th>GSM136726.CEL.gz</th>\n",
       "      <th>GSM136727.CEL.gz</th>\n",
       "      <th>GSM25349.CEL.gz</th>\n",
       "      <th>GSM25350.CEL.gz</th>\n",
       "      <th>GSM25356.CEL.gz</th>\n",
       "      <th>GSM25357.CEL.gz</th>\n",
       "      <th>GSM25358.CEL.gz</th>\n",
       "      <th>GSM25359.CEL.gz</th>\n",
       "      <th>GSM25360.CEL.gz</th>\n",
       "      <th>...</th>\n",
       "      <th>GSM48655.CEL.gz</th>\n",
       "      <th>GSM48656.CEL.gz</th>\n",
       "      <th>GSM48657.CEL.gz</th>\n",
       "      <th>GSM48658.CEL.gz</th>\n",
       "      <th>GSM48660.CEL.gz</th>\n",
       "      <th>GSM48661.CEL.gz</th>\n",
       "      <th>GSM48662.CEL.gz</th>\n",
       "      <th>GSM48663.CEL.gz</th>\n",
       "      <th>GSM48664.CEL.gz</th>\n",
       "      <th>GSM48665.CEL.gz</th>\n",
       "    </tr>\n",
       "    <tr>\n",
       "      <th>Gene</th>\n",
       "      <th></th>\n",
       "      <th></th>\n",
       "      <th></th>\n",
       "      <th></th>\n",
       "      <th></th>\n",
       "      <th></th>\n",
       "      <th></th>\n",
       "      <th></th>\n",
       "      <th></th>\n",
       "      <th></th>\n",
       "      <th></th>\n",
       "      <th></th>\n",
       "      <th></th>\n",
       "      <th></th>\n",
       "      <th></th>\n",
       "      <th></th>\n",
       "      <th></th>\n",
       "      <th></th>\n",
       "      <th></th>\n",
       "      <th></th>\n",
       "      <th></th>\n",
       "    </tr>\n",
       "  </thead>\n",
       "  <tbody>\n",
       "    <tr>\n",
       "      <th>1007_s_at</th>\n",
       "      <td>6.488579</td>\n",
       "      <td>6.809481</td>\n",
       "      <td>6.133068</td>\n",
       "      <td>6.627014</td>\n",
       "      <td>6.249807</td>\n",
       "      <td>5.934128</td>\n",
       "      <td>6.145268</td>\n",
       "      <td>6.091270</td>\n",
       "      <td>6.041186</td>\n",
       "      <td>6.050375</td>\n",
       "      <td>...</td>\n",
       "      <td>6.237984</td>\n",
       "      <td>6.704893</td>\n",
       "      <td>6.720599</td>\n",
       "      <td>6.501510</td>\n",
       "      <td>6.558100</td>\n",
       "      <td>6.618286</td>\n",
       "      <td>6.869995</td>\n",
       "      <td>5.981000</td>\n",
       "      <td>6.403285</td>\n",
       "      <td>6.248702</td>\n",
       "    </tr>\n",
       "    <tr>\n",
       "      <th>1053_at</th>\n",
       "      <td>7.517410</td>\n",
       "      <td>7.200596</td>\n",
       "      <td>7.280781</td>\n",
       "      <td>6.939184</td>\n",
       "      <td>6.818038</td>\n",
       "      <td>7.047962</td>\n",
       "      <td>7.422477</td>\n",
       "      <td>7.272361</td>\n",
       "      <td>7.128216</td>\n",
       "      <td>6.750719</td>\n",
       "      <td>...</td>\n",
       "      <td>7.169030</td>\n",
       "      <td>6.658916</td>\n",
       "      <td>7.280992</td>\n",
       "      <td>7.066686</td>\n",
       "      <td>7.386702</td>\n",
       "      <td>6.407958</td>\n",
       "      <td>7.089180</td>\n",
       "      <td>7.120923</td>\n",
       "      <td>7.018998</td>\n",
       "      <td>7.155419</td>\n",
       "    </tr>\n",
       "    <tr>\n",
       "      <th>117_at</th>\n",
       "      <td>5.247190</td>\n",
       "      <td>5.237239</td>\n",
       "      <td>5.401876</td>\n",
       "      <td>5.113570</td>\n",
       "      <td>5.074096</td>\n",
       "      <td>5.371201</td>\n",
       "      <td>5.266550</td>\n",
       "      <td>5.342047</td>\n",
       "      <td>5.063876</td>\n",
       "      <td>5.315898</td>\n",
       "      <td>...</td>\n",
       "      <td>5.095864</td>\n",
       "      <td>5.308445</td>\n",
       "      <td>5.347524</td>\n",
       "      <td>5.600514</td>\n",
       "      <td>5.232676</td>\n",
       "      <td>5.630720</td>\n",
       "      <td>4.944748</td>\n",
       "      <td>5.275577</td>\n",
       "      <td>5.770358</td>\n",
       "      <td>5.616842</td>\n",
       "    </tr>\n",
       "    <tr>\n",
       "      <th>121_at</th>\n",
       "      <td>7.331864</td>\n",
       "      <td>7.357102</td>\n",
       "      <td>7.607461</td>\n",
       "      <td>7.833862</td>\n",
       "      <td>7.780682</td>\n",
       "      <td>7.458197</td>\n",
       "      <td>7.655948</td>\n",
       "      <td>7.546555</td>\n",
       "      <td>7.072670</td>\n",
       "      <td>7.092984</td>\n",
       "      <td>...</td>\n",
       "      <td>7.220390</td>\n",
       "      <td>7.712825</td>\n",
       "      <td>7.671745</td>\n",
       "      <td>7.437535</td>\n",
       "      <td>7.714650</td>\n",
       "      <td>7.416252</td>\n",
       "      <td>7.746448</td>\n",
       "      <td>8.001434</td>\n",
       "      <td>7.626723</td>\n",
       "      <td>7.452299</td>\n",
       "    </tr>\n",
       "    <tr>\n",
       "      <th>1255_g_at</th>\n",
       "      <td>3.175846</td>\n",
       "      <td>3.105092</td>\n",
       "      <td>3.225123</td>\n",
       "      <td>3.152269</td>\n",
       "      <td>3.111747</td>\n",
       "      <td>3.018932</td>\n",
       "      <td>3.154545</td>\n",
       "      <td>3.107954</td>\n",
       "      <td>3.224284</td>\n",
       "      <td>3.114241</td>\n",
       "      <td>...</td>\n",
       "      <td>2.926689</td>\n",
       "      <td>3.103790</td>\n",
       "      <td>3.016090</td>\n",
       "      <td>3.009983</td>\n",
       "      <td>3.151203</td>\n",
       "      <td>3.199709</td>\n",
       "      <td>3.159496</td>\n",
       "      <td>3.149710</td>\n",
       "      <td>3.242780</td>\n",
       "      <td>3.433125</td>\n",
       "    </tr>\n",
       "  </tbody>\n",
       "</table>\n",
       "<p>5 rows × 102 columns</p>\n",
       "</div>"
      ],
      "text/plain": [
       "           GSM136725.CEL.gz  GSM136726.CEL.gz  GSM136727.CEL.gz  \\\n",
       "Gene                                                              \n",
       "1007_s_at          6.488579          6.809481          6.133068   \n",
       "1053_at            7.517410          7.200596          7.280781   \n",
       "117_at             5.247190          5.237239          5.401876   \n",
       "121_at             7.331864          7.357102          7.607461   \n",
       "1255_g_at          3.175846          3.105092          3.225123   \n",
       "\n",
       "           GSM25349.CEL.gz  GSM25350.CEL.gz  GSM25356.CEL.gz  GSM25357.CEL.gz  \\\n",
       "Gene                                                                            \n",
       "1007_s_at         6.627014         6.249807         5.934128         6.145268   \n",
       "1053_at           6.939184         6.818038         7.047962         7.422477   \n",
       "117_at            5.113570         5.074096         5.371201         5.266550   \n",
       "121_at            7.833862         7.780682         7.458197         7.655948   \n",
       "1255_g_at         3.152269         3.111747         3.018932         3.154545   \n",
       "\n",
       "           GSM25358.CEL.gz  GSM25359.CEL.gz  GSM25360.CEL.gz       ...         \\\n",
       "Gene                                                               ...          \n",
       "1007_s_at         6.091270         6.041186         6.050375       ...          \n",
       "1053_at           7.272361         7.128216         6.750719       ...          \n",
       "117_at            5.342047         5.063876         5.315898       ...          \n",
       "121_at            7.546555         7.072670         7.092984       ...          \n",
       "1255_g_at         3.107954         3.224284         3.114241       ...          \n",
       "\n",
       "           GSM48655.CEL.gz  GSM48656.CEL.gz  GSM48657.CEL.gz  GSM48658.CEL.gz  \\\n",
       "Gene                                                                            \n",
       "1007_s_at         6.237984         6.704893         6.720599         6.501510   \n",
       "1053_at           7.169030         6.658916         7.280992         7.066686   \n",
       "117_at            5.095864         5.308445         5.347524         5.600514   \n",
       "121_at            7.220390         7.712825         7.671745         7.437535   \n",
       "1255_g_at         2.926689         3.103790         3.016090         3.009983   \n",
       "\n",
       "           GSM48660.CEL.gz  GSM48661.CEL.gz  GSM48662.CEL.gz  GSM48663.CEL.gz  \\\n",
       "Gene                                                                            \n",
       "1007_s_at         6.558100         6.618286         6.869995         5.981000   \n",
       "1053_at           7.386702         6.407958         7.089180         7.120923   \n",
       "117_at            5.232676         5.630720         4.944748         5.275577   \n",
       "121_at            7.714650         7.416252         7.746448         8.001434   \n",
       "1255_g_at         3.151203         3.199709         3.159496         3.149710   \n",
       "\n",
       "           GSM48664.CEL.gz  GSM48665.CEL.gz  \n",
       "Gene                                         \n",
       "1007_s_at         6.403285         6.248702  \n",
       "1053_at           7.018998         7.155419  \n",
       "117_at            5.770358         5.616842  \n",
       "121_at            7.626723         7.452299  \n",
       "1255_g_at         3.242780         3.433125  \n",
       "\n",
       "[5 rows x 102 columns]"
      ]
     },
     "execution_count": 96,
     "metadata": {},
     "output_type": "execute_result"
    }
   ],
   "source": [
    "#select column with the CEU\n",
    "listcolumn = sampleinfoCEU['filename']\n",
    "exprsCEU = indexeprs[listcolumn]\n",
    "exprsCEU.head()"
   ]
  },
  {
   "cell_type": "markdown",
   "metadata": {},
   "source": [
    "Check to make sure the order of the columns in the `exprsCEU` DataFrame matches the rows in the `sampleinfoCEU` DataFrame.  "
   ]
  },
  {
   "cell_type": "code",
   "execution_count": 97,
   "metadata": {},
   "outputs": [
    {
     "data": {
      "text/plain": [
       "True"
      ]
     },
     "execution_count": 97,
     "metadata": {},
     "output_type": "execute_result"
    }
   ],
   "source": [
    "(exprsCEU.columns == sampleinfoCEU.filename).all()\n",
    "#this is the same order!"
   ]
  },
  {
   "cell_type": "markdown",
   "metadata": {},
   "source": [
    "Compute the average gene expression intensity in the `exprsCEU` DataFrame across all the samples. For each sample in the `exprsCEU` DataFrame, subtract the average gene expression intensity from each of the samples. Show the head of the mean normalized gene expression data.  "
   ]
  },
  {
   "cell_type": "code",
   "execution_count": 98,
   "metadata": {},
   "outputs": [
    {
     "data": {
      "text/html": [
       "<div>\n",
       "<style>\n",
       "    .dataframe thead tr:only-child th {\n",
       "        text-align: right;\n",
       "    }\n",
       "\n",
       "    .dataframe thead th {\n",
       "        text-align: left;\n",
       "    }\n",
       "\n",
       "    .dataframe tbody tr th {\n",
       "        vertical-align: top;\n",
       "    }\n",
       "</style>\n",
       "<table border=\"1\" class=\"dataframe\">\n",
       "  <thead>\n",
       "    <tr style=\"text-align: right;\">\n",
       "      <th></th>\n",
       "      <th>GSM136725.CEL.gz</th>\n",
       "      <th>GSM136726.CEL.gz</th>\n",
       "      <th>GSM136727.CEL.gz</th>\n",
       "      <th>GSM25349.CEL.gz</th>\n",
       "      <th>GSM25350.CEL.gz</th>\n",
       "      <th>GSM25356.CEL.gz</th>\n",
       "      <th>GSM25357.CEL.gz</th>\n",
       "      <th>GSM25358.CEL.gz</th>\n",
       "      <th>GSM25359.CEL.gz</th>\n",
       "      <th>GSM25360.CEL.gz</th>\n",
       "      <th>...</th>\n",
       "      <th>GSM48655.CEL.gz</th>\n",
       "      <th>GSM48656.CEL.gz</th>\n",
       "      <th>GSM48657.CEL.gz</th>\n",
       "      <th>GSM48658.CEL.gz</th>\n",
       "      <th>GSM48660.CEL.gz</th>\n",
       "      <th>GSM48661.CEL.gz</th>\n",
       "      <th>GSM48662.CEL.gz</th>\n",
       "      <th>GSM48663.CEL.gz</th>\n",
       "      <th>GSM48664.CEL.gz</th>\n",
       "      <th>GSM48665.CEL.gz</th>\n",
       "    </tr>\n",
       "    <tr>\n",
       "      <th>Gene</th>\n",
       "      <th></th>\n",
       "      <th></th>\n",
       "      <th></th>\n",
       "      <th></th>\n",
       "      <th></th>\n",
       "      <th></th>\n",
       "      <th></th>\n",
       "      <th></th>\n",
       "      <th></th>\n",
       "      <th></th>\n",
       "      <th></th>\n",
       "      <th></th>\n",
       "      <th></th>\n",
       "      <th></th>\n",
       "      <th></th>\n",
       "      <th></th>\n",
       "      <th></th>\n",
       "      <th></th>\n",
       "      <th></th>\n",
       "      <th></th>\n",
       "      <th></th>\n",
       "    </tr>\n",
       "  </thead>\n",
       "  <tbody>\n",
       "    <tr>\n",
       "      <th>1007_s_at</th>\n",
       "      <td>0.226624</td>\n",
       "      <td>0.547526</td>\n",
       "      <td>-0.128887</td>\n",
       "      <td>0.365059</td>\n",
       "      <td>-0.012149</td>\n",
       "      <td>-0.327827</td>\n",
       "      <td>-0.116687</td>\n",
       "      <td>-0.170685</td>\n",
       "      <td>-0.220769</td>\n",
       "      <td>-0.211580</td>\n",
       "      <td>...</td>\n",
       "      <td>-0.023971</td>\n",
       "      <td>0.442938</td>\n",
       "      <td>0.458643</td>\n",
       "      <td>0.239554</td>\n",
       "      <td>0.296144</td>\n",
       "      <td>0.356331</td>\n",
       "      <td>0.608040</td>\n",
       "      <td>-0.280956</td>\n",
       "      <td>0.141330</td>\n",
       "      <td>-0.013254</td>\n",
       "    </tr>\n",
       "    <tr>\n",
       "      <th>1053_at</th>\n",
       "      <td>0.442193</td>\n",
       "      <td>0.125379</td>\n",
       "      <td>0.205564</td>\n",
       "      <td>-0.136032</td>\n",
       "      <td>-0.257178</td>\n",
       "      <td>-0.027254</td>\n",
       "      <td>0.347260</td>\n",
       "      <td>0.197144</td>\n",
       "      <td>0.053000</td>\n",
       "      <td>-0.324497</td>\n",
       "      <td>...</td>\n",
       "      <td>0.093813</td>\n",
       "      <td>-0.416301</td>\n",
       "      <td>0.205776</td>\n",
       "      <td>-0.008531</td>\n",
       "      <td>0.311485</td>\n",
       "      <td>-0.667259</td>\n",
       "      <td>0.013964</td>\n",
       "      <td>0.045706</td>\n",
       "      <td>-0.056219</td>\n",
       "      <td>0.080203</td>\n",
       "    </tr>\n",
       "    <tr>\n",
       "      <th>117_at</th>\n",
       "      <td>-0.356936</td>\n",
       "      <td>-0.366887</td>\n",
       "      <td>-0.202251</td>\n",
       "      <td>-0.490556</td>\n",
       "      <td>-0.530031</td>\n",
       "      <td>-0.232926</td>\n",
       "      <td>-0.337577</td>\n",
       "      <td>-0.262080</td>\n",
       "      <td>-0.540250</td>\n",
       "      <td>-0.288228</td>\n",
       "      <td>...</td>\n",
       "      <td>-0.508262</td>\n",
       "      <td>-0.295682</td>\n",
       "      <td>-0.256603</td>\n",
       "      <td>-0.003613</td>\n",
       "      <td>-0.371451</td>\n",
       "      <td>0.026594</td>\n",
       "      <td>-0.659379</td>\n",
       "      <td>-0.328549</td>\n",
       "      <td>0.166231</td>\n",
       "      <td>0.012716</td>\n",
       "    </tr>\n",
       "    <tr>\n",
       "      <th>121_at</th>\n",
       "      <td>-0.083972</td>\n",
       "      <td>-0.058733</td>\n",
       "      <td>0.191626</td>\n",
       "      <td>0.418026</td>\n",
       "      <td>0.364847</td>\n",
       "      <td>0.042362</td>\n",
       "      <td>0.240113</td>\n",
       "      <td>0.130720</td>\n",
       "      <td>-0.343165</td>\n",
       "      <td>-0.322852</td>\n",
       "      <td>...</td>\n",
       "      <td>-0.195446</td>\n",
       "      <td>0.296990</td>\n",
       "      <td>0.255909</td>\n",
       "      <td>0.021700</td>\n",
       "      <td>0.298814</td>\n",
       "      <td>0.000417</td>\n",
       "      <td>0.330612</td>\n",
       "      <td>0.585598</td>\n",
       "      <td>0.210887</td>\n",
       "      <td>0.036463</td>\n",
       "    </tr>\n",
       "    <tr>\n",
       "      <th>1255_g_at</th>\n",
       "      <td>0.041912</td>\n",
       "      <td>-0.028842</td>\n",
       "      <td>0.091189</td>\n",
       "      <td>0.018335</td>\n",
       "      <td>-0.022187</td>\n",
       "      <td>-0.115002</td>\n",
       "      <td>0.020611</td>\n",
       "      <td>-0.025980</td>\n",
       "      <td>0.090351</td>\n",
       "      <td>-0.019693</td>\n",
       "      <td>...</td>\n",
       "      <td>-0.207245</td>\n",
       "      <td>-0.030144</td>\n",
       "      <td>-0.117844</td>\n",
       "      <td>-0.123951</td>\n",
       "      <td>0.017269</td>\n",
       "      <td>0.065775</td>\n",
       "      <td>0.025562</td>\n",
       "      <td>0.015776</td>\n",
       "      <td>0.108846</td>\n",
       "      <td>0.299192</td>\n",
       "    </tr>\n",
       "  </tbody>\n",
       "</table>\n",
       "<p>5 rows × 102 columns</p>\n",
       "</div>"
      ],
      "text/plain": [
       "           GSM136725.CEL.gz  GSM136726.CEL.gz  GSM136727.CEL.gz  \\\n",
       "Gene                                                              \n",
       "1007_s_at          0.226624          0.547526         -0.128887   \n",
       "1053_at            0.442193          0.125379          0.205564   \n",
       "117_at            -0.356936         -0.366887         -0.202251   \n",
       "121_at            -0.083972         -0.058733          0.191626   \n",
       "1255_g_at          0.041912         -0.028842          0.091189   \n",
       "\n",
       "           GSM25349.CEL.gz  GSM25350.CEL.gz  GSM25356.CEL.gz  GSM25357.CEL.gz  \\\n",
       "Gene                                                                            \n",
       "1007_s_at         0.365059        -0.012149        -0.327827        -0.116687   \n",
       "1053_at          -0.136032        -0.257178        -0.027254         0.347260   \n",
       "117_at           -0.490556        -0.530031        -0.232926        -0.337577   \n",
       "121_at            0.418026         0.364847         0.042362         0.240113   \n",
       "1255_g_at         0.018335        -0.022187        -0.115002         0.020611   \n",
       "\n",
       "           GSM25358.CEL.gz  GSM25359.CEL.gz  GSM25360.CEL.gz       ...         \\\n",
       "Gene                                                               ...          \n",
       "1007_s_at        -0.170685        -0.220769        -0.211580       ...          \n",
       "1053_at           0.197144         0.053000        -0.324497       ...          \n",
       "117_at           -0.262080        -0.540250        -0.288228       ...          \n",
       "121_at            0.130720        -0.343165        -0.322852       ...          \n",
       "1255_g_at        -0.025980         0.090351        -0.019693       ...          \n",
       "\n",
       "           GSM48655.CEL.gz  GSM48656.CEL.gz  GSM48657.CEL.gz  GSM48658.CEL.gz  \\\n",
       "Gene                                                                            \n",
       "1007_s_at        -0.023971         0.442938         0.458643         0.239554   \n",
       "1053_at           0.093813        -0.416301         0.205776        -0.008531   \n",
       "117_at           -0.508262        -0.295682        -0.256603        -0.003613   \n",
       "121_at           -0.195446         0.296990         0.255909         0.021700   \n",
       "1255_g_at        -0.207245        -0.030144        -0.117844        -0.123951   \n",
       "\n",
       "           GSM48660.CEL.gz  GSM48661.CEL.gz  GSM48662.CEL.gz  GSM48663.CEL.gz  \\\n",
       "Gene                                                                            \n",
       "1007_s_at         0.296144         0.356331         0.608040        -0.280956   \n",
       "1053_at           0.311485        -0.667259         0.013964         0.045706   \n",
       "117_at           -0.371451         0.026594        -0.659379        -0.328549   \n",
       "121_at            0.298814         0.000417         0.330612         0.585598   \n",
       "1255_g_at         0.017269         0.065775         0.025562         0.015776   \n",
       "\n",
       "           GSM48664.CEL.gz  GSM48665.CEL.gz  \n",
       "Gene                                         \n",
       "1007_s_at         0.141330        -0.013254  \n",
       "1053_at          -0.056219         0.080203  \n",
       "117_at            0.166231         0.012716  \n",
       "121_at            0.210887         0.036463  \n",
       "1255_g_at         0.108846         0.299192  \n",
       "\n",
       "[5 rows x 102 columns]"
      ]
     },
     "execution_count": 98,
     "metadata": {},
     "output_type": "execute_result"
    }
   ],
   "source": [
    "#normalize the dataframe\n",
    "#normalizexpresCEU = exprsCEU.apply(lambda f: f - f.mean()) this one does not work as it removes the mean on each column\n",
    "normalizexpresCEU = exprsCEU.apply(lambda f: f - exprsCEU.mean(axis=1), axis=0)\n",
    "normalizexpresCEU.head()\n",
    "#normalizexpresCEU.shape"
   ]
  },
  {
   "cell_type": "markdown",
   "metadata": {},
   "source": [
    "Using this mean normalized gene expression data, compute the projection to the first Principal Component (PC1).  \n",
    "\n",
    "**Hint**: Use the `numpy.linalg.svd()` function in the `numpy.linalg` module (or the `scipy.linalg.svd()` function in the `scipy.linalg` module) to apply an [singular value decomposition](http://en.wikipedia.org/wiki/Singular_value_decomposition) to a matrix.  "
   ]
  },
  {
   "cell_type": "code",
   "execution_count": 20,
   "metadata": {},
   "outputs": [
    {
     "name": "stdout",
     "output_type": "stream",
     "text": [
      "[  9.68325576e-01   4.51925177e-03   3.47193340e-03   2.39837603e-03\n",
      "   1.80569755e-03   1.36558323e-03   1.28155325e-03   1.13878322e-03\n",
      "   9.79587008e-04   8.33365963e-04]\n",
      "0.986119707818\n"
     ]
    }
   ],
   "source": [
    "from sklearn.decomposition import TruncatedSVD\n",
    "from sklearn.random_projection import sparse_random_matrix\n",
    "#X = sparse_random_matrix(100, 100, density=0.01, random_state=42)\n",
    "X = normalizexpresCEU\n",
    "svd = TruncatedSVD(n_components=10, n_iter=7, random_state=42)\n",
    "svd.fit(X) \n",
    "print(svd.explained_variance_ratio_)\n",
    "print(svd.explained_variance_ratio_.sum())\n",
    "#print(svd.singular_values_) "
   ]
  },
  {
   "cell_type": "code",
   "execution_count": 90,
   "metadata": {},
   "outputs": [],
   "source": [
    "#print(linalg.svd.__doc__)"
   ]
  },
  {
   "cell_type": "code",
   "execution_count": 99,
   "metadata": {},
   "outputs": [
    {
     "data": {
      "text/plain": [
       "((8793L, 8793L), (102L, 102L), (102L,))"
      ]
     },
     "execution_count": 99,
     "metadata": {},
     "output_type": "execute_result"
    }
   ],
   "source": [
    "from scipy import linalg\n",
    "#a = np.random.randn(9, 6) + 1.j*np.random.randn(9, 6)\n",
    "a = normalizexpresCEU\n",
    "U, s, Vh = linalg.svd(a)\n",
    "U.shape, Vh.shape, s.shape\n",
    "#the matrix V contains the right singular vectors (set of orthonormal eigenvectors of a.T * a)"
   ]
  },
  {
   "cell_type": "code",
   "execution_count": 100,
   "metadata": {},
   "outputs": [
    {
     "data": {
      "image/png": "[encoded data removed]",
      "text/plain": [
       "<matplotlib.figure.Figure at 0x1c1922b0>"
      ]
     },
     "metadata": {},
     "output_type": "display_data"
    },
    {
     "data": {
      "image/png": "[encoded data removed]",
      "text/plain": [
       "<matplotlib.figure.Figure at 0xd4322b0>"
      ]
     },
     "metadata": {},
     "output_type": "display_data"
    },
    {
     "data": {
      "image/png": "[encoded data removed]",
      "text/plain": [
       "<matplotlib.figure.Figure at 0x1d610a90>"
      ]
     },
     "metadata": {},
     "output_type": "display_data"
    },
    {
     "data": {
      "image/png": "[encoded data removed]",
      "text/plain": [
       "<matplotlib.figure.Figure at 0x1d610ef0>"
      ]
     },
     "metadata": {},
     "output_type": "display_data"
    }
   ],
   "source": [
    "#display the first 4 PCA\n",
    "plt.plot(subplots=True)\n",
    "plt.hist(V[:,0], bins = 25)\n",
    "plt.xlabel('PC1')\n",
    "plt.ylabel('Frequency')\n",
    "plt.title('Distribution of the values from PC1')\n",
    "plt.show()\n",
    "\n",
    "plt.hist(V[:,1], bins = 25)\n",
    "plt.xlabel('PC2')\n",
    "plt.ylabel('Frequency')\n",
    "plt.title('Distribution of the values from PC2')\n",
    "plt.show()\n",
    "\n",
    "plt.hist(V[:,3], bins = 25)\n",
    "plt.xlabel('PC1')\n",
    "plt.ylabel('Frequency')\n",
    "plt.title('Distribution of the values from PC3')\n",
    "plt.show()\n",
    "\n",
    "plt.hist(V[:,4], bins = 25)\n",
    "plt.xlabel('PC1')\n",
    "plt.ylabel('Frequency')\n",
    "plt.title('Distribution of the values from PC4')\n",
    "plt.show()"
   ]
  },
  {
   "cell_type": "code",
   "execution_count": 101,
   "metadata": {},
   "outputs": [
    {
     "data": {
      "image/png": "[encoded data removed]",
      "text/plain": [
       "<matplotlib.figure.Figure at 0x1c192710>"
      ]
     },
     "metadata": {},
     "output_type": "display_data"
    }
   ],
   "source": [
    "V = Vh.T\n",
    "import seaborn as sns\n",
    "import matplotlib.pyplot as plt\n",
    "sns.set(style=\"whitegrid\")\n",
    "sns.distplot(V[:,0], bins=25, kde=False);"
   ]
  },
  {
   "cell_type": "code",
   "execution_count": 102,
   "metadata": {},
   "outputs": [
    {
     "data": {
      "text/plain": [
       "8793"
      ]
     },
     "execution_count": 102,
     "metadata": {},
     "output_type": "execute_result"
    }
   ],
   "source": [
    "#projection on the first PC not sure if it is correct??\n",
    "PC1 = np.dot(Vh[:,:1].T,a.T)\n",
    "len(PC1[0])"
   ]
  },
  {
   "cell_type": "markdown",
   "metadata": {},
   "source": [
    "Create a histogram using the values from PC1.  Use a bin size of 25.  "
   ]
  },
  {
   "cell_type": "code",
   "execution_count": 103,
   "metadata": {},
   "outputs": [
    {
     "data": {
      "image/png": "[encoded data removed]",
      "text/plain": [
       "<matplotlib.figure.Figure at 0x1c0ad710>"
      ]
     },
     "metadata": {},
     "output_type": "display_data"
    }
   ],
   "source": [
    "import seaborn as sns\n",
    "import matplotlib.pyplot as plt\n",
    "sns.set(style=\"whitegrid\")\n",
    "sns.distplot(PC1[0], bins=25);"
   ]
  },
  {
   "cell_type": "markdown",
   "metadata": {},
   "source": [
    "Create a scatter plot with the days since October 31, 2002 on the x-axis and PC1 on the y-axis."
   ]
  },
  {
   "cell_type": "code",
   "execution_count": 111,
   "metadata": {},
   "outputs": [],
   "source": [
    "#len(sampleinfoCEU) #102\n",
    "#len(V[:,0]) #102"
   ]
  },
  {
   "cell_type": "code",
   "execution_count": 112,
   "metadata": {},
   "outputs": [
    {
     "data": {
      "text/html": [
       "<div>\n",
       "<style>\n",
       "    .dataframe thead tr:only-child th {\n",
       "        text-align: right;\n",
       "    }\n",
       "\n",
       "    .dataframe thead th {\n",
       "        text-align: left;\n",
       "    }\n",
       "\n",
       "    .dataframe tbody tr th {\n",
       "        vertical-align: top;\n",
       "    }\n",
       "</style>\n",
       "<table border=\"1\" class=\"dataframe\">\n",
       "  <thead>\n",
       "    <tr style=\"text-align: right;\">\n",
       "      <th></th>\n",
       "      <th>ethnicity</th>\n",
       "      <th>date</th>\n",
       "      <th>filename</th>\n",
       "      <th>sex</th>\n",
       "      <th>year</th>\n",
       "      <th>month</th>\n",
       "      <th>elapsedInDays</th>\n",
       "    </tr>\n",
       "  </thead>\n",
       "  <tbody>\n",
       "    <tr>\n",
       "      <th>204</th>\n",
       "      <td>CEU</td>\n",
       "      <td>2005-02-16</td>\n",
       "      <td>GSM136725.CEL.gz</td>\n",
       "      <td>F</td>\n",
       "      <td>2005</td>\n",
       "      <td>2</td>\n",
       "      <td>839</td>\n",
       "    </tr>\n",
       "    <tr>\n",
       "      <th>205</th>\n",
       "      <td>CEU</td>\n",
       "      <td>2005-02-16</td>\n",
       "      <td>GSM136726.CEL.gz</td>\n",
       "      <td>M</td>\n",
       "      <td>2005</td>\n",
       "      <td>2</td>\n",
       "      <td>839</td>\n",
       "    </tr>\n",
       "    <tr>\n",
       "      <th>206</th>\n",
       "      <td>CEU</td>\n",
       "      <td>2005-06-10</td>\n",
       "      <td>GSM136727.CEL.gz</td>\n",
       "      <td>M</td>\n",
       "      <td>2005</td>\n",
       "      <td>6</td>\n",
       "      <td>953</td>\n",
       "    </tr>\n",
       "    <tr>\n",
       "      <th>0</th>\n",
       "      <td>CEU</td>\n",
       "      <td>2003-02-04</td>\n",
       "      <td>GSM25349.CEL.gz</td>\n",
       "      <td>M</td>\n",
       "      <td>2003</td>\n",
       "      <td>2</td>\n",
       "      <td>96</td>\n",
       "    </tr>\n",
       "    <tr>\n",
       "      <th>1</th>\n",
       "      <td>CEU</td>\n",
       "      <td>2003-02-04</td>\n",
       "      <td>GSM25350.CEL.gz</td>\n",
       "      <td>M</td>\n",
       "      <td>2003</td>\n",
       "      <td>2</td>\n",
       "      <td>96</td>\n",
       "    </tr>\n",
       "  </tbody>\n",
       "</table>\n",
       "</div>"
      ],
      "text/plain": [
       "    ethnicity       date          filename sex  year  month  elapsedInDays\n",
       "204       CEU 2005-02-16  GSM136725.CEL.gz   F  2005      2            839\n",
       "205       CEU 2005-02-16  GSM136726.CEL.gz   M  2005      2            839\n",
       "206       CEU 2005-06-10  GSM136727.CEL.gz   M  2005      6            953\n",
       "0         CEU 2003-02-04   GSM25349.CEL.gz   M  2003      2             96\n",
       "1         CEU 2003-02-04   GSM25350.CEL.gz   M  2003      2             96"
      ]
     },
     "execution_count": 112,
     "metadata": {},
     "output_type": "execute_result"
    }
   ],
   "source": [
    "sampleinfoCEU.head()"
   ]
  },
  {
   "cell_type": "code",
   "execution_count": 106,
   "metadata": {},
   "outputs": [
    {
     "data": {
      "text/plain": [
       "<matplotlib.text.Text at 0x1d04a2b0>"
      ]
     },
     "execution_count": 106,
     "metadata": {},
     "output_type": "execute_result"
    },
    {
     "data": {
      "image/png": "[encoded data removed]",
      "text/plain": [
       "<matplotlib.figure.Figure at 0xd3dfb38>"
      ]
     },
     "metadata": {},
     "output_type": "display_data"
    }
   ],
   "source": [
    "#your code here\n",
    "plt.scatter(sampleinfoCEU.elapsedInDays, V[:,0])\n",
    "plt.xlabel('Date sample was processed (Number of days since Oct 31, 2012)')\n",
    "plt.ylabel('PC1')\n",
    "plt.title('Relationship between the PC1 and the date the samples were processed')"
   ]
  },
  {
   "cell_type": "code",
   "execution_count": 119,
   "metadata": {},
   "outputs": [
    {
     "data": {
      "text/plain": [
       "<matplotlib.text.Text at 0xdf577b8>"
      ]
     },
     "execution_count": 119,
     "metadata": {},
     "output_type": "execute_result"
    },
    {
     "data": {
      "image/png": "[encoded data removed]",
      "text/plain": [
       "<matplotlib.figure.Figure at 0x1d153dd8>"
      ]
     },
     "metadata": {},
     "output_type": "display_data"
    }
   ],
   "source": [
    "sns.regplot(x= sampleinfoCEU.elapsedInDays, y=V[:,0], fit_reg = False)\n",
    "sns.plt.title('Relationship between the PC1 and the date the samples were processed')\n",
    "sns.plt.xlabel('Date sample was processed (Number of days since Oct 31, 2012)')\n",
    "sns.plt.ylabel('PC1')"
   ]
  },
  {
   "cell_type": "markdown",
   "metadata": {},
   "source": [
    "Around what day do you notice a difference in the way the samples were processed?"
   ]
  },
  {
   "cell_type": "code",
   "execution_count": 120,
   "metadata": {},
   "outputs": [
    {
     "data": {
      "text/plain": [
       "<matplotlib.lines.Line2D at 0xb2290f0>"
      ]
     },
     "execution_count": 120,
     "metadata": {},
     "output_type": "execute_result"
    },
    {
     "data": {
      "image/png": "[encoded data removed]",
      "text/plain": [
       "<matplotlib.figure.Figure at 0x1c0bc160>"
      ]
     },
     "metadata": {},
     "output_type": "display_data"
    }
   ],
   "source": [
    "#your code here\n",
    "plt.scatter(sampleinfoCEU.elapsedInDays, V[:,0])\n",
    "plt.xlim(0,160)\n",
    "plt.xlabel('Date sample was processed (Number of days since Oct 31, 2012)')\n",
    "plt.ylabel('PC1')\n",
    "plt.title('Relationship between the PC1 and the date the samples were processed')\n",
    "plt.axvline(x=100, color='r')"
   ]
  },
  {
   "cell_type": "markdown",
   "metadata": {},
   "source": [
    "Answer:"
   ]
  },
  {
   "cell_type": "markdown",
   "metadata": {},
   "source": [
    "## Discussion for Problem 1\n",
    "\n",
    "*Write a brief discussion of your conclusions to the questions and tasks above in 100 words or less.*\n",
    "\n",
    "---\n"
   ]
  },
  {
   "cell_type": "markdown",
   "metadata": {},
   "source": [
    "## Problem 2: Is there a pollster bias in presidential election polls?"
   ]
  },
  {
   "cell_type": "markdown",
   "metadata": {},
   "source": [
    "#### Problem 2(a)\n",
    "\n",
    "The [HuffPost Pollster](http://elections.huffingtonpost.com/pollster) contains many political polls. You can access these polls from individual races as a CSV but you can also access polls through the [HuffPost Pollster API](http://elections.huffingtonpost.com/pollster/api) to access the data.  \n",
    "\n",
    "Read in the polls from the [2012 Presidential Election: Barack Obama vs Mitt Romney](http://elections.huffingtonpost.com/pollster/2012-general-election-romney-vs-obama) into a pandas DataFrame called `election`. For this problem, you may read in the polls for this race directly using [the CSV file](http://elections.huffingtonpost.com/pollster/2012-general-election-romney-vs-obama.csv) available from the HuffPost Pollster page."
   ]
  },
  {
   "cell_type": "code",
   "execution_count": 123,
   "metadata": {
    "collapsed": true
   },
   "outputs": [],
   "source": [
    "#your code here\n",
    "election = pd.read_csv(\"http://elections.huffingtonpost.com/pollster/2012-general-election-romney-vs-obama.csv\")"
   ]
  },
  {
   "cell_type": "markdown",
   "metadata": {},
   "source": [
    "Show the head of the `election` DataFrame. "
   ]
  },
  {
   "cell_type": "code",
   "execution_count": 129,
   "metadata": {},
   "outputs": [
    {
     "name": "stdout",
     "output_type": "stream",
     "text": [
      "(586, 17)\n"
     ]
    },
    {
     "data": {
      "text/html": [
       "<div>\n",
       "<style>\n",
       "    .dataframe thead tr:only-child th {\n",
       "        text-align: right;\n",
       "    }\n",
       "\n",
       "    .dataframe thead th {\n",
       "        text-align: left;\n",
       "    }\n",
       "\n",
       "    .dataframe tbody tr th {\n",
       "        vertical-align: top;\n",
       "    }\n",
       "</style>\n",
       "<table border=\"1\" class=\"dataframe\">\n",
       "  <thead>\n",
       "    <tr style=\"text-align: right;\">\n",
       "      <th></th>\n",
       "      <th>Pollster</th>\n",
       "      <th>Start Date</th>\n",
       "      <th>End Date</th>\n",
       "      <th>Entry Date/Time (ET)</th>\n",
       "      <th>Number of Observations</th>\n",
       "      <th>Population</th>\n",
       "      <th>Mode</th>\n",
       "      <th>Obama</th>\n",
       "      <th>Romney</th>\n",
       "      <th>Undecided</th>\n",
       "      <th>Other</th>\n",
       "      <th>Pollster URL</th>\n",
       "      <th>Source URL</th>\n",
       "      <th>Partisan</th>\n",
       "      <th>Affiliation</th>\n",
       "      <th>Question Text</th>\n",
       "      <th>Question Iteration</th>\n",
       "    </tr>\n",
       "  </thead>\n",
       "  <tbody>\n",
       "    <tr>\n",
       "      <th>0</th>\n",
       "      <td>Politico/GWU/Battleground</td>\n",
       "      <td>2012-11-04</td>\n",
       "      <td>2012-11-05</td>\n",
       "      <td>2012-11-06T08:40:26Z</td>\n",
       "      <td>1000.0</td>\n",
       "      <td>Likely Voters</td>\n",
       "      <td>Live Phone</td>\n",
       "      <td>47.0</td>\n",
       "      <td>47.0</td>\n",
       "      <td>6.0</td>\n",
       "      <td>NaN</td>\n",
       "      <td>http://elections.huffingtonpost.com/pollster/p...</td>\n",
       "      <td>http://www.politico.com/news/stories/1112/8338...</td>\n",
       "      <td>Nonpartisan</td>\n",
       "      <td>None</td>\n",
       "      <td>NaN</td>\n",
       "      <td>1</td>\n",
       "    </tr>\n",
       "    <tr>\n",
       "      <th>1</th>\n",
       "      <td>YouGov/Economist</td>\n",
       "      <td>2012-11-03</td>\n",
       "      <td>2012-11-05</td>\n",
       "      <td>2012-11-26T15:31:23Z</td>\n",
       "      <td>740.0</td>\n",
       "      <td>Likely Voters</td>\n",
       "      <td>Internet</td>\n",
       "      <td>49.0</td>\n",
       "      <td>47.0</td>\n",
       "      <td>3.0</td>\n",
       "      <td>NaN</td>\n",
       "      <td>http://elections.huffingtonpost.com/pollster/p...</td>\n",
       "      <td>http://cdn.yougov.com/cumulus_uploads/document...</td>\n",
       "      <td>Nonpartisan</td>\n",
       "      <td>None</td>\n",
       "      <td>NaN</td>\n",
       "      <td>1</td>\n",
       "    </tr>\n",
       "    <tr>\n",
       "      <th>2</th>\n",
       "      <td>Gravis Marketing</td>\n",
       "      <td>2012-11-03</td>\n",
       "      <td>2012-11-05</td>\n",
       "      <td>2012-11-06T09:22:02Z</td>\n",
       "      <td>872.0</td>\n",
       "      <td>Likely Voters</td>\n",
       "      <td>Automated Phone</td>\n",
       "      <td>48.0</td>\n",
       "      <td>48.0</td>\n",
       "      <td>4.0</td>\n",
       "      <td>NaN</td>\n",
       "      <td>http://elections.huffingtonpost.com/pollster/p...</td>\n",
       "      <td>http://www.gravispolls.com/2012/11/gravis-mark...</td>\n",
       "      <td>Nonpartisan</td>\n",
       "      <td>None</td>\n",
       "      <td>NaN</td>\n",
       "      <td>1</td>\n",
       "    </tr>\n",
       "    <tr>\n",
       "      <th>3</th>\n",
       "      <td>IBD/TIPP</td>\n",
       "      <td>2012-11-03</td>\n",
       "      <td>2012-11-05</td>\n",
       "      <td>2012-11-06T08:51:48Z</td>\n",
       "      <td>712.0</td>\n",
       "      <td>Likely Voters</td>\n",
       "      <td>Live Phone</td>\n",
       "      <td>50.0</td>\n",
       "      <td>49.0</td>\n",
       "      <td>NaN</td>\n",
       "      <td>1.0</td>\n",
       "      <td>http://elections.huffingtonpost.com/pollster/p...</td>\n",
       "      <td>http://news.investors.com/special-report/50841...</td>\n",
       "      <td>Nonpartisan</td>\n",
       "      <td>None</td>\n",
       "      <td>NaN</td>\n",
       "      <td>1</td>\n",
       "    </tr>\n",
       "    <tr>\n",
       "      <th>4</th>\n",
       "      <td>Rasmussen</td>\n",
       "      <td>2012-11-03</td>\n",
       "      <td>2012-11-05</td>\n",
       "      <td>2012-11-06T08:47:50Z</td>\n",
       "      <td>1500.0</td>\n",
       "      <td>Likely Voters</td>\n",
       "      <td>Automated Phone</td>\n",
       "      <td>48.0</td>\n",
       "      <td>49.0</td>\n",
       "      <td>NaN</td>\n",
       "      <td>NaN</td>\n",
       "      <td>http://elections.huffingtonpost.com/pollster/p...</td>\n",
       "      <td>http://www.rasmussenreports.com/public_content...</td>\n",
       "      <td>Nonpartisan</td>\n",
       "      <td>None</td>\n",
       "      <td>NaN</td>\n",
       "      <td>1</td>\n",
       "    </tr>\n",
       "  </tbody>\n",
       "</table>\n",
       "</div>"
      ],
      "text/plain": [
       "                    Pollster  Start Date    End Date  Entry Date/Time (ET)  \\\n",
       "0  Politico/GWU/Battleground  2012-11-04  2012-11-05  2012-11-06T08:40:26Z   \n",
       "1           YouGov/Economist  2012-11-03  2012-11-05  2012-11-26T15:31:23Z   \n",
       "2           Gravis Marketing  2012-11-03  2012-11-05  2012-11-06T09:22:02Z   \n",
       "3                   IBD/TIPP  2012-11-03  2012-11-05  2012-11-06T08:51:48Z   \n",
       "4                  Rasmussen  2012-11-03  2012-11-05  2012-11-06T08:47:50Z   \n",
       "\n",
       "   Number of Observations     Population             Mode  Obama  Romney  \\\n",
       "0                  1000.0  Likely Voters       Live Phone   47.0    47.0   \n",
       "1                   740.0  Likely Voters         Internet   49.0    47.0   \n",
       "2                   872.0  Likely Voters  Automated Phone   48.0    48.0   \n",
       "3                   712.0  Likely Voters       Live Phone   50.0    49.0   \n",
       "4                  1500.0  Likely Voters  Automated Phone   48.0    49.0   \n",
       "\n",
       "   Undecided  Other                                       Pollster URL  \\\n",
       "0        6.0    NaN  http://elections.huffingtonpost.com/pollster/p...   \n",
       "1        3.0    NaN  http://elections.huffingtonpost.com/pollster/p...   \n",
       "2        4.0    NaN  http://elections.huffingtonpost.com/pollster/p...   \n",
       "3        NaN    1.0  http://elections.huffingtonpost.com/pollster/p...   \n",
       "4        NaN    NaN  http://elections.huffingtonpost.com/pollster/p...   \n",
       "\n",
       "                                          Source URL     Partisan Affiliation  \\\n",
       "0  http://www.politico.com/news/stories/1112/8338...  Nonpartisan        None   \n",
       "1  http://cdn.yougov.com/cumulus_uploads/document...  Nonpartisan        None   \n",
       "2  http://www.gravispolls.com/2012/11/gravis-mark...  Nonpartisan        None   \n",
       "3  http://news.investors.com/special-report/50841...  Nonpartisan        None   \n",
       "4  http://www.rasmussenreports.com/public_content...  Nonpartisan        None   \n",
       "\n",
       "   Question Text  Question Iteration  \n",
       "0            NaN                   1  \n",
       "1            NaN                   1  \n",
       "2            NaN                   1  \n",
       "3            NaN                   1  \n",
       "4            NaN                   1  "
      ]
     },
     "execution_count": 129,
     "metadata": {},
     "output_type": "execute_result"
    }
   ],
   "source": [
    "print election.shape #(586, 17)\n",
    "election.head()"
   ]
  },
  {
   "cell_type": "markdown",
   "metadata": {},
   "source": [
    "How many polls were conducted in November? Define this number as M.  \n",
    "\n",
    "**Hint**: Subset the `election` DataFrame for only dates in the `Start Date` column that are in November 2012.  "
   ]
  },
  {
   "cell_type": "code",
   "execution_count": 136,
   "metadata": {},
   "outputs": [
    {
     "data": {
      "text/html": [
       "<div>\n",
       "<style>\n",
       "    .dataframe thead tr:only-child th {\n",
       "        text-align: right;\n",
       "    }\n",
       "\n",
       "    .dataframe thead th {\n",
       "        text-align: left;\n",
       "    }\n",
       "\n",
       "    .dataframe tbody tr th {\n",
       "        vertical-align: top;\n",
       "    }\n",
       "</style>\n",
       "<table border=\"1\" class=\"dataframe\">\n",
       "  <thead>\n",
       "    <tr style=\"text-align: right;\">\n",
       "      <th></th>\n",
       "      <th>Pollster</th>\n",
       "      <th>Start Date</th>\n",
       "      <th>End Date</th>\n",
       "      <th>Entry Date/Time (ET)</th>\n",
       "      <th>Number of Observations</th>\n",
       "      <th>Population</th>\n",
       "      <th>Mode</th>\n",
       "      <th>Obama</th>\n",
       "      <th>Romney</th>\n",
       "      <th>Undecided</th>\n",
       "      <th>...</th>\n",
       "      <th>Source URL</th>\n",
       "      <th>Partisan</th>\n",
       "      <th>Affiliation</th>\n",
       "      <th>Question Text</th>\n",
       "      <th>Question Iteration</th>\n",
       "      <th>start year</th>\n",
       "      <th>Start Year</th>\n",
       "      <th>Start Month</th>\n",
       "      <th>End Year</th>\n",
       "      <th>End Month</th>\n",
       "    </tr>\n",
       "  </thead>\n",
       "  <tbody>\n",
       "    <tr>\n",
       "      <th>0</th>\n",
       "      <td>Politico/GWU/Battleground</td>\n",
       "      <td>2012-11-04</td>\n",
       "      <td>2012-11-05</td>\n",
       "      <td>2012-11-06T08:40:26Z</td>\n",
       "      <td>1000.0</td>\n",
       "      <td>Likely Voters</td>\n",
       "      <td>Live Phone</td>\n",
       "      <td>47.0</td>\n",
       "      <td>47.0</td>\n",
       "      <td>6.0</td>\n",
       "      <td>...</td>\n",
       "      <td>http://www.politico.com/news/stories/1112/8338...</td>\n",
       "      <td>Nonpartisan</td>\n",
       "      <td>None</td>\n",
       "      <td>NaN</td>\n",
       "      <td>1</td>\n",
       "      <td>2012</td>\n",
       "      <td>2012</td>\n",
       "      <td>11</td>\n",
       "      <td>2012</td>\n",
       "      <td>11</td>\n",
       "    </tr>\n",
       "    <tr>\n",
       "      <th>1</th>\n",
       "      <td>YouGov/Economist</td>\n",
       "      <td>2012-11-03</td>\n",
       "      <td>2012-11-05</td>\n",
       "      <td>2012-11-26T15:31:23Z</td>\n",
       "      <td>740.0</td>\n",
       "      <td>Likely Voters</td>\n",
       "      <td>Internet</td>\n",
       "      <td>49.0</td>\n",
       "      <td>47.0</td>\n",
       "      <td>3.0</td>\n",
       "      <td>...</td>\n",
       "      <td>http://cdn.yougov.com/cumulus_uploads/document...</td>\n",
       "      <td>Nonpartisan</td>\n",
       "      <td>None</td>\n",
       "      <td>NaN</td>\n",
       "      <td>1</td>\n",
       "      <td>2012</td>\n",
       "      <td>2012</td>\n",
       "      <td>11</td>\n",
       "      <td>2012</td>\n",
       "      <td>11</td>\n",
       "    </tr>\n",
       "    <tr>\n",
       "      <th>2</th>\n",
       "      <td>Gravis Marketing</td>\n",
       "      <td>2012-11-03</td>\n",
       "      <td>2012-11-05</td>\n",
       "      <td>2012-11-06T09:22:02Z</td>\n",
       "      <td>872.0</td>\n",
       "      <td>Likely Voters</td>\n",
       "      <td>Automated Phone</td>\n",
       "      <td>48.0</td>\n",
       "      <td>48.0</td>\n",
       "      <td>4.0</td>\n",
       "      <td>...</td>\n",
       "      <td>http://www.gravispolls.com/2012/11/gravis-mark...</td>\n",
       "      <td>Nonpartisan</td>\n",
       "      <td>None</td>\n",
       "      <td>NaN</td>\n",
       "      <td>1</td>\n",
       "      <td>2012</td>\n",
       "      <td>2012</td>\n",
       "      <td>11</td>\n",
       "      <td>2012</td>\n",
       "      <td>11</td>\n",
       "    </tr>\n",
       "    <tr>\n",
       "      <th>3</th>\n",
       "      <td>IBD/TIPP</td>\n",
       "      <td>2012-11-03</td>\n",
       "      <td>2012-11-05</td>\n",
       "      <td>2012-11-06T08:51:48Z</td>\n",
       "      <td>712.0</td>\n",
       "      <td>Likely Voters</td>\n",
       "      <td>Live Phone</td>\n",
       "      <td>50.0</td>\n",
       "      <td>49.0</td>\n",
       "      <td>NaN</td>\n",
       "      <td>...</td>\n",
       "      <td>http://news.investors.com/special-report/50841...</td>\n",
       "      <td>Nonpartisan</td>\n",
       "      <td>None</td>\n",
       "      <td>NaN</td>\n",
       "      <td>1</td>\n",
       "      <td>2012</td>\n",
       "      <td>2012</td>\n",
       "      <td>11</td>\n",
       "      <td>2012</td>\n",
       "      <td>11</td>\n",
       "    </tr>\n",
       "    <tr>\n",
       "      <th>4</th>\n",
       "      <td>Rasmussen</td>\n",
       "      <td>2012-11-03</td>\n",
       "      <td>2012-11-05</td>\n",
       "      <td>2012-11-06T08:47:50Z</td>\n",
       "      <td>1500.0</td>\n",
       "      <td>Likely Voters</td>\n",
       "      <td>Automated Phone</td>\n",
       "      <td>48.0</td>\n",
       "      <td>49.0</td>\n",
       "      <td>NaN</td>\n",
       "      <td>...</td>\n",
       "      <td>http://www.rasmussenreports.com/public_content...</td>\n",
       "      <td>Nonpartisan</td>\n",
       "      <td>None</td>\n",
       "      <td>NaN</td>\n",
       "      <td>1</td>\n",
       "      <td>2012</td>\n",
       "      <td>2012</td>\n",
       "      <td>11</td>\n",
       "      <td>2012</td>\n",
       "      <td>11</td>\n",
       "    </tr>\n",
       "  </tbody>\n",
       "</table>\n",
       "<p>5 rows × 22 columns</p>\n",
       "</div>"
      ],
      "text/plain": [
       "                    Pollster Start Date   End Date  Entry Date/Time (ET)  \\\n",
       "0  Politico/GWU/Battleground 2012-11-04 2012-11-05  2012-11-06T08:40:26Z   \n",
       "1           YouGov/Economist 2012-11-03 2012-11-05  2012-11-26T15:31:23Z   \n",
       "2           Gravis Marketing 2012-11-03 2012-11-05  2012-11-06T09:22:02Z   \n",
       "3                   IBD/TIPP 2012-11-03 2012-11-05  2012-11-06T08:51:48Z   \n",
       "4                  Rasmussen 2012-11-03 2012-11-05  2012-11-06T08:47:50Z   \n",
       "\n",
       "   Number of Observations     Population             Mode  Obama  Romney  \\\n",
       "0                  1000.0  Likely Voters       Live Phone   47.0    47.0   \n",
       "1                   740.0  Likely Voters         Internet   49.0    47.0   \n",
       "2                   872.0  Likely Voters  Automated Phone   48.0    48.0   \n",
       "3                   712.0  Likely Voters       Live Phone   50.0    49.0   \n",
       "4                  1500.0  Likely Voters  Automated Phone   48.0    49.0   \n",
       "\n",
       "   Undecided    ...                                             Source URL  \\\n",
       "0        6.0    ...      http://www.politico.com/news/stories/1112/8338...   \n",
       "1        3.0    ...      http://cdn.yougov.com/cumulus_uploads/document...   \n",
       "2        4.0    ...      http://www.gravispolls.com/2012/11/gravis-mark...   \n",
       "3        NaN    ...      http://news.investors.com/special-report/50841...   \n",
       "4        NaN    ...      http://www.rasmussenreports.com/public_content...   \n",
       "\n",
       "      Partisan Affiliation Question Text Question Iteration  start year  \\\n",
       "0  Nonpartisan        None           NaN                  1        2012   \n",
       "1  Nonpartisan        None           NaN                  1        2012   \n",
       "2  Nonpartisan        None           NaN                  1        2012   \n",
       "3  Nonpartisan        None           NaN                  1        2012   \n",
       "4  Nonpartisan        None           NaN                  1        2012   \n",
       "\n",
       "   Start Year  Start Month  End Year  End Month  \n",
       "0        2012           11      2012         11  \n",
       "1        2012           11      2012         11  \n",
       "2        2012           11      2012         11  \n",
       "3        2012           11      2012         11  \n",
       "4        2012           11      2012         11  \n",
       "\n",
       "[5 rows x 22 columns]"
      ]
     },
     "execution_count": 136,
     "metadata": {},
     "output_type": "execute_result"
    }
   ],
   "source": [
    "#convert the dates to datetime\n",
    "election['Start Date'] = pd.to_datetime(election['Start Date'])\n",
    "election['End Date'] = pd.to_datetime(election['End Date'])\n",
    "election.dtypes\n",
    "\n",
    "#Extract month and year\n",
    "#sortedsampleinfo['year'] = map(lambda x: x.year,sortedsampleinfo['date'] )\n",
    "#sortedsampleinfo['month'] = map(lambda x: x.month,sortedsampleinfo['date'] )\n",
    "#sortedsampleinfo.head()\n",
    "election['Start Year'] = map(lambda x: x.year, election['Start Date'])\n",
    "election['Start Month'] = map(lambda x: x.month, election['Start Date'])\n",
    "election['End Year'] = map(lambda x: x.year, election['End Date'])\n",
    "election['End Month'] = map(lambda x: x.month, election['End Date'])\n",
    "election.head()\n"
   ]
  },
  {
   "cell_type": "code",
   "execution_count": 163,
   "metadata": {},
   "outputs": [
    {
     "name": "stdout",
     "output_type": "stream",
     "text": [
      "Number of polls done in November 2012 is: 22\n"
     ]
    }
   ],
   "source": [
    "#filter on 2012 and November for the start date\n",
    "electNov12 = election[(election['Start Year'] == 2012) & (election['Start Month'] == 11)]\n",
    "M = electNov12.shape[1]\n",
    "print \"Number of polls done in November 2012 is: \" + str(M)"
   ]
  },
  {
   "cell_type": "markdown",
   "metadata": {},
   "source": [
    "Answer:"
   ]
  },
  {
   "cell_type": "markdown",
   "metadata": {},
   "source": [
    "What was the median of the number of observations in the November polls? Define this quantity as N. "
   ]
  },
  {
   "cell_type": "code",
   "execution_count": 220,
   "metadata": {},
   "outputs": [
    {
     "name": "stdout",
     "output_type": "stream",
     "text": [
      "Median number of observations in the November polls are: 1523\n"
     ]
    }
   ],
   "source": [
    "N = electNov12['Number of Observations'].mean()\n",
    "N = int(N)\n",
    "print \"Median number of observations in the November polls are: \" + str(N)"
   ]
  },
  {
   "cell_type": "markdown",
   "metadata": {},
   "source": [
    "Answer: "
   ]
  },
  {
   "cell_type": "markdown",
   "metadata": {},
   "source": [
    "#### Problem 2(b)\n",
    "\n",
    "Using the median sample size $N$ from Problem 1(a), simulate the results from a single poll:  simulate the number of votes for Obama out of a sample size $N$ where $p$ = 0.53 is the percent of voters who are voting for Obama.  \n",
    "\n",
    "**Hint**: Use the binomial distribution with parameters $N$ and $p$ = 0.53. "
   ]
  },
  {
   "cell_type": "code",
   "execution_count": 221,
   "metadata": {},
   "outputs": [
    {
     "data": {
      "text/plain": [
       "<matplotlib.collections.LineCollection at 0xd48a7f0>"
      ]
     },
     "execution_count": 221,
     "metadata": {},
     "output_type": "execute_result"
    },
    {
     "data": {
      "image/png": "[encoded data removed]",
      "text/plain": [
       "<matplotlib.figure.Figure at 0xd48aa58>"
      ]
     },
     "metadata": {},
     "output_type": "display_data"
    }
   ],
   "source": [
    "from scipy.stats import binom\n",
    "import matplotlib.pyplot as plt\n",
    "fig, ax = plt.subplots(1, 1)\n",
    "n, p = 5, 0.4\n",
    "mean, var, skew, kurt = binom.stats(n, p, moments='mvsk')\n",
    "x = np.arange(binom.ppf(0.01, n, p),binom.ppf(0.99, n, p))\n",
    "ax.plot(x, binom.pmf(x, n, p), 'bo', ms=8, label='binom pmf')\n",
    "ax.vlines(x, 0, binom.pmf(x, n, p), colors='b', lw=5, alpha=0.5)"
   ]
  },
  {
   "cell_type": "code",
   "execution_count": 233,
   "metadata": {},
   "outputs": [
    {
     "name": "stdout",
     "output_type": "stream",
     "text": [
      "[834]\n"
     ]
    }
   ],
   "source": [
    "from scipy import stats\n",
    "#percents of voter who are voting for Obama\n",
    "p = 0.53\n",
    "#generate a random number using the distribution\n",
    "result = binom.rvs(N,p,size = 1)\n",
    "print result"
   ]
  },
  {
   "cell_type": "code",
   "execution_count": 303,
   "metadata": {},
   "outputs": [],
   "source": [
    "from scipy import stats\n",
    "#print(stats.binom.__doc__)"
   ]
  },
  {
   "cell_type": "code",
   "execution_count": 229,
   "metadata": {},
   "outputs": [
    {
     "data": {
      "text/plain": [
       "[<matplotlib.lines.Line2D at 0x2503de10>]"
      ]
     },
     "execution_count": 229,
     "metadata": {},
     "output_type": "execute_result"
    },
    {
     "data": {
      "image/png": "[encoded data removed]",
      "text/plain": [
       "<matplotlib.figure.Figure at 0x1dbb9668>"
      ]
     },
     "metadata": {},
     "output_type": "display_data"
    }
   ],
   "source": [
    "#display the distrbution of the voters\n",
    "fig, ax = plt.subplots(1, 1)\n",
    "\n",
    "x = np.arange(binom.ppf(0.01, N, p),binom.ppf(0.99, N, p))\n",
    "ax.plot(x, binom.pmf(x, N, p),'b-', lw=2, alpha=0.7)"
   ]
  },
  {
   "cell_type": "markdown",
   "metadata": {},
   "source": [
    "Now, perform a Monte Carlo simulation to obtain the estimated percentage of Obama votes with a sample size $N$ where $N$ is the median sample size calculated in Problem 2(a). Let $p$=0.53 be the percent of voters are voting for Obama. \n",
    "\n",
    "**Hint**: You will repeat the simulation above 1,000 times and plot the distribution of the estimated *percent* of Obama votes from a single poll.  The results from the single poll you simulate is random variable and will be different every time you sample. "
   ]
  },
  {
   "cell_type": "code",
   "execution_count": 235,
   "metadata": {
    "collapsed": true
   },
   "outputs": [],
   "source": [
    "def simulate_vote(n_size,N,p):\n",
    "    results = binom.rvs(N,p,size = n_size)\n",
    "    return results"
   ]
  },
  {
   "cell_type": "code",
   "execution_count": 277,
   "metadata": {},
   "outputs": [],
   "source": [
    "n_size = 1000\n",
    "simulations = simulate_vote(n_size,N,p)"
   ]
  },
  {
   "cell_type": "code",
   "execution_count": 283,
   "metadata": {},
   "outputs": [
    {
     "data": {
      "text/plain": [
       "<matplotlib.text.Text at 0x254fc940>"
      ]
     },
     "execution_count": 283,
     "metadata": {},
     "output_type": "execute_result"
    },
    {
     "data": {
      "image/png": "[encoded data removed]",
      "text/plain": [
       "<matplotlib.figure.Figure at 0x254fc128>"
      ]
     },
     "metadata": {},
     "output_type": "display_data"
    }
   ],
   "source": [
    "import seaborn as sns\n",
    "import matplotlib.pyplot as plt\n",
    "sns.set(style=\"whitegrid\")\n",
    "sns.distplot(simulations, kde=False);\n",
    "sns.plt.suptitle('Distribution of the simulations')"
   ]
  },
  {
   "cell_type": "markdown",
   "metadata": {},
   "source": [
    "Plot the distribution of the estimated percentage of Obama votes from your single poll. What is the distribution of the estimated percentage of Obama votes? "
   ]
  },
  {
   "cell_type": "code",
   "execution_count": 295,
   "metadata": {},
   "outputs": [],
   "source": [
    "results = []\n",
    "for i in range(n_size):\n",
    "    results.append(float(simulations[i])/(N*1.0))\n",
    "#results"
   ]
  },
  {
   "cell_type": "code",
   "execution_count": 296,
   "metadata": {},
   "outputs": [
    {
     "data": {
      "text/plain": [
       "<matplotlib.text.Text at 0x26597f60>"
      ]
     },
     "execution_count": 296,
     "metadata": {},
     "output_type": "execute_result"
    },
    {
     "data": {
      "image/png": "[encoded data removed]",
      "text/plain": [
       "<matplotlib.figure.Figure at 0x26597cf8>"
      ]
     },
     "metadata": {},
     "output_type": "display_data"
    }
   ],
   "source": [
    "import seaborn as sns\n",
    "import matplotlib.pyplot as plt\n",
    "sns.set(style=\"whitegrid\")\n",
    "sns.distplot(results, kde=False);\n",
    "sns.plt.suptitle('Distribution of the estimated percentage of Obama votes')"
   ]
  },
  {
   "cell_type": "markdown",
   "metadata": {},
   "source": [
    "Answer: "
   ]
  },
  {
   "cell_type": "markdown",
   "metadata": {},
   "source": [
    "What is the standard error (SE) of the estimated percentage from the poll. \n",
    "\n",
    "**Hint**: Remember the SE is the standard deviation (SD) of the distribution of a random variable. "
   ]
  },
  {
   "cell_type": "code",
   "execution_count": 304,
   "metadata": {},
   "outputs": [
    {
     "name": "stdout",
     "output_type": "stream",
     "text": [
      "the standard error is: 0.0127890095627\n"
     ]
    }
   ],
   "source": [
    "SE = binom.std(N, p, loc=0) / N\n",
    "print \"the standard error is: \" + str(SE)"
   ]
  },
  {
   "cell_type": "markdown",
   "metadata": {},
   "source": [
    "#### Problem 2(c)\n",
    "\n",
    "Now suppose we run M polls where M is the number of polls that happened in November (calculated in Problem 2(a)). Run 1,000 simulations and compute the mean of the M polls for each simulation. "
   ]
  },
  {
   "cell_type": "code",
   "execution_count": 309,
   "metadata": {},
   "outputs": [],
   "source": [
    "simuls = [np.mean(simulate_vote(M,N,p)) for k in range(1000)]"
   ]
  },
  {
   "cell_type": "markdown",
   "metadata": {},
   "source": [
    "What is the distribution of the average of polls?\n",
    "\n",
    "**Hint**: Show a plot. "
   ]
  },
  {
   "cell_type": "code",
   "execution_count": 311,
   "metadata": {},
   "outputs": [
    {
     "data": {
      "text/plain": [
       "<matplotlib.text.Text at 0x26bd7278>"
      ]
     },
     "execution_count": 311,
     "metadata": {},
     "output_type": "execute_result"
    },
    {
     "data": {
      "image/png": "[encoded data removed]",
      "text/plain": [
       "<matplotlib.figure.Figure at 0x26bd72b0>"
      ]
     },
     "metadata": {},
     "output_type": "display_data"
    }
   ],
   "source": [
    "import seaborn as sns\n",
    "import matplotlib.pyplot as plt\n",
    "sns.set(style=\"whitegrid\")\n",
    "sns.distplot(simuls, kde=False);\n",
    "sns.plt.suptitle('Distribution of the average of polls')"
   ]
  },
  {
   "cell_type": "markdown",
   "metadata": {},
   "source": [
    "Answer: "
   ]
  },
  {
   "cell_type": "markdown",
   "metadata": {},
   "source": [
    "What is the standard error (SE) of the average of polls? "
   ]
  },
  {
   "cell_type": "code",
   "execution_count": 334,
   "metadata": {},
   "outputs": [
    {
     "name": "stdout",
     "output_type": "stream",
     "text": [
      "0.00406029230897\n"
     ]
    }
   ],
   "source": [
    "SE2 = np.std(simuls)/1000\n",
    "print SE2"
   ]
  },
  {
   "cell_type": "markdown",
   "metadata": {},
   "source": [
    "Answer: "
   ]
  },
  {
   "cell_type": "markdown",
   "metadata": {},
   "source": [
    "Is the SE of the average of polls larger, the same, or smaller than that the SD of a single poll (calculated in Problem 2(b))? By how much?\n",
    "\n",
    "**Hint**: Compute a ratio of the two quantities.  "
   ]
  },
  {
   "cell_type": "code",
   "execution_count": 317,
   "metadata": {},
   "outputs": [
    {
     "name": "stdout",
     "output_type": "stream",
     "text": [
      "3.14977558005\n"
     ]
    }
   ],
   "source": [
    "ratio = SE/SE2\n",
    "print ratio"
   ]
  },
  {
   "cell_type": "markdown",
   "metadata": {},
   "source": [
    "Answer: "
   ]
  },
  {
   "cell_type": "markdown",
   "metadata": {},
   "source": [
    "#### Problem 2(d) \n",
    "\n",
    "Repeat Problem 2(c) but now record the *across poll* standard deviation in each simulation. "
   ]
  },
  {
   "cell_type": "code",
   "execution_count": 326,
   "metadata": {},
   "outputs": [
    {
     "name": "stdout",
     "output_type": "stream",
     "text": [
      "Record poll standar deviation: [0.012200455257228163, 0.013561147170240973, 0.01182785698403843, 0.010885841461274682, 0.011458340876177748, 0.0095959809744074944, 0.012750834076006674, 0.0078481487797677149, 0.011885403934859396, 0.011327145514796777, 0.012067031104798703, 0.0098748144093166439, 0.014949417973480324, 0.016171388313599572, 0.01351136599030929, 0.01590894246525244, 0.013629417863629428, 0.014097426979481683, 0.011241736829728231, 0.013066969545488357, 0.013360242925131837, 0.013397759661919468, 0.013726451114304901, 0.012029918068800336, 0.015184124488143236, 0.0095116969341435213, 0.014046502553651502, 0.010018101270175968, 0.011236347503865452, 0.013623665426828534, 0.015095991375601822, 0.0098361313214579311, 0.009794976823965287, 0.010465186703391237, 0.014806567749713138, 0.010749524540949086, 0.011097714420198364, 0.0083686950950933869, 0.01333381485704202, 0.013149735933079507, 0.010931568141139483, 0.013144857831291859, 0.012679343558214318, 0.013881416447856966, 0.0088675000316446803, 0.010842756486438808, 0.012209103806088898, 0.013218952214905197, 0.014728183683127373, 0.016067140628395347, 0.010101510886888244, 0.012452830317509203, 0.013399222248637079, 0.01173379818875574, 0.013359809553102958, 0.01203669122379398, 0.011038441630114448, 0.014320226390415709, 0.010464803677340716, 0.016322242062899533, 0.012215814069095641, 0.011791199846798739, 0.012629789386730378, 0.010363877210894899, 0.010743349403787796, 0.0093773470478865795, 0.01393508579677878, 0.014263229153021639, 0.0096279986339253363, 0.011986598146933274, 0.01219085074031709, 0.011890499081872717, 0.011152759469475774, 0.01287274728625004, 0.010726961870515224, 0.014590128029515132, 0.011422993324684506, 0.011255159283814235, 0.010260048380486081, 0.013555858591506913, 0.012392707476737043, 0.011478845349270093, 0.014157042481249067, 0.010039950251423726, 0.013660491329016481, 0.011241578357022062, 0.013803199423741705, 0.014534311848460255, 0.0087487759500312502, 0.012068654962090593, 0.011560499566348987, 0.014809094211148529, 0.0086440957776607354, 0.012834910437315026, 0.01253805253083244, 0.011992504494898741, 0.012586304828118216, 0.011658402077162868, 0.013613592813561804, 0.013905522825750978, 0.015332201434348935, 0.0096918544977766877, 0.014225834644161042, 0.013442760809417201, 0.014185610374698017, 0.014257982333273913, 0.012687490161245735, 0.013825896024801254, 0.013520098340283025, 0.010913953404235949, 0.011012912462960722, 0.012401940204145834, 0.013120304336746021, 0.015758286846632431, 0.01485341763128469, 0.010304618984261566, 0.010113496212507884, 0.012557928974082399, 0.014540714811518415, 0.012840183784601692, 0.013449683434966851, 0.012012282577332754, 0.011890349255771027, 0.012700401640791855, 0.011363849473085193, 0.014488766370882082, 0.011866615438770069, 0.011616265557376129, 0.010299085234775063, 0.011497105411235681, 0.010755157812775758, 0.011120646257294002, 0.015079608433238969, 0.011308059637155749, 0.016025090477993671, 0.014652480915256883, 0.010802715883912732, 0.011295330945550672, 0.01617532617742597, 0.012329582644801782, 0.013363809376417362, 0.012454117786615327, 0.011653052573456852, 0.012651528423021481, 0.0097214034627766729, 0.014165219598826427, 0.011212818186926876, 0.011515065778623131, 0.0096773223183776493, 0.012958679199203843, 0.013446769079641131, 0.014135917371759775, 0.012961565855085025, 0.011943978764755787, 0.013077463189450069, 0.013659415385285478, 0.010981525907419716, 0.015990813717665461, 0.011483034935551457, 0.012454403872786962, 0.010802056216356919, 0.013606000726480402, 0.013716811147353253, 0.011867253460123441, 0.012251346186041612, 0.012245382832169128, 0.009528912519942475, 0.013735500677861879, 0.012776759971172174, 0.0089427200408216754, 0.011860946801632509, 0.010603815127866312, 0.01234257985419239, 0.010658151591976141, 0.011624735730179232, 0.011968154584258211, 0.014295417369085316, 0.015714361696290358, 0.012952663266547567, 0.011747909523484163, 0.011075338312843784, 0.012621605540845069, 0.012390550985608123, 0.01630422314348861, 0.010516089555023842, 0.016928973279171269, 0.011947296987206623, 0.0131345536668733, 0.015048002556515923, 0.015796113654762994, 0.011544307518617859, 0.012385409834561689, 0.012404058809771835, 0.010416857266427033, 0.013250685754975384, 0.012774424262888546, 0.012493250561661251, 0.012083665296994034, 0.013214874844581663, 0.012694508898802394, 0.010472291422823455, 0.010052762168116208, 0.013271407779978006, 0.012141907253932535, 0.017860022508516576, 0.01276908887947277, 0.012898082839835116, 0.014685180710991331, 0.010856344034515941, 0.013533104025732746, 0.01084156522526389, 0.012143264364958118, 0.013109573201921276, 0.012320331842921804, 0.013215717379571775, 0.01144387248256303, 0.015543838901219581, 0.010376632545472275, 0.011574976088652577, 0.016161332772619795, 0.012109585193837553, 0.011753367427117105, 0.013358609372572028, 0.012347053502879004, 0.01401174025537612, 0.012210088695112468, 0.0096636900747319454, 0.01412516955261626, 0.0097989318833072696, 0.01034189434484265, 0.013619447609083511, 0.0090131628088025353, 0.010932708857688699, 0.012487830712657787, 0.0089107391552189757, 0.013575950791695338, 0.0098719274586894397, 0.011684807939132902, 0.0094874581357007846, 0.012110945926762776, 0.0092702044208268965, 0.014097679717791174, 0.010346716503815365, 0.014750151469182573, 0.012056655403142984, 0.012704784348080042, 0.010887846020658679, 0.010696984701274472, 0.008870261999991122, 0.011807468238099925, 0.012014062119837233, 0.013101417100010724, 0.01216843512038988, 0.011607865940747281, 0.0135766068978055, 0.012078688506476332, 0.013187783989504938, 0.011191866132296908, 0.015122756188973741, 0.01077683494833636, 0.0097881995043735195, 0.013342997201836442, 0.014262136224750654, 0.013189540001351826, 0.013366608540577829, 0.014251639848874731, 0.011963390339492345, 0.013521910008138342, 0.016601690321736463, 0.012263554732684444, 0.014426817279701418, 0.015815697152502285, 0.014772357931463453, 0.010609357850285283, 0.013349170861856028, 0.013284656935835446, 0.014048056116036281, 0.01408513210762114, 0.01153778573560851, 0.012342291176014009, 0.013037248622235575, 0.014695579575553827, 0.010036090173936496, 0.014006780797309434, 0.011304593178785427, 0.015407079331498961, 0.013451537695967707, 0.0097770909291842872, 0.013404173913858697, 0.016194038580673625, 0.014098532676136177, 0.01249663677361755, 0.014774769666268825, 0.014141461437223442, 0.0087385886179508054, 0.014811289476444884, 0.012180909585503054, 0.012019992025428325, 0.011695932411565973, 0.012798771349842754, 0.0072999312413508073, 0.014349804037737661, 0.013036018744684729, 0.012355022683102587, 0.015023268832127875, 0.013903761142950253, 0.011380454822979539, 0.0095223200088906911, 0.011731634468448065, 0.011437799644901636, 0.010376632545472275, 0.014461074572614139, 0.01405905296163538, 0.011391876508256852, 0.0084159796826265877, 0.011224569171526163, 0.010170802904175805, 0.01131801979097511, 0.011574168036879454, 0.012890311193079283, 0.009601919943367199, 0.01155753272248795, 0.0090369981231596085, 0.010775016408055697, 0.011740135213963783, 0.011351144105817347, 0.011289020395829834, 0.010880603318858966, 0.014029370267284288, 0.010905788798604509, 0.013156778887075317, 0.014551859657233877, 0.011793730280950921, 0.013033387783672983, 0.015330109816013319, 0.016892918704087049, 0.012660220621389334, 0.0093391309580920165, 0.011497570256905098, 0.011080645174058632, 0.012797135730775471, 0.014666820719042101, 0.011402388415503697, 0.013394834009383148, 0.0092989859003074146, 0.012136036918658695, 0.0084322633015747883, 0.012443492182729112, 0.013779560473104441, 0.011678974789681794, 0.012686823179214369, 0.013338490295191605, 0.011022129170423958, 0.010426771735949246, 0.01464010459512442, 0.014036733367170469, 0.012498774961121199, 0.013957567937166472, 0.012273428947284316, 0.012650542695707217, 0.0092156102660754628, 0.012268892151708132, 0.012853392337878109, 0.013041347376403365, 0.013228618307355139, 0.013910806535542278, 0.013971983423772243, 0.01257129237967888, 0.011059241364750732, 0.014000133641585621, 0.013183426719493317, 0.010025744945237634, 0.015783590038525575, 0.0088229385623598781, 0.014223956075789631, 0.012471807009343167, 0.01309121482687358, 0.014286223682660127, 0.014442337173771667, 0.011805053931470093, 0.014334152885835498, 0.0098853175918062614, 0.011573282963060415, 0.014305788227979812, 0.01214165048613438, 0.010064097509662393, 0.013297691937156573, 0.012720059411715152, 0.0112483906673143, 0.012957304375133944, 0.012451256563369897, 0.011882818061646762, 0.010608014425942273, 0.012185588786260693, 0.009818547202526352, 0.013303284021745304, 0.010227527233064146, 0.01276619358822346, 0.010142387640185007, 0.013063731168676079, 0.011988827299326817, 0.01329715604512159, 0.010190357994172146, 0.014000674437233837, 0.01333688747246916, 0.01140797258652518, 0.015490654338507045, 0.011211547072490375, 0.016983580343250048, 0.01359994365422792, 0.0073569972443795805, 0.012219313613044989, 0.010450707078170585, 0.0096710612412767502, 0.011013074226056817, 0.011962012821465147, 0.009693876237908584, 0.011479466125202203, 0.011596004078203364, 0.013790545353069044, 0.014759599333053791, 0.01038088084079752, 0.014417522037050687, 0.008804595582376706, 0.014026703364252512, 0.013180757602663601, 0.011801016409370519, 0.012705730814316762, 0.013956291513242489, 0.011014246937453167, 0.011493695968548838, 0.014253483521971168, 0.014891778384522471, 0.01443049049159385, 0.013213021078492575, 0.010721479946446014, 0.013595227092377931, 0.01337153897551426, 0.010953587387952124, 0.014049926504020363, 0.01521494999384413, 0.010288701432400627, 0.0098323271174802808, 0.0097158584172525094, 0.012834528729425344, 0.01065798444199194, 0.01187895694273342, 0.011050095917189537, 0.013394202250521349, 0.015451532136672065, 0.013388980786440375, 0.015020185372209982, 0.015401528168355218, 0.011706133239742648, 0.013019848729200574, 0.012829114194915921, 0.011118883948942566, 0.011956836403321774, 0.011974256002631431, 0.010564133658223276, 0.011684503010005202, 0.013988199008481542, 0.013830405113432552, 0.013155323200952787, 0.012904124218038073, 0.0094528917339184084, 0.015348430829491519, 0.0099214300629994236, 0.016420857081158417, 0.015089027108994365, 0.012012690412440741, 0.013964235354728032, 0.010545229483849955, 0.011479272136329604, 0.011452742375948148, 0.015660049894328489, 0.014083361267961619, 0.011401255627668971, 0.012385086194229913, 0.010650794511128528, 0.012972694082248788, 0.011585590959772823, 0.011311249415579505, 0.013039947113622025, 0.01010997259167328, 0.012517183877337204, 0.015614137087810103, 0.012499523240336294, 0.01165473411063349, 0.012278907160840345, 0.01097921393462035, 0.011886415645156873, 0.012948536440174664, 0.010040482559442414, 0.011560152831688783, 0.014416286337709481, 0.0096022446247991979, 0.011614271677813716, 0.011125130873401175, 0.013942530632421521, 0.01155618390530015, 0.010801066639481827, 0.013690713547804587, 0.013652403372976232, 0.013116128388017022, 0.0152588242007247, 0.011342391093508831, 0.012634161337382396, 0.014152794806772133, 0.015013779239694431, 0.010830714615147254, 0.012750275199643642, 0.0087607817653519351, 0.014252858574759556, 0.014759840732741142, 0.014173046338829501, 0.013429534978807774, 0.013792321496844626, 0.013152072715670905, 0.012986693840825965, 0.01060486510827576, 0.011930248676671244, 0.011721189854913966, 0.0091806024752249978, 0.012865721933173471, 0.016548702867016155, 0.01339150862837696, 0.013568206343590723, 0.014646157222913415, 0.0098798645430433155, 0.013916312267146869, 0.010404921750353137, 0.012446355190884873, 0.013726451114304901, 0.01747934317160961, 0.010053648201907359, 0.012300397335008394, 0.012640645961416239, 0.010471313214763665, 0.011225521414935855, 0.012879665068848785, 0.012816158630444632, 0.011350516311773074, 0.0092682824776711119, 0.011765184199039134, 0.012977225068598301, 0.011271015944985252, 0.010866226394282386, 0.0131120190431892, 0.010084036196364592, 0.01099721013312503, 0.0091815726739548249, 0.013741595230765824, 0.015982233041236023, 0.010078071990033452, 0.01279100900135061, 0.013786669336029452, 0.012182335469862214, 0.012583579841767466, 0.0088660433746208835, 0.011735012734073109, 0.010783899545303186, 0.01287828180960917, 0.014843579420128114, 0.013207727987526372, 0.0098285667553952519, 0.011305223523002422, 0.011099760965793164, 0.012275424606151298, 0.010208392378473418, 0.014834094972371819, 0.010629698337738453, 0.0099311664370410283, 0.011053763062530732, 0.0086397151710918205, 0.014236350046073014, 0.011085346858965547, 0.01165335832553655, 0.014126840571462712, 0.012238688781218426, 0.0098329159595967434, 0.015451301543462512, 0.0096111458963511892, 0.014940507491670694, 0.012346512421882614, 0.011029561599282686, 0.013868352035589874, 0.014007798265190958, 0.013096929078948622, 0.015732716491237329, 0.015518259587188684, 0.011418274650480122, 0.015266061099062308, 0.012837963691860447, 0.014496141916319755, 0.011336224604775031, 0.014999414823596291, 0.013198046595263366, 0.010828740608821903, 0.010957815222586029, 0.013179236978004815, 0.013097099107770455, 0.010333924243436151, 0.010281036658716592, 0.01394955644402663, 0.0092782722346121029, 0.0094667804864446998, 0.014579745594986602, 0.009263091239282371, 0.012847431102907968, 0.012063302787429162, 0.011171273465139697, 0.011535006104393159, 0.011323488241438679, 0.013469008178177564, 0.013699299066263462, 0.012271360376538041, 0.013390045199105194, 0.010947079838635106, 0.012219313613044989, 0.015089410817501165, 0.012876517938567231, 0.011218060011540389, 0.012955791900152253, 0.011487378077765705, 0.010435481848743601, 0.014700306654681942, 0.012099761314343014, 0.011814105037327055, 0.011927149760413787, 0.0085776845037078258, 0.015239898664912717, 0.015450350310094788, 0.012241308628408382, 0.014812101341460833, 0.01363177043358069, 0.010317706578486985, 0.011991018895079491, 0.013441965638566224, 0.013401249661630105, 0.011766509058152365, 0.012706186495138218, 0.011963688160373513, 0.01280618121763767, 0.01172419126008332, 0.010151341764793695, 0.011371841866153688, 0.010397385488271261, 0.014163364436245609, 0.014109900527012871, 0.011929838023198905, 0.0103702783129049, 0.012341749886230002, 0.0088652898374167056, 0.015646534997131194, 0.0099045370041039738, 0.010184106199980983, 0.011869204841952511, 0.015714701794728451, 0.012258905291415904, 0.013826508058785899, 0.015511025502264204, 0.013065640203704425, 0.013953770232970312, 0.011217742394925949, 0.015373365674599978, 0.013545604039408098, 0.014061840420005398, 0.014305009896013618, 0.012805450857819062, 0.0114219015734324, 0.014287595319745499, 0.012267040657174762, 0.010733270920830125, 0.013484969876266805, 0.010234709898911306, 0.011057308156246609, 0.0147890210112706, 0.012370837637370157, 0.0086841398230727892, 0.0094906497531674506, 0.0089430686547832088, 0.014591928935089855, 0.0094640043665174152, 0.013859324947810671, 0.013436563858088547, 0.016217673346988742, 0.010686654116589459, 0.0146091331669849, 0.012702225030711967, 0.011975260206409453, 0.010989310026648337, 0.011712827458212883, 0.010769352168291012, 0.013996824789766544, 0.010218683450873301, 0.013073512026581972, 0.015688237143145958, 0.012619346994193866, 0.01443258905008394, 0.014221200393298862, 0.013968827321829263, 0.011105697825638614, 0.0088506081994350963, 0.010811988196320071, 0.013082128112070173, 0.011342391093508831, 0.0095428773150378968, 0.012275134348662014, 0.013227944941021074, 0.012065554681247198, 0.012962115621414248, 0.010722144571364877, 0.012691140389206225, 0.014540224732193989, 0.010803086929211178, 0.011468248181916007, 0.013186027743806155, 0.015373626406821576, 0.015331504259942782, 0.014967044482208623, 0.011145289315099451, 0.0099311664370410283, 0.010595453573295055, 0.01569280711280131, 0.010970773129023002, 0.011049128555152256, 0.014432959352260605, 0.011241578357022062, 0.010238669092140495, 0.013102674830072509, 0.013084000423337077, 0.011152160443821035, 0.012691035108874709, 0.012961737659567782, 0.010973411578231474, 0.014854886804648667, 0.015207718059309429, 0.010863561912882338, 0.011184183169496152, 0.013878592752120254, 0.014827608441420205, 0.011551365415366579, 0.013004788803864555, 0.015322060233166644, 0.014509654012285321, 0.011036222292259956, 0.014694640038972532, 0.0093843736260421692, 0.01180807173762693, 0.010616408039024559, 0.010739244496927378, 0.01622305505716767, 0.015823129711866606, 0.012497349543432679, 0.014483109242394843, 0.009756479332422574, 0.010143968354149645, 0.01711214106823573, 0.015341145693596453, 0.011097353225914987, 0.016440780000453827, 0.012152613305976442, 0.0077444645870145103, 0.01316073889238668, 0.013329772621462252, 0.010613932613409404, 0.0095615274213901955, 0.014552930827228323, 0.011958028295258851, 0.011994027043746818, 0.012007795476926738, 0.014039144577404345, 0.014359081083363952, 0.013606753579448804, 0.011859144283190955, 0.013330340612866585, 0.011179562889782535, 0.0090800677465797987, 0.0070291463248971543, 0.011984480068108727, 0.014097047863521429, 0.010769558944749132, 0.012781674022675748, 0.012009019397855225, 0.011921920847509959, 0.011468092839274472, 0.012615428868547562, 0.010510031520998614, 0.015423951838944999, 0.0108658984933689, 0.014500565442869115, 0.010996440628723987, 0.014225615490633794, 0.012168727922948253, 0.011517386194924492, 0.0087532546200527143, 0.011553061753022077, 0.0094175836957436521, 0.01195668740847562, 0.011689647623607613, 0.01446944923752099, 0.013522996892351664, 0.01285865810572292, 0.015218813424331772, 0.012178715591275643, 0.011819419329814514, 0.011313257333187223, 0.011811692087257247, 0.0093726438964373618, 0.011404263127428654, 0.011323055582595472, 0.010291990769977777, 0.011807958583815104, 0.011207136776901628, 0.011752761118546232, 0.013000815554067471, 0.0091027983242204982, 0.010314943585445952, 0.011786477435322035, 0.010384998740205445, 0.0093438509780216054, 0.011202327179394072, 0.011607981045048781, 0.012769960826511309, 0.011160743405976475, 0.015533291104635426, 0.012063302787429162, 0.015697687846528356, 0.010173780151753496, 0.012832967078921372, 0.015723173538900792, 0.014336234480057105, 0.011050216831489774, 0.010995752079139288, 0.01105553575148592, 0.0093648000618069913, 0.011284916646153295, 0.01158143847320074, 0.012989882850692984, 0.012281119521017063, 0.0092334261555430744, 0.010772990854182665, 0.012094422905259847, 0.012261084936534964, 0.0075253034284429154, 0.0096270734252867085, 0.011563850798727635, 0.0098892815568424036, 0.010664125482872032, 0.013279861932487994, 0.013236292262350763, 0.010872946183792743, 0.014394180316584326, 0.010873110029216777, 0.014065387295347911, 0.011776497479066877, 0.014982420939979353, 0.015529735342094703, 0.0096304500069433717, 0.010364607737761341, 0.01317058297294107, 0.0057569913788238442, 0.012655752099048082, 0.011205388071207819, 0.0092724621949935183, 0.013400152902522425, 0.012708674925172418, 0.010366970854349421, 0.015330690849731281, 0.01393460637923909, 0.013133468547705297, 0.010512870335215614, 0.013812327682238302, 0.013070104893004897, 0.017065515634051634, 0.01115503547359444, 0.011166009676849239, 0.013057593094302627, 0.010734266747698489, 0.011879819243160734, 0.0098952245270103288, 0.015851729386538258, 0.010703852349089295, 0.01221169352925006, 0.014527078315752775, 0.010973046292334299, 0.01128882313430901, 0.013227709254705922, 0.010472674175018274, 0.012753069336543028, 0.011430281989631681, 0.011772904137008305, 0.0094172053541766877, 0.010446060832061952, 0.01470854510766363, 0.011559420802139952, 0.007813398253750943, 0.010945086127750891, 0.014779742626416128, 0.011016794121706518, 0.01002947578564232, 0.016069829200206654, 0.011676877193871435, 0.0099212953917892054, 0.012635606568937304, 0.013320848638024036, 0.010747701379674266, 0.013404672302306568, 0.012105023784403273, 0.014498845342913054, 0.010421131901292997, 0.010498117088237391, 0.014560273870026327, 0.011733798188755737, 0.0089583942385266426, 0.016123948446787419, 0.010292510042973563, 0.014921864717243362, 0.012487509726780846, 0.012210708769668897, 0.011986115109271639, 0.011179124660685611, 0.011654390179585153, 0.010127402529410754, 0.011874907042527911, 0.010910565834545709, 0.012358014305698823, 0.014282357451245861, 0.012810075766731934, 0.012704644124863093, 0.011564929149711335, 0.012886060711347536, 0.01134973152038497, 0.011986560990881157, 0.011590472073080617, 0.010851296871705211, 0.012940554177393442, 0.015524773119118302, 0.010614226338158055, 0.012826996351493326, 0.012318451924909069, 0.012674038430063686, 0.013053226485384276, 0.014240478972414046, 0.012067584717060589, 0.0104511758506485, 0.015474660447800591, 0.013779528151718111, 0.0093925804627143245, 0.010106844349247274, 0.014456269266807941, 0.011798865015799761, 0.011664360062731553, 0.012472985398879536, 0.011018613178518976, 0.015364121308060993, 0.012537235503214261, 0.013925238446607808, 0.012378647589918515, 0.01339553223451328, 0.013186669476083867, 0.018734664397952287, 0.016034398192362687, 0.0097093010988020846, 0.0088179397156078563, 0.014534342491363086, 0.014280985311082135, 0.013455245451364947, 0.012089118979744828, 0.014591196390149254, 0.011873669297496798, 0.010352741043963736, 0.0084191542862334622, 0.01055346202520162, 0.016130327842024304, 0.013279828394900042, 0.012265842482374287, 0.015685057248513552, 0.011122688583491578, 0.010920643825969578, 0.010402481626890912, 0.012677797922250393, 0.0125796151715265, 0.0090981001054176083, 0.01131766562756434, 0.013268420700855149, 0.012054180162809281, 0.013427014295918379, 0.013593392431917373, 0.011661114101888756, 0.013897833843783082, 0.0087296139315849123, 0.01365419748633075, 0.012932808052748278, 0.011859294503525157, 0.013602039378967971, 0.011189796630405639, 0.015751134724498912, 0.013019848729200575]\n"
     ]
    }
   ],
   "source": [
    "newsimul = []\n",
    "stdsimul = []\n",
    "for k in range(1000):\n",
    "    data = (simulate_vote(M,N,p))\n",
    "    newsimul.append(np.mean(simulate_vote(M,N,p)))\n",
    "    stdsimul.append(np.std(data)/N)\n",
    "print \"Record poll standar deviation: \" + str(stdsimul)"
   ]
  },
  {
   "cell_type": "markdown",
   "metadata": {},
   "source": [
    "What is the distribution of the *across M polls* standard deviation?\n",
    "\n",
    "**Hint**: Show a plot. "
   ]
  },
  {
   "cell_type": "code",
   "execution_count": 328,
   "metadata": {},
   "outputs": [
    {
     "data": {
      "text/plain": [
       "<matplotlib.text.Text at 0x26fad278>"
      ]
     },
     "execution_count": 328,
     "metadata": {},
     "output_type": "execute_result"
    },
    {
     "data": {
      "image/png": "[encoded data removed]",
      "text/plain": [
       "<matplotlib.figure.Figure at 0x27287b38>"
      ]
     },
     "metadata": {},
     "output_type": "display_data"
    }
   ],
   "source": [
    "sns.set(style=\"whitegrid\")\n",
    "sns.distplot(stdsimul, kde=False);\n",
    "sns.plt.suptitle('Distribution of across M polls std')"
   ]
  },
  {
   "cell_type": "markdown",
   "metadata": {},
   "source": [
    "Answer: "
   ]
  },
  {
   "cell_type": "markdown",
   "metadata": {},
   "source": [
    "#### Problem 2(e) \n",
    "\n",
    "What is the standard deviation of M polls in our real (not simulated) 2012 presidential election data ? "
   ]
  },
  {
   "cell_type": "code",
   "execution_count": 333,
   "metadata": {},
   "outputs": [
    {
     "name": "stdout",
     "output_type": "stream",
     "text": [
      "0.0241999017204\n"
     ]
    },
    {
     "data": {
      "image/png": "[encoded data removed]",
      "text/plain": [
       "<matplotlib.figure.Figure at 0x27528240>"
      ]
     },
     "metadata": {},
     "output_type": "display_data"
    }
   ],
   "source": [
    "sns.distplot(election['Obama'], kde=False);\n",
    "SE3 = np.std(election['Obama'])/100\n",
    "print SE3"
   ]
  },
  {
   "cell_type": "markdown",
   "metadata": {},
   "source": [
    "Is this larger, the same, or smaller than what we expeced if polls were not biased."
   ]
  },
  {
   "cell_type": "code",
   "execution_count": 29,
   "metadata": {
    "collapsed": true
   },
   "outputs": [],
   "source": [
    "#your code here"
   ]
  },
  {
   "cell_type": "markdown",
   "metadata": {},
   "source": [
    "Answer: "
   ]
  },
  {
   "cell_type": "markdown",
   "metadata": {},
   "source": [
    "#### Problem 2(f)\n",
    "\n",
    "**For AC209 Students**: Learn about the normal approximation for the binomial distribution and derive the results of Problem 2(b) and 2(c) analytically (using this approximation). Compare the results obtained analytically to those obtained from simulations."
   ]
  },
  {
   "cell_type": "code",
   "execution_count": 30,
   "metadata": {
    "collapsed": true
   },
   "outputs": [],
   "source": [
    "#your code here"
   ]
  },
  {
   "cell_type": "markdown",
   "metadata": {},
   "source": [
    "Answer: "
   ]
  },
  {
   "cell_type": "markdown",
   "metadata": {},
   "source": [
    "## Discussion for Problem 2\n",
    "\n",
    "*Write a brief discussion of your conclusions to the questions and tasks above in 100 words or less.*\n",
    "\n",
    "---\n"
   ]
  },
  {
   "cell_type": "markdown",
   "metadata": {},
   "source": [
    "## Problem 3: Is the average of polls better than just one poll?"
   ]
  },
  {
   "cell_type": "markdown",
   "metadata": {},
   "source": [
    "#### Problem 3(a)\n",
    "\n",
    "Most undecided voters vote for one of the two candidates at the election. Therefore, the reported percentages underestimate the final value of both candidates. However, if we assume the undecided will split evenly, then the observed difference should be an unbiased estimate of the final difference. \n",
    "\n",
    "Add a new column to the `election` DataFrame containg the difference between Obama and Romeny called `Diff`. "
   ]
  },
  {
   "cell_type": "code",
   "execution_count": 31,
   "metadata": {
    "collapsed": true
   },
   "outputs": [],
   "source": [
    "#your code here"
   ]
  },
  {
   "cell_type": "markdown",
   "metadata": {},
   "source": [
    "#### Problem 3(b)\n",
    "\n",
    "Make a plot of the differences for the week before the election (e.g. 5 days) where the days are on the x-axis and the differences are on the y-axis.  Add a horizontal line showing 3.9%: the difference between Obama and Romney on election day."
   ]
  },
  {
   "cell_type": "code",
   "execution_count": 32,
   "metadata": {
    "collapsed": true
   },
   "outputs": [],
   "source": [
    "#your code here"
   ]
  },
  {
   "cell_type": "markdown",
   "metadata": {},
   "source": [
    "#### Problem 3(c) \n",
    "\n",
    "Make a plot showing the differences by pollster where the pollsters are on the x-axis and the differences on the y-axis. "
   ]
  },
  {
   "cell_type": "code",
   "execution_count": 33,
   "metadata": {
    "collapsed": true
   },
   "outputs": [],
   "source": [
    "#your code here"
   ]
  },
  {
   "cell_type": "markdown",
   "metadata": {},
   "source": [
    "Is the *across poll* difference larger than the *between pollster* difference? "
   ]
  },
  {
   "cell_type": "markdown",
   "metadata": {},
   "source": [
    "Answer: "
   ]
  },
  {
   "cell_type": "markdown",
   "metadata": {},
   "source": [
    "#### Problem 3(d)\n",
    "\n",
    "Take the average for each pollster and then compute the average of that. Given this difference how confident would you have been of an Obama victory?\n",
    "\n",
    "**Hint**: Compute an estimate of the SE of this average based exclusively on the observed data. "
   ]
  },
  {
   "cell_type": "code",
   "execution_count": 34,
   "metadata": {
    "collapsed": true
   },
   "outputs": [],
   "source": [
    "#your code here"
   ]
  },
  {
   "cell_type": "markdown",
   "metadata": {},
   "source": [
    "Answer: "
   ]
  },
  {
   "cell_type": "markdown",
   "metadata": {},
   "source": [
    "#### Problem 3(e)\n",
    "\n",
    "**For AC209 Students**: Show the difference against time and see if you can detect a trend towards the end. Use this trend to see if it improves the final estimate."
   ]
  },
  {
   "cell_type": "code",
   "execution_count": 35,
   "metadata": {
    "collapsed": true
   },
   "outputs": [],
   "source": [
    "#your code here"
   ]
  },
  {
   "cell_type": "markdown",
   "metadata": {},
   "source": [
    "Answer: "
   ]
  },
  {
   "cell_type": "markdown",
   "metadata": {},
   "source": [
    "## Discussion for Problem 3\n",
    "\n",
    "*Write a brief discussion of your conclusions to the questions and tasks above in 100 words or less.*\n",
    "\n",
    "---\n"
   ]
  },
  {
   "cell_type": "markdown",
   "metadata": {},
   "source": [
    "## Problem 4\n",
    "\n",
    "In this last problem, we will use the polls from the [2014 Senate Midterm Elections](http://elections.huffingtonpost.com/pollster) from the [HuffPost Pollster API](http://elections.huffingtonpost.com/pollster/api) to create a preliminary prediction of the result of each state. \n",
    "\n",
    "The HuffPost Pollster API allows you to access the data as a CSV or a JSON response by tacking \".csv\" or \".json\" at the end of the URLs. For example the 2012 Presidential Election could be accessed as a [.json](http://elections.huffingtonpost.com/pollster/2012-general-election-romney-vs-obama.json) instead of a [.csv](http://elections.huffingtonpost.com/pollster/2012-general-election-romney-vs-obama.csv)"
   ]
  },
  {
   "cell_type": "markdown",
   "metadata": {},
   "source": [
    "#### Problem 4(a)\n",
    "\n",
    "Read in the polls for **all** of the 2014 Senate Elections using the HuffPost API. For example, we can consider the [2014 Senate race in Kentucky between Mitch McConnell and Alison Grimes](http://elections.huffingtonpost.com/pollster/2014-kentucky-senate-mcconnell-vs-grimes). \n",
    "\n",
    "To search for the 2014 Senate races, use the `topics` parameter in the API [[read more about topics here](http://elections.huffingtonpost.com/pollster/api)].  "
   ]
  },
  {
   "cell_type": "code",
   "execution_count": 36,
   "metadata": {
    "collapsed": true
   },
   "outputs": [],
   "source": [
    "url_str = \"http://elections.huffingtonpost.com/pollster/api/charts/?topic=2014-senate\""
   ]
  },
  {
   "cell_type": "markdown",
   "metadata": {},
   "source": [
    "To list all the URLs related to the 2014 Senate races using the pollster API, we can use a list comprehension:"
   ]
  },
  {
   "cell_type": "code",
   "execution_count": 37,
   "metadata": {},
   "outputs": [
    {
     "data": {
      "text/plain": [
       "[u'http://elections.huffingtonpost.com/pollster/2014-kentucky-senate-mcconnell-vs-grimes.csv',\n",
       " u'http://elections.huffingtonpost.com/pollster/2014-arkansas-senate-cotton-vs-pryor.csv',\n",
       " u'http://elections.huffingtonpost.com/pollster/2014-michigan-senate-land-vs-peters.csv',\n",
       " u'http://elections.huffingtonpost.com/pollster/2014-louisiana-senate-cassidy-vs-landrieu.csv',\n",
       " u'http://elections.huffingtonpost.com/pollster/2014-new-hampshire-senate-brown-vs-shaheen.csv',\n",
       " u'http://elections.huffingtonpost.com/pollster/2014-west-virginia-senate-capito-vs-tennant.csv',\n",
       " u'http://elections.huffingtonpost.com/pollster/2014-new-hampshire-senate-bass-vs-shaheen.csv',\n",
       " u'http://elections.huffingtonpost.com/pollster/2014-north-carolina-senate-tillis-vs-hagan.csv',\n",
       " u'http://elections.huffingtonpost.com/pollster/2014-virginia-senate-gillespie-vs-warner.csv',\n",
       " u'http://elections.huffingtonpost.com/pollster/2014-colorado-senate-gardner-vs-udall.csv',\n",
       " u'http://elections.huffingtonpost.com/pollster/2014-illinois-senate-oberweis-vs-durbin.csv',\n",
       " u'http://elections.huffingtonpost.com/pollster/2014-alaska-senate-sullivan-vs-begich.csv',\n",
       " u'http://elections.huffingtonpost.com/pollster/2014-iowa-senate-ernst-vs-braley.csv',\n",
       " u'http://elections.huffingtonpost.com/pollster/2014-mississippi-senate-cochran-vs-childers.csv',\n",
       " u'http://elections.huffingtonpost.com/pollster/2014-oregon-senate-wehby-vs-merkley.csv',\n",
       " u'http://elections.huffingtonpost.com/pollster/2014-georgia-senate-perdue-vs-nunn.csv',\n",
       " u'http://elections.huffingtonpost.com/pollster/2014-louisiana-senate-sasse-vs-domina.csv',\n",
       " u'http://elections.huffingtonpost.com/pollster/2014-south-dakota-senate-rounds-vs-weiland.csv',\n",
       " u'http://elections.huffingtonpost.com/pollster/2014-maine-senate-collins-vs-bellows.csv',\n",
       " u'http://elections.huffingtonpost.com/pollster/2014-minnesota-senate-mcfadden-vs-franken.csv',\n",
       " u'http://elections.huffingtonpost.com/pollster/2014-texas-senate-cornyn-vs-alameel.csv',\n",
       " u'http://elections.huffingtonpost.com/pollster/2014-south-carolina-senate-graham-vs-hutto.csv',\n",
       " u'http://elections.huffingtonpost.com/pollster/2014-south-carolina-senate-scott-vs-dickerson.csv',\n",
       " u'http://elections.huffingtonpost.com/pollster/2014-oklahoma-senate-inhofe-vs-silverstein.csv',\n",
       " u'http://elections.huffingtonpost.com/pollster/2014-new-mexico-senate-weh-vs-udall.csv',\n",
       " u'http://elections.huffingtonpost.com/pollster/2014-new-jersey-senate-bell-vs-booker.csv',\n",
       " u'http://elections.huffingtonpost.com/pollster/2014-idaho-senate-risch-vs-mitchell.csv',\n",
       " u'http://elections.huffingtonpost.com/pollster/2014-tennessee-senate-alexander-vs-ball.csv',\n",
       " u'http://elections.huffingtonpost.com/pollster/2014-wyoming-senate.csv',\n",
       " u'http://elections.huffingtonpost.com/pollster/2014-kansas-senate-roberts-vs-orman-vs-taylor.csv',\n",
       " u'http://elections.huffingtonpost.com/pollster/2014-hawaii-senate-cavasso-vs-schatz.csv',\n",
       " u'http://elections.huffingtonpost.com/pollster/2014-oklahoma-senate-lankford-vs-johnson.csv',\n",
       " u'http://elections.huffingtonpost.com/pollster/2014-montana-senate-daines-vs-curtis.csv',\n",
       " u'http://elections.huffingtonpost.com/pollster/2014-rhode-island-senate-zaccaria-vs-reed.csv',\n",
       " u'http://elections.huffingtonpost.com/pollster/2014-massachusetts-senate-herr-vs-markey.csv',\n",
       " u'http://elections.huffingtonpost.com/pollster/2014-delaware-senate-wade-vs-coons.csv']"
      ]
     },
     "execution_count": 37,
     "metadata": {},
     "output_type": "execute_result"
    }
   ],
   "source": [
    "election_urls = [election['url'] + '.csv' for election in requests.get(url_str).json()]\n",
    "election_urls"
   ]
  },
  {
   "cell_type": "markdown",
   "metadata": {},
   "source": [
    "Because there so many Senate races, we can create a dictionary of pandas DataFrames that will be keyed by the name of the election (a string). "
   ]
  },
  {
   "cell_type": "code",
   "execution_count": 38,
   "metadata": {
    "collapsed": true
   },
   "outputs": [],
   "source": [
    "def build_frame(url):\n",
    "    \"\"\"\n",
    "    Returns a pandas DataFrame object containing\n",
    "    the data returned from the given url\n",
    "    \"\"\"\n",
    "    source = requests.get(url).text\n",
    "    \n",
    "    # Use StringIO because pd.DataFrame.from_csv requires .read() method\n",
    "    s = StringIO(source)\n",
    "    \n",
    "    return pd.DataFrame.from_csv(s, index_col=None).convert_objects(\n",
    "            convert_dates=\"coerce\", convert_numeric=True)"
   ]
  },
  {
   "cell_type": "code",
   "execution_count": 39,
   "metadata": {
    "collapsed": true
   },
   "outputs": [],
   "source": [
    "# Makes a dictionary of pandas DataFrames keyed on election string.\n",
    "dfs = dict((election.split(\"/\")[-1][:-4], build_frame(election)) for election in election_urls)"
   ]
  },
  {
   "cell_type": "markdown",
   "metadata": {},
   "source": [
    "Show the head of the DataFrame containing the polls for the 2014 Senate race in Kentucky between McConnell and Grimes."
   ]
  },
  {
   "cell_type": "code",
   "execution_count": 40,
   "metadata": {
    "collapsed": true
   },
   "outputs": [],
   "source": [
    "#your code here"
   ]
  },
  {
   "cell_type": "markdown",
   "metadata": {},
   "source": [
    "#### Problem 4(b)\n",
    "\n",
    "For each 2014 Senate race, create a preliminary prediction of the result for that state."
   ]
  },
  {
   "cell_type": "code",
   "execution_count": 42,
   "metadata": {
    "collapsed": true
   },
   "outputs": [],
   "source": [
    "#your code here"
   ]
  },
  {
   "cell_type": "markdown",
   "metadata": {},
   "source": [
    "# Submission Instructions\n",
    "\n",
    "To submit your homework, create a folder named **lastname_firstinitial_hw#** and place your IPython notebooks, data files, and any other files in this folder. Your IPython Notebooks should be completely executed with the results visible in the notebook. We should not have to run any code.  Compress the folder (please use .zip compression) and submit to the CS109 dropbox in the appropriate folder. *If we cannot access your work because these directions are not followed correctly, we will not grade your work.*\n"
   ]
  },
  {
   "cell_type": "code",
   "execution_count": null,
   "metadata": {
    "collapsed": true
   },
   "outputs": [],
   "source": []
  }
 ],
 "metadata": {
  "kernelspec": {
   "display_name": "Python 2",
   "language": "python",
   "name": "python2"
  },
  "language_info": {
   "codemirror_mode": {
    "name": "ipython",
    "version": 2
   },
   "file_extension": ".py",
   "mimetype": "text/x-python",
   "name": "python",
   "nbconvert_exporter": "python",
   "pygments_lexer": "ipython2",
   "version": "2.7.13"
  }
 },
 "nbformat": 4,
 "nbformat_minor": 1
}
